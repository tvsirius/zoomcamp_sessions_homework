{
 "cells": [
  {
   "cell_type": "code",
   "execution_count": 2,
   "id": "6c84dce9-245f-4e5b-a062-57904c265fdd",
   "metadata": {},
   "outputs": [],
   "source": [
    "# !wget https://github.com/SVizor42/ML_Zoomcamp/releases/download/bee-wasp-data/data.zip"
   ]
  },
  {
   "cell_type": "code",
   "execution_count": 3,
   "id": "492f1a38-ba2a-410a-b62f-01eefc733103",
   "metadata": {},
   "outputs": [],
   "source": [
    "# !unzip data.zip"
   ]
  },
  {
   "cell_type": "code",
   "execution_count": 4,
   "id": "a61c887f-5214-4f26-b424-e69046c7cf24",
   "metadata": {},
   "outputs": [],
   "source": [
    "# !ls"
   ]
  },
  {
   "cell_type": "code",
   "execution_count": 5,
   "id": "8d89f539-3995-4d1b-a456-6b0427b7dee1",
   "metadata": {},
   "outputs": [],
   "source": [
    "DIR_TRAIN_BEE='data/train/bee/'\n",
    "DIR_TRAIN_WASP='data/train/wasp/'\n",
    "DIR_TRAIN='data/train/'\n",
    "DIR_TEST_BEE='data/test/bee/'\n",
    "DIR_TEST_WASP='data/test/wasp/'\n",
    "DIR_TEST='data/test/'\n",
    "input_shape=(150,150)"
   ]
  },
  {
   "cell_type": "code",
   "execution_count": 6,
   "id": "22c3db84-1c0a-45a7-86bb-09b3e2ee5001",
   "metadata": {},
   "outputs": [],
   "source": [
    "import numpy as np\n",
    "import pandas as pd\n",
    "\n",
    "import matplotlib.pyplot as plt\n",
    "%matplotlib inline"
   ]
  },
  {
   "cell_type": "code",
   "execution_count": 7,
   "id": "cc113a18-a084-4e48-83d9-874b67401451",
   "metadata": {},
   "outputs": [
    {
     "name": "stderr",
     "output_type": "stream",
     "text": [
      "2023-11-22 19:40:31.850177: E tensorflow/compiler/xla/stream_executor/cuda/cuda_dnn.cc:9342] Unable to register cuDNN factory: Attempting to register factory for plugin cuDNN when one has already been registered\n",
      "2023-11-22 19:40:31.850218: E tensorflow/compiler/xla/stream_executor/cuda/cuda_fft.cc:609] Unable to register cuFFT factory: Attempting to register factory for plugin cuFFT when one has already been registered\n",
      "2023-11-22 19:40:31.850230: E tensorflow/compiler/xla/stream_executor/cuda/cuda_blas.cc:1518] Unable to register cuBLAS factory: Attempting to register factory for plugin cuBLAS when one has already been registered\n",
      "2023-11-22 19:40:31.854410: I tensorflow/core/platform/cpu_feature_guard.cc:182] This TensorFlow binary is optimized to use available CPU instructions in performance-critical operations.\n",
      "To enable the following instructions: AVX2 FMA, in other operations, rebuild TensorFlow with the appropriate compiler flags.\n"
     ]
    }
   ],
   "source": [
    "import tensorflow as tf\n",
    "from tensorflow import keras\n",
    "from tensorflow.keras import layers, models\n",
    "from tensorflow.keras.preprocessing.image import ImageDataGenerator"
   ]
  },
  {
   "cell_type": "code",
   "execution_count": 8,
   "id": "b19536c1-e029-45fe-9f51-51a94924031f",
   "metadata": {},
   "outputs": [],
   "source": [
    "def create_model():\n",
    "   model = models.Sequential()\n",
    "   model.add(layers.Conv2D(32, (3, 3), activation='relu', input_shape=(150, 150, 3)))\n",
    "   model.add(layers.MaxPooling2D((2, 2)))\n",
    "   model.add(layers.Flatten())\n",
    "   model.add(layers.Dense(64, activation='relu'))\n",
    "   model.add(layers.Dense(1, activation='sigmoid'))\n",
    "   \n",
    "   sgd = tf.keras.optimizers.SGD(learning_rate=0.002, momentum=0.8)\n",
    "   \n",
    "   model.compile(optimizer=sgd,\n",
    "                loss=tf.keras.losses.BinaryCrossentropy(from_logits=True),\n",
    "                metrics=['accuracy'])\n",
    "   \n",
    "   return model\n"
   ]
  },
  {
   "cell_type": "code",
   "execution_count": 61,
   "id": "04d65695-cc56-48e0-9c02-46ea164c75d5",
   "metadata": {},
   "outputs": [],
   "source": [
    "model = create_model()"
   ]
  },
  {
   "cell_type": "code",
   "execution_count": 62,
   "id": "f21ad74d-b460-4c5b-ae46-b1153ad53d67",
   "metadata": {},
   "outputs": [
    {
     "name": "stdout",
     "output_type": "stream",
     "text": [
      "Model: \"sequential_10\"\n",
      "_________________________________________________________________\n",
      " Layer (type)                Output Shape              Param #   \n",
      "=================================================================\n",
      " conv2d_10 (Conv2D)          (None, 148, 148, 32)      896       \n",
      "                                                                 \n",
      " max_pooling2d_10 (MaxPooli  (None, 74, 74, 32)        0         \n",
      " ng2D)                                                           \n",
      "                                                                 \n",
      " flatten_10 (Flatten)        (None, 175232)            0         \n",
      "                                                                 \n",
      " dense_20 (Dense)            (None, 64)                11214912  \n",
      "                                                                 \n",
      " dense_21 (Dense)            (None, 1)                 65        \n",
      "                                                                 \n",
      "=================================================================\n",
      "Total params: 11215873 (42.79 MB)\n",
      "Trainable params: 11215873 (42.79 MB)\n",
      "Non-trainable params: 0 (0.00 Byte)\n",
      "_________________________________________________________________\n"
     ]
    }
   ],
   "source": [
    "model.summary()"
   ]
  },
  {
   "cell_type": "code",
   "execution_count": 63,
   "id": "60ded05e-9cc4-4066-89ef-98988c646de0",
   "metadata": {},
   "outputs": [
    {
     "name": "stdout",
     "output_type": "stream",
     "text": [
      "Found 3677 images belonging to 2 classes.\n",
      "Found 918 images belonging to 2 classes.\n"
     ]
    }
   ],
   "source": [
    "train_datagen = ImageDataGenerator(rescale=1./255)\n",
    "test_datagen = ImageDataGenerator(rescale=1./255)\n",
    "\n",
    "train_generator = train_datagen.flow_from_directory(\n",
    "   DIR_TRAIN,\n",
    "   target_size=(150, 150),\n",
    "   batch_size=20,\n",
    "   class_mode='binary',\n",
    "   shuffle=True)\n",
    "\n",
    "test_generator = test_datagen.flow_from_directory(\n",
    "   DIR_TEST,\n",
    "   target_size=(150, 150),\n",
    "   batch_size=20,\n",
    "   class_mode='binary',\n",
    "   shuffle=True)\n"
   ]
  },
  {
   "cell_type": "code",
   "execution_count": 64,
   "id": "da407739-3f8b-453f-b100-6a0bb9a5b03b",
   "metadata": {},
   "outputs": [
    {
     "name": "stdout",
     "output_type": "stream",
     "text": [
      "Epoch 1/10\n",
      "184/184 [==============================] - 3s 15ms/step - loss: 0.6846 - accuracy: 0.5409 - val_loss: 0.6670 - val_accuracy: 0.5861\n",
      "Epoch 2/10\n",
      "184/184 [==============================] - 3s 16ms/step - loss: 0.6554 - accuracy: 0.5891 - val_loss: 0.6797 - val_accuracy: 0.5806\n",
      "Epoch 3/10\n",
      "184/184 [==============================] - 3s 16ms/step - loss: 0.6279 - accuracy: 0.6413 - val_loss: 0.5999 - val_accuracy: 0.6492\n",
      "Epoch 4/10\n",
      "184/184 [==============================] - 3s 15ms/step - loss: 0.5802 - accuracy: 0.6905 - val_loss: 0.5631 - val_accuracy: 0.7113\n",
      "Epoch 5/10\n",
      "184/184 [==============================] - 3s 15ms/step - loss: 0.5405 - accuracy: 0.7392 - val_loss: 0.5474 - val_accuracy: 0.7429\n",
      "Epoch 6/10\n",
      "184/184 [==============================] - 3s 15ms/step - loss: 0.5152 - accuracy: 0.7580 - val_loss: 0.5514 - val_accuracy: 0.7026\n",
      "Epoch 7/10\n",
      "184/184 [==============================] - 3s 16ms/step - loss: 0.4923 - accuracy: 0.7778 - val_loss: 0.5234 - val_accuracy: 0.7538\n",
      "Epoch 8/10\n",
      "184/184 [==============================] - 3s 16ms/step - loss: 0.4749 - accuracy: 0.7803 - val_loss: 0.5457 - val_accuracy: 0.7146\n",
      "Epoch 9/10\n",
      "184/184 [==============================] - 3s 15ms/step - loss: 0.4503 - accuracy: 0.8009 - val_loss: 0.5149 - val_accuracy: 0.7593\n",
      "Epoch 10/10\n",
      "184/184 [==============================] - 3s 16ms/step - loss: 0.4465 - accuracy: 0.7996 - val_loss: 0.5067 - val_accuracy: 0.7734\n"
     ]
    }
   ],
   "source": [
    "history=model.fit(\n",
    "    train_generator,\n",
    "    epochs=10,\n",
    "    validation_data=test_generator\n",
    ")"
   ]
  },
  {
   "cell_type": "code",
   "execution_count": null,
   "id": "671b8efa-6eed-4ca5-9d47-c514311a4698",
   "metadata": {},
   "outputs": [],
   "source": []
  },
  {
   "cell_type": "code",
   "execution_count": 65,
   "id": "d9871d55-bdf6-4a12-b5aa-0a8a9b09d2e8",
   "metadata": {},
   "outputs": [
    {
     "name": "stdout",
     "output_type": "stream",
     "text": [
      "Median training accuracy:  0.7485722005367279\n"
     ]
    }
   ],
   "source": [
    "# Get the list of accuracy values for each epoch\n",
    "accuracy_values = history.history['accuracy']\n",
    "\n",
    "# Calculate the median of the accuracy values\n",
    "median_accuracy = np.median(accuracy_values)\n",
    "\n",
    "print(\"Median training accuracy: \", median_accuracy)"
   ]
  },
  {
   "cell_type": "code",
   "execution_count": 66,
   "id": "5b526747-20cf-450d-845d-6b6441dad988",
   "metadata": {},
   "outputs": [
    {
     "name": "stdout",
     "output_type": "stream",
     "text": [
      "Standard deviation of training loss:  0.08186884051831032\n"
     ]
    }
   ],
   "source": [
    "loss_values = history.history['loss']\n",
    "\n",
    "# Calculate the standard deviation of the loss values\n",
    "std_dev_loss = np.std(loss_values)\n",
    "\n",
    "print(\"Standard deviation of training loss: \", std_dev_loss)"
   ]
  },
  {
   "cell_type": "code",
   "execution_count": 67,
   "id": "8c4619e7-21f6-4e9f-a9db-21b149915391",
   "metadata": {},
   "outputs": [
    {
     "name": "stdout",
     "output_type": "stream",
     "text": [
      "Found 3677 images belonging to 2 classes.\n",
      "Found 918 images belonging to 2 classes.\n"
     ]
    }
   ],
   "source": [
    "train_datagen_ag = ImageDataGenerator(rescale=1./255,\n",
    "                rotation_range=50,\n",
    "                width_shift_range=0.1,\n",
    "                height_shift_range=0.1,\n",
    "                zoom_range=0.1,\n",
    "                horizontal_flip=True,\n",
    "                fill_mode='nearest')\n",
    "test_datagen = ImageDataGenerator(rescale=1./255)\n",
    "\n",
    "train_generator_ag = train_datagen_ag.flow_from_directory(\n",
    "   DIR_TRAIN,\n",
    "   target_size=(150, 150),\n",
    "   batch_size=20,\n",
    "   class_mode='binary',\n",
    "   shuffle=True)\n",
    "\n",
    "test_generator = test_datagen.flow_from_directory(\n",
    "   DIR_TEST,\n",
    "   target_size=(150, 150),\n",
    "   batch_size=20,\n",
    "   class_mode='binary',\n",
    "   shuffle=True)\n"
   ]
  },
  {
   "cell_type": "code",
   "execution_count": 68,
   "id": "d36fbeb3-d9ca-4c44-b7ad-b1ae91b9d80d",
   "metadata": {},
   "outputs": [
    {
     "name": "stdout",
     "output_type": "stream",
     "text": [
      "Epoch 1/10\n",
      "184/184 [==============================] - 10s 51ms/step - loss: 0.5013 - accuracy: 0.7691 - val_loss: 0.5010 - val_accuracy: 0.7593\n",
      "Epoch 2/10\n",
      "184/184 [==============================] - 9s 49ms/step - loss: 0.4896 - accuracy: 0.7764 - val_loss: 0.4761 - val_accuracy: 0.7691\n",
      "Epoch 3/10\n",
      "184/184 [==============================] - 9s 50ms/step - loss: 0.4881 - accuracy: 0.7732 - val_loss: 0.4757 - val_accuracy: 0.7810\n",
      "Epoch 4/10\n",
      "184/184 [==============================] - 9s 50ms/step - loss: 0.4893 - accuracy: 0.7721 - val_loss: 0.5312 - val_accuracy: 0.7397\n",
      "Epoch 5/10\n",
      "184/184 [==============================] - 9s 50ms/step - loss: 0.4768 - accuracy: 0.7819 - val_loss: 0.5088 - val_accuracy: 0.7614\n",
      "Epoch 6/10\n",
      "184/184 [==============================] - 9s 50ms/step - loss: 0.4725 - accuracy: 0.7819 - val_loss: 0.5248 - val_accuracy: 0.7527\n",
      "Epoch 7/10\n",
      "184/184 [==============================] - 9s 50ms/step - loss: 0.4639 - accuracy: 0.7871 - val_loss: 0.4867 - val_accuracy: 0.7745\n",
      "Epoch 8/10\n",
      "184/184 [==============================] - 9s 51ms/step - loss: 0.4711 - accuracy: 0.7854 - val_loss: 0.4935 - val_accuracy: 0.7636\n",
      "Epoch 9/10\n",
      "184/184 [==============================] - 9s 50ms/step - loss: 0.4591 - accuracy: 0.7887 - val_loss: 0.4615 - val_accuracy: 0.7843\n",
      "Epoch 10/10\n",
      "184/184 [==============================] - 9s 51ms/step - loss: 0.4574 - accuracy: 0.7930 - val_loss: 0.4593 - val_accuracy: 0.7854\n"
     ]
    }
   ],
   "source": [
    "history=model.fit(\n",
    "    train_generator_ag,\n",
    "    epochs=10,\n",
    "    validation_data=test_generator\n",
    ")"
   ]
  },
  {
   "cell_type": "code",
   "execution_count": 69,
   "id": "00959399-92e6-497d-928c-9834093bee1e",
   "metadata": {},
   "outputs": [
    {
     "name": "stdout",
     "output_type": "stream",
     "text": [
      "Mean validation loss:  0.4918523639440536\n"
     ]
    }
   ],
   "source": [
    "val_loss_values = history.history['val_loss']\n",
    "\n",
    "\n",
    "mean_val_loss = np.mean(val_loss_values)\n",
    "\n",
    "print(\"Mean validation loss: \", mean_val_loss)"
   ]
  },
  {
   "cell_type": "code",
   "execution_count": 70,
   "id": "e4f6bd10-d96c-4e5e-bc9a-3822743fb7cf",
   "metadata": {},
   "outputs": [
    {
     "data": {
      "text/plain": [
       "0.772113299369812"
      ]
     },
     "execution_count": 70,
     "metadata": {},
     "output_type": "execute_result"
    }
   ],
   "source": [
    "test_accuracy_values = history.history['val_accuracy'][5:]\n",
    "\n",
    "np.mean(test_accuracy_values)"
   ]
  },
  {
   "cell_type": "code",
   "execution_count": null,
   "id": "f455be3b-0e58-4aba-a31c-74a8c43fc1bf",
   "metadata": {},
   "outputs": [],
   "source": []
  },
  {
   "cell_type": "code",
   "execution_count": 53,
   "id": "ef619897-b49f-4b32-b061-58ce9c768a65",
   "metadata": {},
   "outputs": [
    {
     "data": {
      "text/plain": [
       "{'loss': [0.6910605430603027,\n",
       "  0.6753612160682678,\n",
       "  0.6544091105461121,\n",
       "  0.6229560971260071,\n",
       "  0.5885480642318726,\n",
       "  0.5679607391357422,\n",
       "  0.5465046763420105,\n",
       "  0.5441578030586243,\n",
       "  0.5232158899307251,\n",
       "  0.5248780846595764],\n",
       " 'accuracy': [0.5392983555793762,\n",
       "  0.5700299143791199,\n",
       "  0.6007614731788635,\n",
       "  0.6521620750427246,\n",
       "  0.6877889633178711,\n",
       "  0.7111775875091553,\n",
       "  0.7359260320663452,\n",
       "  0.7478923201560974,\n",
       "  0.7614903450012207,\n",
       "  0.7552352547645569],\n",
       " 'val_loss': [0.707446277141571,\n",
       "  0.6512184143066406,\n",
       "  0.6149158477783203,\n",
       "  0.5774254202842712,\n",
       "  0.569033145904541,\n",
       "  0.5411583781242371,\n",
       "  0.5235651135444641,\n",
       "  0.5278999209403992,\n",
       "  0.5068790912628174,\n",
       "  0.5148460268974304],\n",
       " 'val_accuracy': [0.5370370149612427,\n",
       "  0.56971675157547,\n",
       "  0.6623093485832214,\n",
       "  0.6960784196853638,\n",
       "  0.6895424723625183,\n",
       "  0.7549019455909729,\n",
       "  0.7603485584259033,\n",
       "  0.7331154942512512,\n",
       "  0.7614378929138184,\n",
       "  0.7494553327560425]}"
      ]
     },
     "execution_count": 53,
     "metadata": {},
     "output_type": "execute_result"
    }
   ],
   "source": [
    "history.history"
   ]
  },
  {
   "cell_type": "code",
   "execution_count": null,
   "id": "7965b2b2-424e-41ff-9b06-e664d3b5d121",
   "metadata": {},
   "outputs": [],
   "source": []
  }
 ],
 "metadata": {
  "kernelspec": {
   "display_name": "Python 3 (ipykernel)",
   "language": "python",
   "name": "python3"
  },
  "language_info": {
   "codemirror_mode": {
    "name": "ipython",
    "version": 3
   },
   "file_extension": ".py",
   "mimetype": "text/x-python",
   "name": "python",
   "nbconvert_exporter": "python",
   "pygments_lexer": "ipython3",
   "version": "3.10.12"
  }
 },
 "nbformat": 4,
 "nbformat_minor": 5
}
