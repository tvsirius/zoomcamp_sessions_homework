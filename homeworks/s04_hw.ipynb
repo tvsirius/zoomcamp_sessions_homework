{
 "cells": [
  {
   "cell_type": "code",
   "execution_count": 30,
   "metadata": {
    "collapsed": true,
    "pycharm": {
     "name": "#%%\n"
    }
   },
   "outputs": [],
   "source": [
    "from sklearn.model_selection import train_test_split\n",
    "from sklearn.feature_extraction import DictVectorizer\n",
    "from sklearn.linear_model import LogisticRegression\n",
    "import pandas as pd\n",
    "import numpy as np\n",
    "from sklearn.metrics import mutual_info_score\n",
    "\n",
    "\n",
    "import seaborn as sns\n",
    "from matplotlib import pyplot as plt\n",
    "%matplotlib inline"
   ]
  },
  {
   "cell_type": "code",
   "execution_count": 2,
   "outputs": [],
   "source": [
    "df = pd.read_csv('data.csv')"
   ],
   "metadata": {
    "collapsed": false,
    "pycharm": {
     "name": "#%%\n"
    }
   }
  },
  {
   "cell_type": "code",
   "execution_count": 31,
   "outputs": [],
   "source": [
    "url = 'https://raw.githubusercontent.com/alexeygrigorev/mlbookcamp-code/master/chapter-02-car-price/data.csv'\n",
    "df = pd.read_csv(url)"
   ],
   "metadata": {
    "collapsed": false,
    "pycharm": {
     "name": "#%%\n"
    }
   }
  },
  {
   "cell_type": "code",
   "execution_count": 32,
   "outputs": [
    {
     "data": {
      "text/plain": "11914"
     },
     "execution_count": 32,
     "metadata": {},
     "output_type": "execute_result"
    }
   ],
   "source": [
    "len(df)"
   ],
   "metadata": {
    "collapsed": false,
    "pycharm": {
     "name": "#%%\n"
    }
   }
  },
  {
   "cell_type": "code",
   "execution_count": 33,
   "outputs": [],
   "source": [
    "selected_columns=[\n",
    "'Make','Model','Year','Engine HP','Engine Cylinders','Transmission Type','Vehicle Style','highway MPG','city mpg','MSRP'\n",
    "]\n"
   ],
   "metadata": {
    "collapsed": false,
    "pycharm": {
     "name": "#%%\n"
    }
   }
  },
  {
   "cell_type": "code",
   "execution_count": 34,
   "outputs": [],
   "source": [
    "df_sel=df[selected_columns]"
   ],
   "metadata": {
    "collapsed": false,
    "pycharm": {
     "name": "#%%\n"
    }
   }
  },
  {
   "cell_type": "code",
   "execution_count": 35,
   "outputs": [
    {
     "data": {
      "text/plain": "make                  0\nmodel                 0\nyear                  0\nengine_hp            69\nengine_cylinders     30\ntransmission_type     0\nvehicle_style         0\nhighway_mpg           0\ncity_mpg              0\nmsrp                  0\ndtype: int64"
     },
     "execution_count": 35,
     "metadata": {},
     "output_type": "execute_result"
    }
   ],
   "source": [
    "data=df_sel\n",
    "data.columns = data.columns.str.replace(' ', '_').str.lower()\n",
    "data.isnull().sum()"
   ],
   "metadata": {
    "collapsed": false,
    "pycharm": {
     "name": "#%%\n"
    }
   }
  },
  {
   "cell_type": "code",
   "execution_count": 36,
   "outputs": [],
   "source": [
    "data=data.fillna(0)"
   ],
   "metadata": {
    "collapsed": false,
    "pycharm": {
     "name": "#%%\n"
    }
   }
  },
  {
   "cell_type": "code",
   "execution_count": 37,
   "outputs": [],
   "source": [
    "data.rename(columns={'msrp':'price'},inplace=True)"
   ],
   "metadata": {
    "collapsed": false,
    "pycharm": {
     "name": "#%%\n"
    }
   }
  },
  {
   "cell_type": "code",
   "execution_count": 38,
   "outputs": [],
   "source": [
    "price_mean = data.price.mean()\n",
    "price_mean\n",
    "\n",
    "data['above_average']=(data.price>price_mean).astype(int)"
   ],
   "metadata": {
    "collapsed": false,
    "pycharm": {
     "name": "#%%\n"
    }
   }
  },
  {
   "cell_type": "code",
   "execution_count": 39,
   "outputs": [
    {
     "data": {
      "text/plain": "          make       model  year  engine_hp  engine_cylinders  \\\n0          BMW  1 Series M  2011      335.0               6.0   \n1          BMW    1 Series  2011      300.0               6.0   \n2          BMW    1 Series  2011      300.0               6.0   \n3          BMW    1 Series  2011      230.0               6.0   \n4          BMW    1 Series  2011      230.0               6.0   \n...        ...         ...   ...        ...               ...   \n11909    Acura         ZDX  2012      300.0               6.0   \n11910    Acura         ZDX  2012      300.0               6.0   \n11911    Acura         ZDX  2012      300.0               6.0   \n11912    Acura         ZDX  2013      300.0               6.0   \n11913  Lincoln      Zephyr  2006      221.0               6.0   \n\n      transmission_type  vehicle_style  highway_mpg  city_mpg  price  \\\n0                MANUAL          Coupe           26        19  46135   \n1                MANUAL    Convertible           28        19  40650   \n2                MANUAL          Coupe           28        20  36350   \n3                MANUAL          Coupe           28        18  29450   \n4                MANUAL    Convertible           28        18  34500   \n...                 ...            ...          ...       ...    ...   \n11909         AUTOMATIC  4dr Hatchback           23        16  46120   \n11910         AUTOMATIC  4dr Hatchback           23        16  56670   \n11911         AUTOMATIC  4dr Hatchback           23        16  50620   \n11912         AUTOMATIC  4dr Hatchback           23        16  50920   \n11913         AUTOMATIC          Sedan           26        17  28995   \n\n       above_average  \n0                  1  \n1                  1  \n2                  0  \n3                  0  \n4                  0  \n...              ...  \n11909              1  \n11910              1  \n11911              1  \n11912              1  \n11913              0  \n\n[11914 rows x 11 columns]",
      "text/html": "<div>\n<style scoped>\n    .dataframe tbody tr th:only-of-type {\n        vertical-align: middle;\n    }\n\n    .dataframe tbody tr th {\n        vertical-align: top;\n    }\n\n    .dataframe thead th {\n        text-align: right;\n    }\n</style>\n<table border=\"1\" class=\"dataframe\">\n  <thead>\n    <tr style=\"text-align: right;\">\n      <th></th>\n      <th>make</th>\n      <th>model</th>\n      <th>year</th>\n      <th>engine_hp</th>\n      <th>engine_cylinders</th>\n      <th>transmission_type</th>\n      <th>vehicle_style</th>\n      <th>highway_mpg</th>\n      <th>city_mpg</th>\n      <th>price</th>\n      <th>above_average</th>\n    </tr>\n  </thead>\n  <tbody>\n    <tr>\n      <th>0</th>\n      <td>BMW</td>\n      <td>1 Series M</td>\n      <td>2011</td>\n      <td>335.0</td>\n      <td>6.0</td>\n      <td>MANUAL</td>\n      <td>Coupe</td>\n      <td>26</td>\n      <td>19</td>\n      <td>46135</td>\n      <td>1</td>\n    </tr>\n    <tr>\n      <th>1</th>\n      <td>BMW</td>\n      <td>1 Series</td>\n      <td>2011</td>\n      <td>300.0</td>\n      <td>6.0</td>\n      <td>MANUAL</td>\n      <td>Convertible</td>\n      <td>28</td>\n      <td>19</td>\n      <td>40650</td>\n      <td>1</td>\n    </tr>\n    <tr>\n      <th>2</th>\n      <td>BMW</td>\n      <td>1 Series</td>\n      <td>2011</td>\n      <td>300.0</td>\n      <td>6.0</td>\n      <td>MANUAL</td>\n      <td>Coupe</td>\n      <td>28</td>\n      <td>20</td>\n      <td>36350</td>\n      <td>0</td>\n    </tr>\n    <tr>\n      <th>3</th>\n      <td>BMW</td>\n      <td>1 Series</td>\n      <td>2011</td>\n      <td>230.0</td>\n      <td>6.0</td>\n      <td>MANUAL</td>\n      <td>Coupe</td>\n      <td>28</td>\n      <td>18</td>\n      <td>29450</td>\n      <td>0</td>\n    </tr>\n    <tr>\n      <th>4</th>\n      <td>BMW</td>\n      <td>1 Series</td>\n      <td>2011</td>\n      <td>230.0</td>\n      <td>6.0</td>\n      <td>MANUAL</td>\n      <td>Convertible</td>\n      <td>28</td>\n      <td>18</td>\n      <td>34500</td>\n      <td>0</td>\n    </tr>\n    <tr>\n      <th>...</th>\n      <td>...</td>\n      <td>...</td>\n      <td>...</td>\n      <td>...</td>\n      <td>...</td>\n      <td>...</td>\n      <td>...</td>\n      <td>...</td>\n      <td>...</td>\n      <td>...</td>\n      <td>...</td>\n    </tr>\n    <tr>\n      <th>11909</th>\n      <td>Acura</td>\n      <td>ZDX</td>\n      <td>2012</td>\n      <td>300.0</td>\n      <td>6.0</td>\n      <td>AUTOMATIC</td>\n      <td>4dr Hatchback</td>\n      <td>23</td>\n      <td>16</td>\n      <td>46120</td>\n      <td>1</td>\n    </tr>\n    <tr>\n      <th>11910</th>\n      <td>Acura</td>\n      <td>ZDX</td>\n      <td>2012</td>\n      <td>300.0</td>\n      <td>6.0</td>\n      <td>AUTOMATIC</td>\n      <td>4dr Hatchback</td>\n      <td>23</td>\n      <td>16</td>\n      <td>56670</td>\n      <td>1</td>\n    </tr>\n    <tr>\n      <th>11911</th>\n      <td>Acura</td>\n      <td>ZDX</td>\n      <td>2012</td>\n      <td>300.0</td>\n      <td>6.0</td>\n      <td>AUTOMATIC</td>\n      <td>4dr Hatchback</td>\n      <td>23</td>\n      <td>16</td>\n      <td>50620</td>\n      <td>1</td>\n    </tr>\n    <tr>\n      <th>11912</th>\n      <td>Acura</td>\n      <td>ZDX</td>\n      <td>2013</td>\n      <td>300.0</td>\n      <td>6.0</td>\n      <td>AUTOMATIC</td>\n      <td>4dr Hatchback</td>\n      <td>23</td>\n      <td>16</td>\n      <td>50920</td>\n      <td>1</td>\n    </tr>\n    <tr>\n      <th>11913</th>\n      <td>Lincoln</td>\n      <td>Zephyr</td>\n      <td>2006</td>\n      <td>221.0</td>\n      <td>6.0</td>\n      <td>AUTOMATIC</td>\n      <td>Sedan</td>\n      <td>26</td>\n      <td>17</td>\n      <td>28995</td>\n      <td>0</td>\n    </tr>\n  </tbody>\n</table>\n<p>11914 rows × 11 columns</p>\n</div>"
     },
     "execution_count": 39,
     "metadata": {},
     "output_type": "execute_result"
    }
   ],
   "source": [
    "data"
   ],
   "metadata": {
    "collapsed": false,
    "pycharm": {
     "name": "#%%\n"
    }
   }
  },
  {
   "cell_type": "code",
   "execution_count": 40,
   "outputs": [],
   "source": [
    "work_data=data.copy()"
   ],
   "metadata": {
    "collapsed": false,
    "pycharm": {
     "name": "#%%\n"
    }
   }
  },
  {
   "cell_type": "code",
   "execution_count": 41,
   "outputs": [],
   "source": [
    "work_data['city_mpg']=work_data['city_mpg']\n",
    "work_data['highway_mpg']=work_data['highway_mpg']"
   ],
   "metadata": {
    "collapsed": false,
    "pycharm": {
     "name": "#%%\n"
    }
   }
  },
  {
   "cell_type": "code",
   "execution_count": 42,
   "outputs": [],
   "source": [
    "df_train_full, df_test = train_test_split(work_data, test_size=0.2, random_state=1)\n",
    "df_train, df_val = train_test_split(df_train_full, test_size=0.25, random_state=1)\n",
    "\n",
    "assert len(data)==sum((len(df_train),len(df_val),len(df_test)))"
   ],
   "metadata": {
    "collapsed": false,
    "pycharm": {
     "name": "#%%\n"
    }
   }
  },
  {
   "cell_type": "code",
   "execution_count": 43,
   "outputs": [
    {
     "data": {
      "text/plain": "(7148, 2383, 2383)"
     },
     "execution_count": 43,
     "metadata": {},
     "output_type": "execute_result"
    }
   ],
   "source": [
    "len(df_train),len(df_val),len(df_test)"
   ],
   "metadata": {
    "collapsed": false,
    "pycharm": {
     "name": "#%%\n"
    }
   }
  },
  {
   "cell_type": "code",
   "execution_count": 44,
   "outputs": [],
   "source": [
    "del df_train_full['price']\n",
    "del df_train['price']\n",
    "del df_val['price']\n",
    "del df_test['price']"
   ],
   "metadata": {
    "collapsed": false,
    "pycharm": {
     "name": "#%%\n"
    }
   }
  },
  {
   "cell_type": "code",
   "execution_count": 45,
   "outputs": [],
   "source": [
    "y_train = df_train.above_average.values\n",
    "y_val = df_val.above_average.values\n",
    "y_test = df_test.above_average.values"
   ],
   "metadata": {
    "collapsed": false,
    "pycharm": {
     "name": "#%%\n"
    }
   }
  },
  {
   "cell_type": "code",
   "execution_count": 45,
   "outputs": [],
   "source": [],
   "metadata": {
    "collapsed": false,
    "pycharm": {
     "name": "#%%\n"
    }
   }
  },
  {
   "cell_type": "code",
   "execution_count": 46,
   "outputs": [],
   "source": [
    "categorical=['make', 'model','transmission_type', 'vehicle_style']\n",
    "numerical=['year', 'engine_hp', 'engine_cylinders','highway_mpg', 'city_mpg']"
   ],
   "metadata": {
    "collapsed": false,
    "pycharm": {
     "name": "#%%\n"
    }
   }
  },
  {
   "cell_type": "code",
   "execution_count": 47,
   "outputs": [],
   "source": [
    "df_train = df_train.reset_index(drop=True)\n",
    "df_val = df_val.reset_index(drop=True)\n",
    "df_test = df_test.reset_index(drop=True)"
   ],
   "metadata": {
    "collapsed": false,
    "pycharm": {
     "name": "#%%\n"
    }
   }
  },
  {
   "cell_type": "code",
   "execution_count": 47,
   "outputs": [],
   "source": [],
   "metadata": {
    "collapsed": false,
    "pycharm": {
     "name": "#%%\n"
    }
   }
  },
  {
   "cell_type": "code",
   "execution_count": 48,
   "outputs": [
    {
     "data": {
      "text/plain": "<Figure size 640x480 with 1 Axes>",
      "image/png": "[encoded data removed]"
     },
     "metadata": {},
     "output_type": "display_data"
    },
    {
     "name": "stdout",
     "output_type": "stream",
     "text": [
      "{'year': 0.687551492804683, 'engine_hp': 0.9171031265539011, 'engine_cylinders': 0.766116490165669, 'highway_mpg': 0.6330587871772013, 'city_mpg': 0.6734244643245233}\n"
     ]
    }
   ],
   "source": [
    "from sklearn.metrics import roc_auc_score,roc_curve\n",
    "scores={}\n",
    "colors = ['b', 'g', 'r', 'c', 'm']\n",
    "neg_num_features=['highway_mpg', 'city_mpg']\n",
    "for feature in numerical:\n",
    "    if feature in neg_num_features:\n",
    "        neg_mod=-1\n",
    "    else:\n",
    "        neg_mod=1\n",
    "    fpr, tpr, thresholds = roc_curve(df_train['above_average'].values,neg_mod*df_train[feature].values)\n",
    "    scores[feature]=roc_auc_score(df_train['above_average'].values,neg_mod*df_train[feature].values)\n",
    "    plt.plot(fpr, tpr, color=colors[numerical.index(feature)], label=f'{feature} (AUC = {scores[feature]:.2f})')\n",
    "\n",
    "plt.xlabel('False Positive Rate')\n",
    "plt.ylabel('True Positive Rate')\n",
    "plt.title('ROC Curves')\n",
    "plt.legend(loc='lower right')\n",
    "\n",
    "# Show the plot\n",
    "plt.show()\n",
    "\n",
    "print(scores)"
   ],
   "metadata": {
    "collapsed": false,
    "pycharm": {
     "name": "#%%\n"
    }
   }
  },
  {
   "cell_type": "code",
   "execution_count": 49,
   "outputs": [
    {
     "data": {
      "text/plain": "            make              model  year  engine_hp  engine_cylinders  \\\n0         Toyota  Highlander Hybrid  2016      280.0               6.0   \n1      Chevrolet     Impala Limited  2014      300.0               6.0   \n2          Buick              Regal  2016      259.0               4.0   \n3     Volkswagen                 CC  2015      280.0               6.0   \n4          Dodge      Grand Caravan  2016      283.0               6.0   \n...          ...                ...   ...        ...               ...   \n7143      Subaru            Impreza  2015      148.0               4.0   \n7144    Infiniti               QX50  2016      325.0               6.0   \n7145       Honda                Fit  2017      130.0               4.0   \n7146        Audi                200  1991      162.0               5.0   \n7147    Infiniti                QX4  2003      240.0               6.0   \n\n     transmission_type      vehicle_style  highway_mpg  city_mpg  \\\n0            AUTOMATIC            4dr SUV           28        27   \n1            AUTOMATIC              Sedan           30        18   \n2            AUTOMATIC              Sedan           27        19   \n3     AUTOMATED_MANUAL              Sedan           25        17   \n4            AUTOMATIC  Passenger Minivan           25        17   \n...                ...                ...          ...       ...   \n7143            MANUAL      4dr Hatchback           33        24   \n7144         AUTOMATIC            4dr SUV           24        17   \n7145         AUTOMATIC      4dr Hatchback           37        32   \n7146         AUTOMATIC              Sedan           20        16   \n7147         AUTOMATIC            4dr SUV           18        14   \n\n      above_average  \n0                 1  \n1                 0  \n2                 0  \n3                 1  \n4                 0  \n...             ...  \n7143              0  \n7144              0  \n7145              0  \n7146              0  \n7147              0  \n\n[7148 rows x 10 columns]",
      "text/html": "<div>\n<style scoped>\n    .dataframe tbody tr th:only-of-type {\n        vertical-align: middle;\n    }\n\n    .dataframe tbody tr th {\n        vertical-align: top;\n    }\n\n    .dataframe thead th {\n        text-align: right;\n    }\n</style>\n<table border=\"1\" class=\"dataframe\">\n  <thead>\n    <tr style=\"text-align: right;\">\n      <th></th>\n      <th>make</th>\n      <th>model</th>\n      <th>year</th>\n      <th>engine_hp</th>\n      <th>engine_cylinders</th>\n      <th>transmission_type</th>\n      <th>vehicle_style</th>\n      <th>highway_mpg</th>\n      <th>city_mpg</th>\n      <th>above_average</th>\n    </tr>\n  </thead>\n  <tbody>\n    <tr>\n      <th>0</th>\n      <td>Toyota</td>\n      <td>Highlander Hybrid</td>\n      <td>2016</td>\n      <td>280.0</td>\n      <td>6.0</td>\n      <td>AUTOMATIC</td>\n      <td>4dr SUV</td>\n      <td>28</td>\n      <td>27</td>\n      <td>1</td>\n    </tr>\n    <tr>\n      <th>1</th>\n      <td>Chevrolet</td>\n      <td>Impala Limited</td>\n      <td>2014</td>\n      <td>300.0</td>\n      <td>6.0</td>\n      <td>AUTOMATIC</td>\n      <td>Sedan</td>\n      <td>30</td>\n      <td>18</td>\n      <td>0</td>\n    </tr>\n    <tr>\n      <th>2</th>\n      <td>Buick</td>\n      <td>Regal</td>\n      <td>2016</td>\n      <td>259.0</td>\n      <td>4.0</td>\n      <td>AUTOMATIC</td>\n      <td>Sedan</td>\n      <td>27</td>\n      <td>19</td>\n      <td>0</td>\n    </tr>\n    <tr>\n      <th>3</th>\n      <td>Volkswagen</td>\n      <td>CC</td>\n      <td>2015</td>\n      <td>280.0</td>\n      <td>6.0</td>\n      <td>AUTOMATED_MANUAL</td>\n      <td>Sedan</td>\n      <td>25</td>\n      <td>17</td>\n      <td>1</td>\n    </tr>\n    <tr>\n      <th>4</th>\n      <td>Dodge</td>\n      <td>Grand Caravan</td>\n      <td>2016</td>\n      <td>283.0</td>\n      <td>6.0</td>\n      <td>AUTOMATIC</td>\n      <td>Passenger Minivan</td>\n      <td>25</td>\n      <td>17</td>\n      <td>0</td>\n    </tr>\n    <tr>\n      <th>...</th>\n      <td>...</td>\n      <td>...</td>\n      <td>...</td>\n      <td>...</td>\n      <td>...</td>\n      <td>...</td>\n      <td>...</td>\n      <td>...</td>\n      <td>...</td>\n      <td>...</td>\n    </tr>\n    <tr>\n      <th>7143</th>\n      <td>Subaru</td>\n      <td>Impreza</td>\n      <td>2015</td>\n      <td>148.0</td>\n      <td>4.0</td>\n      <td>MANUAL</td>\n      <td>4dr Hatchback</td>\n      <td>33</td>\n      <td>24</td>\n      <td>0</td>\n    </tr>\n    <tr>\n      <th>7144</th>\n      <td>Infiniti</td>\n      <td>QX50</td>\n      <td>2016</td>\n      <td>325.0</td>\n      <td>6.0</td>\n      <td>AUTOMATIC</td>\n      <td>4dr SUV</td>\n      <td>24</td>\n      <td>17</td>\n      <td>0</td>\n    </tr>\n    <tr>\n      <th>7145</th>\n      <td>Honda</td>\n      <td>Fit</td>\n      <td>2017</td>\n      <td>130.0</td>\n      <td>4.0</td>\n      <td>AUTOMATIC</td>\n      <td>4dr Hatchback</td>\n      <td>37</td>\n      <td>32</td>\n      <td>0</td>\n    </tr>\n    <tr>\n      <th>7146</th>\n      <td>Audi</td>\n      <td>200</td>\n      <td>1991</td>\n      <td>162.0</td>\n      <td>5.0</td>\n      <td>AUTOMATIC</td>\n      <td>Sedan</td>\n      <td>20</td>\n      <td>16</td>\n      <td>0</td>\n    </tr>\n    <tr>\n      <th>7147</th>\n      <td>Infiniti</td>\n      <td>QX4</td>\n      <td>2003</td>\n      <td>240.0</td>\n      <td>6.0</td>\n      <td>AUTOMATIC</td>\n      <td>4dr SUV</td>\n      <td>18</td>\n      <td>14</td>\n      <td>0</td>\n    </tr>\n  </tbody>\n</table>\n<p>7148 rows × 10 columns</p>\n</div>"
     },
     "execution_count": 49,
     "metadata": {},
     "output_type": "execute_result"
    }
   ],
   "source": [
    "df_train"
   ],
   "metadata": {
    "collapsed": false,
    "pycharm": {
     "name": "#%%\n"
    }
   }
  },
  {
   "cell_type": "code",
   "execution_count": 50,
   "outputs": [],
   "source": [
    "del df_train['above_average']\n",
    "del df_test['above_average']\n",
    "del df_val['above_average']"
   ],
   "metadata": {
    "collapsed": false,
    "pycharm": {
     "name": "#%%\n"
    }
   }
  },
  {
   "cell_type": "code",
   "execution_count": 51,
   "outputs": [],
   "source": [
    "\n",
    "\n",
    "dv=DictVectorizer(sparse=True)\n",
    "\n",
    "dict_train=df_train.to_dict(orient='records')\n",
    "dict_val=df_val.to_dict(orient='records')\n",
    "dict_test=df_test.to_dict(orient='records')\n",
    "\n",
    "X_train=dv.fit_transform(dict_train)\n",
    "\n",
    "X_val=dv.transform(dict_val)\n",
    "X_test=dv.transform(dict_test)"
   ],
   "metadata": {
    "collapsed": false,
    "pycharm": {
     "name": "#%%\n"
    }
   }
  },
  {
   "cell_type": "code",
   "execution_count": 52,
   "outputs": [
    {
     "data": {
      "text/plain": "array(['city_mpg', 'engine_cylinders', 'engine_hp', 'highway_mpg',\n       'make=Acura', 'make=Alfa Romeo', 'make=Aston Martin', 'make=Audi',\n       'make=BMW', 'make=Bentley', 'make=Bugatti', 'make=Buick',\n       'make=Cadillac', 'make=Chevrolet', 'make=Chrysler', 'make=Dodge',\n       'make=FIAT', 'make=Ferrari', 'make=Ford', 'make=GMC',\n       'make=Genesis', 'make=HUMMER', 'make=Honda', 'make=Hyundai',\n       'make=Infiniti', 'make=Kia', 'make=Lamborghini', 'make=Land Rover',\n       'make=Lexus', 'make=Lincoln', 'make=Lotus', 'make=Maserati',\n       'make=Maybach', 'make=Mazda', 'make=McLaren', 'make=Mercedes-Benz',\n       'make=Mitsubishi', 'make=Nissan', 'make=Oldsmobile',\n       'make=Plymouth', 'make=Pontiac', 'make=Porsche',\n       'make=Rolls-Royce', 'make=Saab', 'make=Scion', 'make=Spyker',\n       'make=Subaru', 'make=Suzuki', 'make=Tesla', 'make=Toyota',\n       'make=Volkswagen', 'make=Volvo', 'model=1 Series',\n       'model=1 Series M', 'model=100', 'model=124 Spider',\n       'model=190-Class', 'model=2', 'model=2 Series', 'model=200',\n       'model=200SX', 'model=240', 'model=240SX', 'model=3',\n       'model=3 Series', 'model=3 Series Gran Turismo', 'model=300',\n       'model=300-Class', 'model=3000GT', 'model=300M', 'model=300ZX',\n       'model=323', 'model=350-Class', 'model=350Z', 'model=360',\n       'model=370Z', 'model=4 Series', 'model=4 Series Gran Coupe',\n       'model=400-Class', 'model=420-Class', 'model=456M',\n       'model=458 Italia', 'model=4C', 'model=4Runner', 'model=5',\n       'model=5 Series', 'model=5 Series Gran Turismo', 'model=500',\n       'model=500-Class', 'model=500L', 'model=500X', 'model=500e',\n       'model=550', 'model=560-Class', 'model=57', 'model=575M',\n       'model=599', 'model=6', 'model=6 Series',\n       'model=6 Series Gran Coupe', 'model=600-Class', 'model=6000',\n       'model=612 Scaglietti', 'model=62', 'model=626',\n       'model=650S Coupe', 'model=7 Series', 'model=718 Cayman',\n       'model=740', 'model=760', 'model=780', 'model=8 Series',\n       'model=80', 'model=850', 'model=86', 'model=9-2X', 'model=9-3',\n       'model=9-3 Griffin', 'model=9-4X', 'model=9-5', 'model=9-7X',\n       'model=90', 'model=900', 'model=9000', 'model=911', 'model=928',\n       'model=929', 'model=940', 'model=944', 'model=960', 'model=968',\n       'model=A3', 'model=A4', 'model=A4 allroad', 'model=A5', 'model=A6',\n       'model=A7', 'model=A8', 'model=ALPINA B6 Gran Coupe',\n       'model=ALPINA B7', 'model=AMG GT', 'model=ATS', 'model=ATS Coupe',\n       'model=ATS-V', 'model=Acadia', 'model=Acadia Limited',\n       'model=Accent', 'model=Acclaim', 'model=Accord',\n       'model=Accord Crosstour', 'model=Accord Hybrid',\n       'model=Accord Plug-In Hybrid', 'model=Achieva',\n       'model=ActiveHybrid 5', 'model=ActiveHybrid 7',\n       'model=ActiveHybrid X6', 'model=Aerio', 'model=Aerostar',\n       'model=Alero', 'model=Allante', 'model=Alpina', 'model=Altima',\n       'model=Altima Hybrid', 'model=Amanti', 'model=Armada',\n       'model=Arnage', 'model=Aspen', 'model=Aspire', 'model=Astro',\n       'model=Astro Cargo', 'model=Aurora', 'model=Avalanche',\n       'model=Avalon', 'model=Avalon Hybrid', 'model=Avenger',\n       'model=Aventador', 'model=Aveo', 'model=Aviator', 'model=Axxess',\n       'model=Azera', 'model=Aztek', 'model=Azure',\n       'model=B-Class Electric Drive', 'model=B-Series',\n       'model=B-Series Pickup', 'model=B-Series Truck',\n       'model=B9 Tribeca', 'model=BRZ', 'model=Baja', 'model=Beetle',\n       'model=Beetle Convertible', 'model=Beretta',\n       'model=Black Diamond Avalanche', 'model=Blackwood', 'model=Blazer',\n       'model=Bolt EV', 'model=Bonneville', 'model=Borrego',\n       'model=Boxster', 'model=Bravada', 'model=Breeze', 'model=Bronco',\n       'model=Bronco II', 'model=Brooklands', 'model=Brougham',\n       'model=C-Class', 'model=C-Max Hybrid', 'model=C/K 1500 Series',\n       'model=C/K 2500 Series', 'model=C30', 'model=C36 AMG',\n       'model=C43 AMG', 'model=C70', 'model=C8', 'model=CC', 'model=CL',\n       'model=CL-Class', 'model=CLA-Class', 'model=CLK-Class',\n       'model=CLS-Class', 'model=CR-V', 'model=CR-Z', 'model=CT 200h',\n       'model=CT6', 'model=CTS', 'model=CTS Coupe', 'model=CTS Wagon',\n       'model=CTS-V', 'model=CTS-V Coupe', 'model=CTS-V Wagon',\n       'model=CX-3', 'model=CX-5', 'model=CX-7', 'model=CX-9',\n       'model=Cabrio', 'model=Cabriolet', 'model=Cadenza',\n       'model=Caliber', 'model=California', 'model=Camaro', 'model=Camry',\n       'model=Camry Hybrid', 'model=Camry Solara', 'model=Canyon',\n       'model=Caprice', 'model=Captiva Sport', 'model=Caravan',\n       'model=Carrera GT', 'model=Cascada', 'model=Catera',\n       'model=Cavalier', 'model=Cayenne', 'model=Cayman',\n       'model=Celebrity', 'model=Celica', 'model=Century',\n       'model=Challenger', 'model=Charger', 'model=Chevy Van',\n       'model=Ciera', 'model=Cirrus', 'model=City Express', 'model=Civic',\n       'model=Civic CRX', 'model=Civic del Sol', 'model=Classic',\n       'model=Cobalt', 'model=Colorado', 'model=Colt', 'model=Concorde',\n       'model=Continental', 'model=Continental Flying Spur',\n       'model=Continental Flying Spur Speed', 'model=Continental GT',\n       'model=Continental GT Speed',\n       'model=Continental GT Speed Convertible', 'model=Continental GTC',\n       'model=Continental GTC Speed', 'model=Continental Supersports',\n       'model=Continental Supersports Convertible', 'model=Contour',\n       'model=Contour SVT', 'model=Corniche', 'model=Corolla',\n       'model=Corolla iM', 'model=Corrado', 'model=Corsica',\n       'model=Corvette', 'model=Corvette Stingray', 'model=Coupe',\n       'model=Cressida', 'model=Crossfire', 'model=Crosstour',\n       'model=Crosstrek', 'model=Crown Victoria', 'model=Cruze',\n       'model=Cruze Limited', 'model=Cube', 'model=Custom Cruiser',\n       'model=Cutlass', 'model=Cutlass Calais', 'model=Cutlass Ciera',\n       'model=Cutlass Supreme', 'model=DB7', 'model=DB9', 'model=DB9 GT',\n       'model=DBS', 'model=DTS', 'model=Dakota', 'model=Dart',\n       'model=Daytona', 'model=DeVille', 'model=Defender',\n       'model=Diamante', 'model=Discovery', 'model=Discovery Series II',\n       'model=Discovery Sport', 'model=Durango', 'model=Dynasty',\n       'model=E-150', 'model=E-250', 'model=E-Class',\n       'model=E-Series Van', 'model=E-Series Wagon', 'model=E55 AMG',\n       'model=ECHO', 'model=ES 250', 'model=ES 300', 'model=ES 300h',\n       'model=ES 330', 'model=ES 350', 'model=EX', 'model=EX35',\n       'model=Eclipse', 'model=Eclipse Spyder', 'model=Edge',\n       'model=Eighty-Eight', 'model=Eighty-Eight Royale', 'model=Elantra',\n       'model=Elantra Coupe', 'model=Elantra GT', 'model=Elantra Touring',\n       'model=Eldorado', 'model=Electra', 'model=Element', 'model=Elise',\n       'model=Enclave', 'model=Encore', 'model=Endeavor',\n       'model=Entourage', 'model=Envision', 'model=Envoy',\n       'model=Envoy XL', 'model=Eos', 'model=Equator', 'model=Equinox',\n       'model=Equus', 'model=Escalade', 'model=Escalade ESV',\n       'model=Escalade EXT', 'model=Escalade Hybrid', 'model=Escape',\n       'model=Escape Hybrid', 'model=Escort', 'model=Esprit',\n       'model=Esteem', 'model=EuroVan', 'model=Evora', 'model=Excel',\n       'model=Exige', 'model=Expedition', 'model=Explorer',\n       'model=Explorer Sport', 'model=Explorer Sport Trac', 'model=Expo',\n       'model=Express', 'model=Express Cargo', 'model=F-150',\n       'model=F-150 Heritage', 'model=F-150 SVT Lightning', 'model=F-250',\n       'model=F12 Berlinetta', 'model=F430', 'model=FF',\n       'model=FJ Cruiser', 'model=FR-S', 'model=FX', 'model=FX35',\n       'model=FX45', 'model=FX50', 'model=Festiva', 'model=Fiesta',\n       'model=Firebird', 'model=Fit', 'model=Five Hundred',\n       'model=Fleetwood', 'model=Flex', 'model=Flying Spur',\n       'model=Focus', 'model=Focus ST', 'model=Forenza', 'model=Forester',\n       'model=Forte', 'model=Fox', 'model=Freelander', 'model=Freestar',\n       'model=Freestyle', 'model=Frontier', 'model=Fusion',\n       'model=Fusion Hybrid', 'model=G Convertible', 'model=G Coupe',\n       'model=G Sedan', 'model=G-Class', 'model=G20', 'model=G3',\n       'model=G35', 'model=G37', 'model=G37 Convertible',\n       'model=G37 Coupe', 'model=G37 Sedan', 'model=G5', 'model=G6',\n       'model=G8', 'model=G80', 'model=GL-Class', 'model=GLA-Class',\n       'model=GLC-Class', 'model=GLE-Class', 'model=GLE-Class Coupe',\n       'model=GLI', 'model=GLK-Class', 'model=GLS-Class', 'model=GS 200t',\n       'model=GS 300', 'model=GS 350', 'model=GS 400', 'model=GS 430',\n       'model=GS 450h', 'model=GS 460', 'model=GS F', 'model=GT',\n       'model=GT-R', 'model=GTI', 'model=GTO', 'model=GX 460',\n       'model=GX 470', 'model=Galant', 'model=Gallardo', 'model=Genesis',\n       'model=Genesis Coupe', 'model=Ghibli', 'model=Ghost',\n       'model=Ghost Series II', 'model=Golf', 'model=Golf Alltrack',\n       'model=Golf GTI', 'model=Golf R', 'model=Golf SportWagen',\n       'model=GranSport', 'model=GranTurismo',\n       'model=GranTurismo Convertible', 'model=Grand Am',\n       'model=Grand Caravan', 'model=Grand Prix', 'model=Grand Vitara',\n       'model=Grand Voyager', 'model=H3', 'model=H3T', 'model=HHR',\n       'model=HR-V', 'model=HS 250h', 'model=Highlander',\n       'model=Highlander Hybrid', 'model=Horizon', 'model=Huracan',\n       'model=I30', 'model=I35', 'model=ILX', 'model=ILX Hybrid',\n       'model=IS 250', 'model=IS 250 C', 'model=IS 300', 'model=IS 350',\n       'model=IS 350 C', 'model=IS F', 'model=Impala',\n       'model=Impala Limited', 'model=Imperial', 'model=Impreza',\n       'model=Impreza WRX', 'model=Insight', 'model=Integra',\n       'model=Intrepid', 'model=Intrigue', 'model=J30', 'model=JX',\n       'model=Jetta', 'model=Jetta GLI', 'model=Jetta Hybrid',\n       'model=Jetta SportWagen', 'model=Jimmy', 'model=Journey',\n       'model=Juke', 'model=Justy', 'model=K900', 'model=Kizashi',\n       'model=LFA', 'model=LHS', 'model=LR2', 'model=LR3', 'model=LR4',\n       'model=LS', 'model=LS 400', 'model=LS 430', 'model=LS 460',\n       'model=LS 600h L', 'model=LSS', 'model=LTD Crown Victoria',\n       'model=LX 450', 'model=LX 470', 'model=LX 570', 'model=LaCrosse',\n       'model=Lancer', 'model=Lancer Evolution', 'model=Lancer Sportback',\n       'model=Land Cruiser', 'model=Landaulet', 'model=Laser',\n       'model=Le Baron', 'model=Le Mans', 'model=LeSabre', 'model=Leaf',\n       'model=Legacy', 'model=Legend', 'model=Levante', 'model=Loyale',\n       'model=Lucerne', 'model=Lumina', 'model=Lumina Minivan', 'model=M',\n       'model=M-Class', 'model=M2', 'model=M3', 'model=M30', 'model=M35',\n       'model=M37', 'model=M4', 'model=M45', 'model=M5', 'model=M56',\n       'model=M6', 'model=M6 Gran Coupe', 'model=MDX', 'model=MKC',\n       'model=MKS', 'model=MKT', 'model=MKX', 'model=MKZ',\n       'model=MKZ Hybrid', 'model=ML55 AMG', 'model=MP4-12C', 'model=MPV',\n       'model=MR2', 'model=MR2 Spyder', 'model=MX-3', 'model=MX-5 Miata',\n       'model=MX-6', 'model=Macan', 'model=Magnum', 'model=Malibu',\n       'model=Malibu Classic', 'model=Malibu Hybrid',\n       'model=Malibu Limited', 'model=Malibu Maxx', 'model=Mark LT',\n       'model=Mark VII', 'model=Mark VIII', 'model=Matrix',\n       'model=Maxima', 'model=Maybach', 'model=Mazdaspeed 3',\n       'model=Mazdaspeed 6', 'model=Mazdaspeed MX-5 Miata',\n       'model=Mazdaspeed Protege', 'model=Metris', 'model=Metro',\n       'model=Millenia', 'model=Mirage', 'model=Mirage G4',\n       'model=Model S', 'model=Monaco', 'model=Montana',\n       'model=Monte Carlo', 'model=Montero', 'model=Montero Sport',\n       'model=Mulsanne', 'model=Murano', 'model=Murano CrossCabriolet',\n       'model=Murcielago', 'model=Mustang', 'model=Mustang SVT Cobra',\n       'model=NSX', 'model=NV200', 'model=NX', 'model=NX 200t',\n       'model=NX 300h', 'model=Navajo', 'model=Navigator', 'model=Neon',\n       'model=New Beetle', 'model=New Yorker', 'model=Ninety-Eight',\n       'model=Nitro', 'model=Odyssey', 'model=Optima',\n       'model=Optima Hybrid', 'model=Outback', 'model=Outlander',\n       'model=Outlander Sport', 'model=PT Cruiser', 'model=Pacifica',\n       'model=Panamera', 'model=Park Avenue', 'model=Park Ward',\n       'model=Paseo', 'model=Passat', 'model=Passport',\n       'model=Pathfinder', 'model=Phaeton', 'model=Phantom',\n       'model=Phantom Coupe', 'model=Phantom Drophead Coupe',\n       'model=Pickup', 'model=Pilot', 'model=Prelude', 'model=Previa',\n       'model=Prius', 'model=Prius Prime', 'model=Prius c',\n       'model=Prius v', 'model=Prizm', 'model=Probe', 'model=Protege',\n       'model=Prowler', 'model=Pulsar', 'model=Q3', 'model=Q40',\n       'model=Q45', 'model=Q5', 'model=Q50', 'model=Q60 Convertible',\n       'model=Q60 Coupe', 'model=Q7', 'model=Q70', 'model=QX',\n       'model=QX4', 'model=QX50', 'model=QX56', 'model=QX60',\n       'model=QX70', 'model=QX80', 'model=Quattroporte', 'model=Quest',\n       'model=R-Class', 'model=R8', 'model=RAM 150', 'model=RAM 250',\n       'model=RAV4', 'model=RAV4 EV', 'model=RAV4 Hybrid',\n       'model=RC 200t', 'model=RC 300', 'model=RC 350', 'model=RC F',\n       'model=RDX', 'model=RL', 'model=RLX', 'model=RS 5', 'model=RS 7',\n       'model=RSX', 'model=RX 300', 'model=RX 330', 'model=RX 350',\n       'model=RX 400h', 'model=RX 450h', 'model=RX-8', 'model=Rabbit',\n       'model=Raider', 'model=Rainier', 'model=Rally Wagon',\n       'model=Ram 50 Pickup', 'model=Ram Cargo', 'model=Ram Pickup 1500',\n       'model=Ram Van', 'model=Ram Wagon', 'model=Ramcharger',\n       'model=Range Rover', 'model=Range Rover Evoque',\n       'model=Range Rover Sport', 'model=Ranger', 'model=Rapide',\n       'model=Reatta', 'model=Regal', 'model=Regency', 'model=Rendezvous',\n       'model=Reno', 'model=Ridgeline', 'model=Rio', 'model=Riviera',\n       'model=Roadmaster', 'model=Rogue', 'model=Rogue Select',\n       'model=Rondo', 'model=Routan', 'model=S-10', 'model=S-10 Blazer',\n       'model=S-15', 'model=S-15 Jimmy', 'model=S-Class', 'model=S2000',\n       'model=S3', 'model=S4', 'model=S40', 'model=S5', 'model=S6',\n       'model=S60', 'model=S60 Cross Country', 'model=S7', 'model=S70',\n       'model=S8', 'model=S80', 'model=S90', 'model=SC 300',\n       'model=SC 400', 'model=SC 430', 'model=SL-Class',\n       'model=SLK-Class', 'model=SLR McLaren', 'model=SLS AMG',\n       'model=SLS AMG GT', 'model=SLX', 'model=SQ5', 'model=SRT Viper',\n       'model=SRX', 'model=SS', 'model=SSR', 'model=STS', 'model=STS-V',\n       'model=SVX', 'model=SX4', 'model=Safari', 'model=Safari Cargo',\n       'model=Samurai', 'model=Santa Fe', 'model=Santa Fe Sport',\n       'model=Savana', 'model=Savana Cargo', 'model=Scoupe',\n       'model=Sebring', 'model=Sedona', 'model=Sentra', 'model=Sephia',\n       'model=Sequoia', 'model=Seville', 'model=Shadow',\n       'model=Shelby GT350', 'model=Shelby GT500', 'model=Sidekick',\n       'model=Sienna', 'model=Sierra 1500', 'model=Sierra 1500 Classic',\n       'model=Sierra 1500 Hybrid', 'model=Sierra 1500HD',\n       'model=Sierra C3', 'model=Sierra Classic 1500', 'model=Sigma',\n       'model=Silhouette', 'model=Silver Seraph', 'model=Silverado 1500',\n       'model=Silverado 1500 Classic', 'model=Silverado 1500 Hybrid',\n       'model=Sixty Special', 'model=Skylark', 'model=Solstice',\n       'model=Sonata', 'model=Sonata Hybrid', 'model=Sonic',\n       'model=Sonoma', 'model=Sorento', 'model=Soul', 'model=Soul EV',\n       'model=Spark', 'model=Spark EV', 'model=Spectra', 'model=Spirit',\n       'model=Sportage', 'model=Sportvan', 'model=Spyder', 'model=Stanza',\n       'model=Stealth', 'model=Stratus', 'model=Suburban',\n       'model=Sunbird', 'model=Sundance', 'model=Sunfire',\n       'model=Superamerica', 'model=Supra', 'model=Swift', 'model=T100',\n       'model=TC', 'model=TL', 'model=TLX', 'model=TSX',\n       'model=TSX Sport Wagon', 'model=TT', 'model=TT RS', 'model=TTS',\n       'model=Tacoma', 'model=Tahoe', 'model=Tahoe Hybrid',\n       'model=Tahoe Limited/Z71', 'model=Taurus', 'model=Taurus X',\n       'model=Tempo', 'model=Tercel', 'model=Terrain', 'model=Terraza',\n       'model=Thunderbird', 'model=Tiburon', 'model=Tiguan',\n       'model=Titan', 'model=Toronado', 'model=Torrent', 'model=Touareg',\n       'model=Touareg 2', 'model=Town Car', 'model=Town and Country',\n       'model=Tracker', 'model=TrailBlazer', 'model=TrailBlazer EXT',\n       'model=Trans Sport', 'model=Transit Connect',\n       'model=Transit Wagon', 'model=Traverse', 'model=Trax',\n       'model=Tribeca', 'model=Tribute', 'model=Tribute Hybrid',\n       'model=Truck', 'model=Tucson', 'model=Tundra', 'model=Typhoon',\n       'model=Uplander', 'model=V12 Vanquish', 'model=V12 Vantage',\n       'model=V12 Vantage S', 'model=V40', 'model=V50', 'model=V60',\n       'model=V60 Cross Country', 'model=V8', 'model=V8 Vantage',\n       'model=Van', 'model=Vanagon', 'model=Vandura', 'model=Vanquish',\n       'model=Vanwagon', 'model=Veloster', 'model=Venture', 'model=Venza',\n       'model=Veracruz', 'model=Verano', 'model=Verona', 'model=Versa',\n       'model=Versa Note', 'model=Veyron 16.4', 'model=Vibe',\n       'model=Vigor', 'model=Viper', 'model=Virage', 'model=Vitara',\n       'model=Voyager', 'model=WRX', 'model=Windstar',\n       'model=Windstar Cargo', 'model=Wraith', 'model=X-90', 'model=X1',\n       'model=X3', 'model=X4', 'model=X5', 'model=X5 M', 'model=X6',\n       'model=XC', 'model=XC60', 'model=XC70', 'model=XC90',\n       'model=XG300', 'model=XG350', 'model=XL-7', 'model=XL7',\n       'model=XLR', 'model=XLR-V', 'model=XT', 'model=XT5', 'model=XTS',\n       'model=XV Crosstrek', 'model=Xterra', 'model=Yaris',\n       'model=Yaris iA', 'model=Yukon', 'model=Yukon Hybrid',\n       'model=Yukon XL', 'model=Z3', 'model=Z4', 'model=Z4 M', 'model=Z8',\n       'model=ZDX', 'model=Zephyr', 'model=allroad',\n       'model=allroad quattro', 'model=e-Golf', 'model=i-MiEV',\n       'model=i3', 'model=iA', 'model=iM', 'model=iQ', 'model=tC',\n       'model=xA', 'model=xB', 'model=xD',\n       'transmission_type=AUTOMATED_MANUAL',\n       'transmission_type=AUTOMATIC', 'transmission_type=DIRECT_DRIVE',\n       'transmission_type=MANUAL', 'transmission_type=UNKNOWN',\n       'vehicle_style=2dr Hatchback', 'vehicle_style=2dr SUV',\n       'vehicle_style=4dr Hatchback', 'vehicle_style=4dr SUV',\n       'vehicle_style=Cargo Minivan', 'vehicle_style=Cargo Van',\n       'vehicle_style=Convertible', 'vehicle_style=Convertible SUV',\n       'vehicle_style=Coupe', 'vehicle_style=Crew Cab Pickup',\n       'vehicle_style=Extended Cab Pickup',\n       'vehicle_style=Passenger Minivan', 'vehicle_style=Passenger Van',\n       'vehicle_style=Regular Cab Pickup', 'vehicle_style=Sedan',\n       'vehicle_style=Wagon', 'year'], dtype=object)"
     },
     "execution_count": 52,
     "metadata": {},
     "output_type": "execute_result"
    }
   ],
   "source": [
    "dv.get_feature_names_out()"
   ],
   "metadata": {
    "collapsed": false,
    "pycharm": {
     "name": "#%%\n"
    }
   }
  },
  {
   "cell_type": "code",
   "execution_count": 53,
   "outputs": [],
   "source": [
    "model=LogisticRegression(solver='liblinear', C=1.0, max_iter=1000)"
   ],
   "metadata": {
    "collapsed": false,
    "pycharm": {
     "name": "#%%\n"
    }
   }
  },
  {
   "cell_type": "code",
   "execution_count": 54,
   "outputs": [
    {
     "data": {
      "text/plain": "LogisticRegression(max_iter=1000, solver='liblinear')",
      "text/html": "<style>#sk-container-id-2 {color: black;}#sk-container-id-2 pre{padding: 0;}#sk-container-id-2 div.sk-toggleable {background-color: white;}#sk-container-id-2 label.sk-toggleable__label {cursor: pointer;display: block;width: 100%;margin-bottom: 0;padding: 0.3em;box-sizing: border-box;text-align: center;}#sk-container-id-2 label.sk-toggleable__label-arrow:before {content: \"▸\";float: left;margin-right: 0.25em;color: #696969;}#sk-container-id-2 label.sk-toggleable__label-arrow:hover:before {color: black;}#sk-container-id-2 div.sk-estimator:hover label.sk-toggleable__label-arrow:before {color: black;}#sk-container-id-2 div.sk-toggleable__content {max-height: 0;max-width: 0;overflow: hidden;text-align: left;background-color: #f0f8ff;}#sk-container-id-2 div.sk-toggleable__content pre {margin: 0.2em;color: black;border-radius: 0.25em;background-color: #f0f8ff;}#sk-container-id-2 input.sk-toggleable__control:checked~div.sk-toggleable__content {max-height: 200px;max-width: 100%;overflow: auto;}#sk-container-id-2 input.sk-toggleable__control:checked~label.sk-toggleable__label-arrow:before {content: \"▾\";}#sk-container-id-2 div.sk-estimator input.sk-toggleable__control:checked~label.sk-toggleable__label {background-color: #d4ebff;}#sk-container-id-2 div.sk-label input.sk-toggleable__control:checked~label.sk-toggleable__label {background-color: #d4ebff;}#sk-container-id-2 input.sk-hidden--visually {border: 0;clip: rect(1px 1px 1px 1px);clip: rect(1px, 1px, 1px, 1px);height: 1px;margin: -1px;overflow: hidden;padding: 0;position: absolute;width: 1px;}#sk-container-id-2 div.sk-estimator {font-family: monospace;background-color: #f0f8ff;border: 1px dotted black;border-radius: 0.25em;box-sizing: border-box;margin-bottom: 0.5em;}#sk-container-id-2 div.sk-estimator:hover {background-color: #d4ebff;}#sk-container-id-2 div.sk-parallel-item::after {content: \"\";width: 100%;border-bottom: 1px solid gray;flex-grow: 1;}#sk-container-id-2 div.sk-label:hover label.sk-toggleable__label {background-color: #d4ebff;}#sk-container-id-2 div.sk-serial::before {content: \"\";position: absolute;border-left: 1px solid gray;box-sizing: border-box;top: 0;bottom: 0;left: 50%;z-index: 0;}#sk-container-id-2 div.sk-serial {display: flex;flex-direction: column;align-items: center;background-color: white;padding-right: 0.2em;padding-left: 0.2em;position: relative;}#sk-container-id-2 div.sk-item {position: relative;z-index: 1;}#sk-container-id-2 div.sk-parallel {display: flex;align-items: stretch;justify-content: center;background-color: white;position: relative;}#sk-container-id-2 div.sk-item::before, #sk-container-id-2 div.sk-parallel-item::before {content: \"\";position: absolute;border-left: 1px solid gray;box-sizing: border-box;top: 0;bottom: 0;left: 50%;z-index: -1;}#sk-container-id-2 div.sk-parallel-item {display: flex;flex-direction: column;z-index: 1;position: relative;background-color: white;}#sk-container-id-2 div.sk-parallel-item:first-child::after {align-self: flex-end;width: 50%;}#sk-container-id-2 div.sk-parallel-item:last-child::after {align-self: flex-start;width: 50%;}#sk-container-id-2 div.sk-parallel-item:only-child::after {width: 0;}#sk-container-id-2 div.sk-dashed-wrapped {border: 1px dashed gray;margin: 0 0.4em 0.5em 0.4em;box-sizing: border-box;padding-bottom: 0.4em;background-color: white;}#sk-container-id-2 div.sk-label label {font-family: monospace;font-weight: bold;display: inline-block;line-height: 1.2em;}#sk-container-id-2 div.sk-label-container {text-align: center;}#sk-container-id-2 div.sk-container {/* jupyter's `normalize.less` sets `[hidden] { display: none; }` but bootstrap.min.css set `[hidden] { display: none !important; }` so we also need the `!important` here to be able to override the default hidden behavior on the sphinx rendered scikit-learn.org. See: https://github.com/scikit-learn/scikit-learn/issues/21755 */display: inline-block !important;position: relative;}#sk-container-id-2 div.sk-text-repr-fallback {display: none;}</style><div id=\"sk-container-id-2\" class=\"sk-top-container\"><div class=\"sk-text-repr-fallback\"><pre>LogisticRegression(max_iter=1000, solver=&#x27;liblinear&#x27;)</pre><b>In a Jupyter environment, please rerun this cell to show the HTML representation or trust the notebook. <br />On GitHub, the HTML representation is unable to render, please try loading this page with nbviewer.org.</b></div><div class=\"sk-container\" hidden><div class=\"sk-item\"><div class=\"sk-estimator sk-toggleable\"><input class=\"sk-toggleable__control sk-hidden--visually\" id=\"sk-estimator-id-2\" type=\"checkbox\" checked><label for=\"sk-estimator-id-2\" class=\"sk-toggleable__label sk-toggleable__label-arrow\">LogisticRegression</label><div class=\"sk-toggleable__content\"><pre>LogisticRegression(max_iter=1000, solver=&#x27;liblinear&#x27;)</pre></div></div></div></div></div>"
     },
     "execution_count": 54,
     "metadata": {},
     "output_type": "execute_result"
    }
   ],
   "source": [
    "model.fit(X_train,y_train)"
   ],
   "metadata": {
    "collapsed": false,
    "pycharm": {
     "name": "#%%\n"
    }
   }
  },
  {
   "cell_type": "code",
   "execution_count": 59,
   "outputs": [],
   "source": [
    "y_pred_v=model.predict(X_val)"
   ],
   "metadata": {
    "collapsed": false,
    "pycharm": {
     "name": "#%%\n"
    }
   }
  },
  {
   "cell_type": "code",
   "execution_count": 60,
   "outputs": [
    {
     "data": {
      "text/plain": "0.9146693480348719"
     },
     "execution_count": 60,
     "metadata": {},
     "output_type": "execute_result"
    }
   ],
   "source": [
    "roc_auc_score(y_val,y_pred_v)"
   ],
   "metadata": {
    "collapsed": false,
    "pycharm": {
     "name": "#%%\n"
    }
   }
  },
  {
   "cell_type": "code",
   "execution_count": 61,
   "outputs": [
    {
     "data": {
      "text/plain": "0.9790336815928319"
     },
     "execution_count": 61,
     "metadata": {},
     "output_type": "execute_result"
    }
   ],
   "source": [
    "y_pred_v = model.predict_proba(X_val)[:,1]\n",
    "roc_auc_score(y_val, y_pred_v)"
   ],
   "metadata": {
    "collapsed": false,
    "pycharm": {
     "name": "#%%\n"
    }
   }
  },
  {
   "cell_type": "code",
   "execution_count": null,
   "outputs": [],
   "source": [],
   "metadata": {
    "collapsed": false,
    "pycharm": {
     "name": "#%%\n"
    }
   }
  },
  {
   "cell_type": "code",
   "execution_count": null,
   "outputs": [],
   "source": [],
   "metadata": {
    "collapsed": false,
    "pycharm": {
     "name": "#%%\n"
    }
   }
  },
  {
   "cell_type": "code",
   "execution_count": null,
   "outputs": [],
   "source": [],
   "metadata": {
    "collapsed": false,
    "pycharm": {
     "name": "#%%\n"
    }
   }
  },
  {
   "cell_type": "code",
   "execution_count": 28,
   "outputs": [
    {
     "data": {
      "text/plain": "0.9008809780023206"
     },
     "execution_count": 28,
     "metadata": {},
     "output_type": "execute_result"
    }
   ],
   "source": [
    "y_pred_t = model.predict(X_test)\n",
    "roc_auc_score(y_test, y_pred_t)"
   ],
   "metadata": {
    "collapsed": false,
    "pycharm": {
     "name": "#%%\n"
    }
   }
  },
  {
   "cell_type": "code",
   "execution_count": null,
   "outputs": [],
   "source": [],
   "metadata": {
    "collapsed": false,
    "pycharm": {
     "name": "#%%\n"
    }
   }
  },
  {
   "cell_type": "code",
   "execution_count": 29,
   "outputs": [],
   "source": [
    "thresholds=np.linspace(0,1,100)"
   ],
   "metadata": {
    "collapsed": false,
    "pycharm": {
     "name": "#%%\n"
    }
   }
  },
  {
   "cell_type": "code",
   "execution_count": 98,
   "outputs": [],
   "source": [
    "y_pred=model.predict_proba(X_val)[:,1]"
   ],
   "metadata": {
    "collapsed": false,
    "pycharm": {
     "name": "#%%\n"
    }
   }
  },
  {
   "cell_type": "code",
   "execution_count": 99,
   "outputs": [
    {
     "data": {
      "text/plain": "array([0.67345738, 0.00721739, 0.34487109, ..., 0.00432053, 0.99999442,\n       0.05167217])"
     },
     "execution_count": 99,
     "metadata": {},
     "output_type": "execute_result"
    }
   ],
   "source": [
    "y_pred"
   ],
   "metadata": {
    "collapsed": false,
    "pycharm": {
     "name": "#%%\n"
    }
   }
  },
  {
   "cell_type": "code",
   "execution_count": 100,
   "outputs": [
    {
     "data": {
      "text/plain": "array([1, 0, 0, ..., 0, 1, 0])"
     },
     "execution_count": 100,
     "metadata": {},
     "output_type": "execute_result"
    }
   ],
   "source": [
    "y_val"
   ],
   "metadata": {
    "collapsed": false,
    "pycharm": {
     "name": "#%%\n"
    }
   }
  },
  {
   "cell_type": "code",
   "execution_count": 101,
   "outputs": [
    {
     "name": "stderr",
     "output_type": "stream",
     "text": [
      "C:\\Users\\Sirius\\AppData\\Local\\Temp\\ipykernel_1532\\3593777791.py:7: RuntimeWarning: invalid value encountered in scalar divide\n",
      "  precision=tp/(tp+fp)\n"
     ]
    },
    {
     "data": {
      "text/plain": "       tresh  precision    recall\n0   0.000000   0.274444  1.000000\n1   0.010101   0.461103  0.996942\n2   0.020202   0.507405  0.995413\n3   0.030303   0.542500  0.995413\n4   0.040404   0.571178  0.993884\n..       ...        ...       ...\n95  0.959596   0.996454  0.429664\n96  0.969697   0.996255  0.406728\n97  0.979798   1.000000  0.363914\n98  0.989899   1.000000  0.311927\n99  1.000000        NaN  0.000000\n\n[100 rows x 3 columns]",
      "text/html": "<div>\n<style scoped>\n    .dataframe tbody tr th:only-of-type {\n        vertical-align: middle;\n    }\n\n    .dataframe tbody tr th {\n        vertical-align: top;\n    }\n\n    .dataframe thead th {\n        text-align: right;\n    }\n</style>\n<table border=\"1\" class=\"dataframe\">\n  <thead>\n    <tr style=\"text-align: right;\">\n      <th></th>\n      <th>tresh</th>\n      <th>precision</th>\n      <th>recall</th>\n    </tr>\n  </thead>\n  <tbody>\n    <tr>\n      <th>0</th>\n      <td>0.000000</td>\n      <td>0.274444</td>\n      <td>1.000000</td>\n    </tr>\n    <tr>\n      <th>1</th>\n      <td>0.010101</td>\n      <td>0.461103</td>\n      <td>0.996942</td>\n    </tr>\n    <tr>\n      <th>2</th>\n      <td>0.020202</td>\n      <td>0.507405</td>\n      <td>0.995413</td>\n    </tr>\n    <tr>\n      <th>3</th>\n      <td>0.030303</td>\n      <td>0.542500</td>\n      <td>0.995413</td>\n    </tr>\n    <tr>\n      <th>4</th>\n      <td>0.040404</td>\n      <td>0.571178</td>\n      <td>0.993884</td>\n    </tr>\n    <tr>\n      <th>...</th>\n      <td>...</td>\n      <td>...</td>\n      <td>...</td>\n    </tr>\n    <tr>\n      <th>95</th>\n      <td>0.959596</td>\n      <td>0.996454</td>\n      <td>0.429664</td>\n    </tr>\n    <tr>\n      <th>96</th>\n      <td>0.969697</td>\n      <td>0.996255</td>\n      <td>0.406728</td>\n    </tr>\n    <tr>\n      <th>97</th>\n      <td>0.979798</td>\n      <td>1.000000</td>\n      <td>0.363914</td>\n    </tr>\n    <tr>\n      <th>98</th>\n      <td>0.989899</td>\n      <td>1.000000</td>\n      <td>0.311927</td>\n    </tr>\n    <tr>\n      <th>99</th>\n      <td>1.000000</td>\n      <td>NaN</td>\n      <td>0.000000</td>\n    </tr>\n  </tbody>\n</table>\n<p>100 rows × 3 columns</p>\n</div>"
     },
     "execution_count": 101,
     "metadata": {},
     "output_type": "execute_result"
    }
   ],
   "source": [
    "scores=[]\n",
    "for tr in thresholds:\n",
    "    tp = ((y_pred >= tr) & (y_val == 1)).sum()\n",
    "    fp = ((y_pred >= tr) & (y_val == 0)).sum()\n",
    "    fn = ((y_pred < tr) & (y_val == 1)).sum()\n",
    "    tn = ((y_pred < tr) & (y_val == 0)).sum()\n",
    "    precision=tp/(tp+fp)\n",
    "    recall=tp/(tp+fn)\n",
    "    scores.append((tr,precision,recall))\n",
    "\n",
    "scores_df=pd.DataFrame(scores,columns=['tresh','precision','recall'])\n",
    "\n",
    "scores_df"
   ],
   "metadata": {
    "collapsed": false,
    "pycharm": {
     "name": "#%%\n"
    }
   }
  },
  {
   "cell_type": "code",
   "execution_count": 106,
   "outputs": [
    {
     "name": "stderr",
     "output_type": "stream",
     "text": [
      "No artists with labels found to put in legend.  Note that artists whose label start with an underscore are ignored when legend() is called with no argument.\n"
     ]
    },
    {
     "data": {
      "text/plain": "<matplotlib.legend.Legend at 0x2453bf956c0>"
     },
     "execution_count": 106,
     "metadata": {},
     "output_type": "execute_result"
    },
    {
     "data": {
      "text/plain": "<Figure size 640x480 with 1 Axes>",
      "image/png": "[encoded data removed]"
     },
     "metadata": {},
     "output_type": "display_data"
    }
   ],
   "source": [
    "plt.plot(scores_df)\n",
    "\n",
    "\n",
    "plt.xlabel('False Positive Rate')\n",
    "plt.ylabel('True Positive Rate')\n",
    "plt.title('ROC Curves')\n",
    "plt.legend(loc='lower right')"
   ],
   "metadata": {
    "collapsed": false,
    "pycharm": {
     "name": "#%%\n"
    }
   }
  },
  {
   "cell_type": "code",
   "execution_count": 109,
   "outputs": [
    {
     "data": {
      "text/plain": "       tresh  precision    recall        f1\n0   0.000000   0.274444  1.000000  0.430688\n1   0.010101   0.461103  0.996942  0.630561\n2   0.020202   0.507405  0.995413  0.672173\n3   0.030303   0.542500  0.995413  0.702265\n4   0.040404   0.571178  0.993884  0.725446\n..       ...        ...       ...       ...\n95  0.959596   0.996454  0.429664  0.600427\n96  0.969697   0.996255  0.406728  0.577633\n97  0.979798   1.000000  0.363914  0.533632\n98  0.989899   1.000000  0.311927  0.475524\n99  1.000000        NaN  0.000000       NaN\n\n[100 rows x 4 columns]",
      "text/html": "<div>\n<style scoped>\n    .dataframe tbody tr th:only-of-type {\n        vertical-align: middle;\n    }\n\n    .dataframe tbody tr th {\n        vertical-align: top;\n    }\n\n    .dataframe thead th {\n        text-align: right;\n    }\n</style>\n<table border=\"1\" class=\"dataframe\">\n  <thead>\n    <tr style=\"text-align: right;\">\n      <th></th>\n      <th>tresh</th>\n      <th>precision</th>\n      <th>recall</th>\n      <th>f1</th>\n    </tr>\n  </thead>\n  <tbody>\n    <tr>\n      <th>0</th>\n      <td>0.000000</td>\n      <td>0.274444</td>\n      <td>1.000000</td>\n      <td>0.430688</td>\n    </tr>\n    <tr>\n      <th>1</th>\n      <td>0.010101</td>\n      <td>0.461103</td>\n      <td>0.996942</td>\n      <td>0.630561</td>\n    </tr>\n    <tr>\n      <th>2</th>\n      <td>0.020202</td>\n      <td>0.507405</td>\n      <td>0.995413</td>\n      <td>0.672173</td>\n    </tr>\n    <tr>\n      <th>3</th>\n      <td>0.030303</td>\n      <td>0.542500</td>\n      <td>0.995413</td>\n      <td>0.702265</td>\n    </tr>\n    <tr>\n      <th>4</th>\n      <td>0.040404</td>\n      <td>0.571178</td>\n      <td>0.993884</td>\n      <td>0.725446</td>\n    </tr>\n    <tr>\n      <th>...</th>\n      <td>...</td>\n      <td>...</td>\n      <td>...</td>\n      <td>...</td>\n    </tr>\n    <tr>\n      <th>95</th>\n      <td>0.959596</td>\n      <td>0.996454</td>\n      <td>0.429664</td>\n      <td>0.600427</td>\n    </tr>\n    <tr>\n      <th>96</th>\n      <td>0.969697</td>\n      <td>0.996255</td>\n      <td>0.406728</td>\n      <td>0.577633</td>\n    </tr>\n    <tr>\n      <th>97</th>\n      <td>0.979798</td>\n      <td>1.000000</td>\n      <td>0.363914</td>\n      <td>0.533632</td>\n    </tr>\n    <tr>\n      <th>98</th>\n      <td>0.989899</td>\n      <td>1.000000</td>\n      <td>0.311927</td>\n      <td>0.475524</td>\n    </tr>\n    <tr>\n      <th>99</th>\n      <td>1.000000</td>\n      <td>NaN</td>\n      <td>0.000000</td>\n      <td>NaN</td>\n    </tr>\n  </tbody>\n</table>\n<p>100 rows × 4 columns</p>\n</div>"
     },
     "execution_count": 109,
     "metadata": {},
     "output_type": "execute_result"
    }
   ],
   "source": [
    "scores_df['f1']=2*((scores_df.precision*scores_df.recall)/(scores_df.precision+scores_df.recall))\n",
    "scores_df"
   ],
   "metadata": {
    "collapsed": false,
    "pycharm": {
     "name": "#%%\n"
    }
   }
  },
  {
   "cell_type": "code",
   "execution_count": 110,
   "outputs": [
    {
     "data": {
      "text/plain": "0.8810641627543037"
     },
     "execution_count": 110,
     "metadata": {},
     "output_type": "execute_result"
    }
   ],
   "source": [
    "scores_df.f1.max()"
   ],
   "metadata": {
    "collapsed": false,
    "pycharm": {
     "name": "#%%\n"
    }
   }
  },
  {
   "cell_type": "code",
   "execution_count": 115,
   "outputs": [
    {
     "data": {
      "text/plain": "       tresh  precision    recall        f1\n51  0.515152   0.899522  0.862385  0.880562\n52  0.525253   0.902244  0.860856  0.881064",
      "text/html": "<div>\n<style scoped>\n    .dataframe tbody tr th:only-of-type {\n        vertical-align: middle;\n    }\n\n    .dataframe tbody tr th {\n        vertical-align: top;\n    }\n\n    .dataframe thead th {\n        text-align: right;\n    }\n</style>\n<table border=\"1\" class=\"dataframe\">\n  <thead>\n    <tr style=\"text-align: right;\">\n      <th></th>\n      <th>tresh</th>\n      <th>precision</th>\n      <th>recall</th>\n      <th>f1</th>\n    </tr>\n  </thead>\n  <tbody>\n    <tr>\n      <th>51</th>\n      <td>0.515152</td>\n      <td>0.899522</td>\n      <td>0.862385</td>\n      <td>0.880562</td>\n    </tr>\n    <tr>\n      <th>52</th>\n      <td>0.525253</td>\n      <td>0.902244</td>\n      <td>0.860856</td>\n      <td>0.881064</td>\n    </tr>\n  </tbody>\n</table>\n</div>"
     },
     "execution_count": 115,
     "metadata": {},
     "output_type": "execute_result"
    }
   ],
   "source": [
    "scores_df[(scores_df.f1>0.88)&(scores_df.f1<0.90)]"
   ],
   "metadata": {
    "collapsed": false,
    "pycharm": {
     "name": "#%%\n"
    }
   }
  },
  {
   "cell_type": "code",
   "execution_count": null,
   "outputs": [],
   "source": [],
   "metadata": {
    "collapsed": false,
    "pycharm": {
     "name": "#%%\n"
    }
   }
  },
  {
   "cell_type": "code",
   "execution_count": 128,
   "outputs": [],
   "source": [
    "def train(df, y, C=1.0):\n",
    "    df_dict=df[categorical+numerical].to_dict(orient='records')\n",
    "    dv=DictVectorizer(sparse=False)\n",
    "    dv.fit(df_dict)\n",
    "    X=dv.transform(df_dict)\n",
    "    model=LogisticRegression(solver='liblinear', C=C, max_iter=1000)\n",
    "    model.fit(X,y)\n",
    "    return dv,model\n",
    "\n",
    "def predict(df,dv,model):\n",
    "    df_dict=df[categorical+numerical].to_dict(orient='records')\n",
    "    X=dv.transform(df_dict)\n",
    "    y_pred=model.predict_proba(X)[:, 1]\n",
    "    return y_pred\n"
   ],
   "metadata": {
    "collapsed": false,
    "pycharm": {
     "name": "#%%\n"
    }
   }
  },
  {
   "cell_type": "code",
   "execution_count": 136,
   "outputs": [
    {
     "data": {
      "text/plain": "(['make', 'model', 'transmission_type', 'vehicle_style'],\n ['year', 'engine_hp', 'engine_cylinders', 'highway_mpg', 'city_mpg'])"
     },
     "execution_count": 136,
     "metadata": {},
     "output_type": "execute_result"
    }
   ],
   "source": [
    "categorical,numerical"
   ],
   "metadata": {
    "collapsed": false,
    "pycharm": {
     "name": "#%%\n"
    }
   }
  },
  {
   "cell_type": "code",
   "execution_count": 122,
   "outputs": [],
   "source": [
    "\n",
    "from sklearn.model_selection import KFold\n",
    "\n",
    "\n",
    "from tqdm.auto import tqdm"
   ],
   "metadata": {
    "collapsed": false,
    "pycharm": {
     "name": "#%%\n"
    }
   }
  },
  {
   "cell_type": "code",
   "execution_count": 123,
   "outputs": [
    {
     "data": {
      "text/plain": "0it [00:00, ?it/s]",
      "application/vnd.jupyter.widget-view+json": {
       "version_major": 2,
       "version_minor": 0,
       "model_id": "f6cbdc314b4145ba90de2e22e9122cf1"
      }
     },
     "metadata": {},
     "output_type": "display_data"
    },
    {
     "data": {
      "text/plain": "[0.9784891235596622,\n 0.9774830122707483,\n 0.984599297306341,\n 0.9772593553064526,\n 0.9776903651903652]"
     },
     "execution_count": 123,
     "metadata": {},
     "output_type": "execute_result"
    }
   ],
   "source": [
    "kfold = KFold(n_splits=5, shuffle=True, random_state=1)\n",
    "\n",
    "aucs = []\n",
    "\n",
    "for train_idx, val_idx in tqdm(kfold.split(df_train_full)):\n",
    "    df_train = df_train_full.iloc[train_idx]\n",
    "    y_train = df_train.above_average.values\n",
    "\n",
    "    df_val = df_train_full.iloc[val_idx]\n",
    "    y_val = df_val.above_average.values\n",
    "\n",
    "    dv, model = train(df_train, y_train)\n",
    "    y_pred = predict(df_val, dv, model)\n",
    "\n",
    "    rocauc = roc_auc_score(y_val, y_pred)\n",
    "    aucs.append(rocauc)\n",
    "\n",
    "aucs"
   ],
   "metadata": {
    "collapsed": false,
    "pycharm": {
     "name": "#%%\n"
    }
   }
  },
  {
   "cell_type": "code",
   "execution_count": 125,
   "outputs": [
    {
     "data": {
      "text/plain": "(0.0027786703256995177, 0.9791042307267139)"
     },
     "execution_count": 125,
     "metadata": {},
     "output_type": "execute_result"
    }
   ],
   "source": [
    "np.std(aucs), np.mean(aucs)"
   ],
   "metadata": {
    "collapsed": false,
    "pycharm": {
     "name": "#%%\n"
    }
   }
  },
  {
   "cell_type": "code",
   "execution_count": 132,
   "outputs": [
    {
     "data": {
      "text/plain": "0it [00:00, ?it/s]",
      "application/vnd.jupyter.widget-view+json": {
       "version_major": 2,
       "version_minor": 0,
       "model_id": "c9e6de85b4d64437a2e9a288d3ff1e69"
      }
     },
     "metadata": {},
     "output_type": "display_data"
    },
    {
     "data": {
      "text/plain": "0it [00:00, ?it/s]",
      "application/vnd.jupyter.widget-view+json": {
       "version_major": 2,
       "version_minor": 0,
       "model_id": "2bee49e221424eaf938eb229dbdaed74"
      }
     },
     "metadata": {},
     "output_type": "display_data"
    },
    {
     "data": {
      "text/plain": "0it [00:00, ?it/s]",
      "application/vnd.jupyter.widget-view+json": {
       "version_major": 2,
       "version_minor": 0,
       "model_id": "15d895fc58c440cbbf3db51c7350af8b"
      }
     },
     "metadata": {},
     "output_type": "display_data"
    },
    {
     "data": {
      "text/plain": "0it [00:00, ?it/s]",
      "application/vnd.jupyter.widget-view+json": {
       "version_major": 2,
       "version_minor": 0,
       "model_id": "8ad691510e71497db644f7fb00173451"
      }
     },
     "metadata": {},
     "output_type": "display_data"
    }
   ],
   "source": [
    "C_vals=[0.01, 0.1, 0.5, 10]\n",
    "\n",
    "kfold = KFold(n_splits=5, shuffle=True, random_state=10)\n",
    "\n",
    "scores=[]\n",
    "\n",
    "for C in C_vals:\n",
    "    aucs = []\n",
    "    for train_idx, val_idx in tqdm(kfold.split(df_train_full)):\n",
    "        df_train = df_train_full.iloc[train_idx]\n",
    "        y_train = df_train.above_average.values\n",
    "\n",
    "        df_val = df_train_full.iloc[val_idx]\n",
    "        y_val = df_val.above_average.values\n",
    "\n",
    "        dv, model = train(df_train, y_train,C=C)\n",
    "        y_pred = predict(df_val, dv, model)\n",
    "\n",
    "        rocauc = roc_auc_score(y_val, y_pred)\n",
    "        aucs.append(rocauc)\n",
    "    scores.append((C,np.mean(aucs),np.std(aucs)))"
   ],
   "metadata": {
    "collapsed": false,
    "pycharm": {
     "name": "#%%\n"
    }
   }
  },
  {
   "cell_type": "code",
   "execution_count": 133,
   "outputs": [
    {
     "data": {
      "text/plain": "[(0.01, 0.9514219494664309, 0.003690937742326089),\n (0.1, 0.9720717635055062, 0.002520888902766135),\n (0.5, 0.9780450914623368, 0.0029162396557597557),\n (10, 0.9827331611169623, 0.003933025941093542)]"
     },
     "execution_count": 133,
     "metadata": {},
     "output_type": "execute_result"
    }
   ],
   "source": [
    "scores"
   ],
   "metadata": {
    "collapsed": false,
    "pycharm": {
     "name": "#%%\n"
    }
   }
  },
  {
   "cell_type": "code",
   "execution_count": 135,
   "outputs": [
    {
     "data": {
      "text/plain": "       C      mean   std dev\n0   0.01  0.951422  0.003691\n1   0.10  0.972072  0.002521\n2   0.50  0.978045  0.002916\n3  10.00  0.982733  0.003933",
      "text/html": "<div>\n<style scoped>\n    .dataframe tbody tr th:only-of-type {\n        vertical-align: middle;\n    }\n\n    .dataframe tbody tr th {\n        vertical-align: top;\n    }\n\n    .dataframe thead th {\n        text-align: right;\n    }\n</style>\n<table border=\"1\" class=\"dataframe\">\n  <thead>\n    <tr style=\"text-align: right;\">\n      <th></th>\n      <th>C</th>\n      <th>mean</th>\n      <th>std dev</th>\n    </tr>\n  </thead>\n  <tbody>\n    <tr>\n      <th>0</th>\n      <td>0.01</td>\n      <td>0.951422</td>\n      <td>0.003691</td>\n    </tr>\n    <tr>\n      <th>1</th>\n      <td>0.10</td>\n      <td>0.972072</td>\n      <td>0.002521</td>\n    </tr>\n    <tr>\n      <th>2</th>\n      <td>0.50</td>\n      <td>0.978045</td>\n      <td>0.002916</td>\n    </tr>\n    <tr>\n      <th>3</th>\n      <td>10.00</td>\n      <td>0.982733</td>\n      <td>0.003933</td>\n    </tr>\n  </tbody>\n</table>\n</div>"
     },
     "execution_count": 135,
     "metadata": {},
     "output_type": "execute_result"
    }
   ],
   "source": [
    "pd.DataFrame(scores,columns=['C','mean','std dev'])"
   ],
   "metadata": {
    "collapsed": false,
    "pycharm": {
     "name": "#%%\n"
    }
   }
  },
  {
   "cell_type": "code",
   "execution_count": null,
   "outputs": [],
   "source": [],
   "metadata": {
    "collapsed": false,
    "pycharm": {
     "name": "#%%\n"
    }
   }
  }
 ],
 "metadata": {
  "kernelspec": {
   "display_name": "Python 3",
   "language": "python",
   "name": "python3"
  },
  "language_info": {
   "codemirror_mode": {
    "name": "ipython",
    "version": 2
   },
   "file_extension": ".py",
   "mimetype": "text/x-python",
   "name": "python",
   "nbconvert_exporter": "python",
   "pygments_lexer": "ipython2",
   "version": "2.7.6"
  }
 },
 "nbformat": 4,
 "nbformat_minor": 0
}