{
 "cells": [
  {
   "cell_type": "code",
   "execution_count": 4,
   "metadata": {
    "collapsed": true,
    "pycharm": {
     "name": "#%%\n"
    }
   },
   "outputs": [
    {
     "data": {
      "text/plain": "       longitude  latitude  housing_median_age  total_rooms  total_bedrooms  \\\n0        -122.23     37.88                41.0        880.0           129.0   \n1        -122.22     37.86                21.0       7099.0          1106.0   \n2        -122.24     37.85                52.0       1467.0           190.0   \n3        -122.25     37.85                52.0       1274.0           235.0   \n4        -122.25     37.85                52.0       1627.0           280.0   \n...          ...       ...                 ...          ...             ...   \n20635    -121.09     39.48                25.0       1665.0           374.0   \n20636    -121.21     39.49                18.0        697.0           150.0   \n20637    -121.22     39.43                17.0       2254.0           485.0   \n20638    -121.32     39.43                18.0       1860.0           409.0   \n20639    -121.24     39.37                16.0       2785.0           616.0   \n\n       population  households  median_income  median_house_value  \\\n0           322.0       126.0         8.3252            452600.0   \n1          2401.0      1138.0         8.3014            358500.0   \n2           496.0       177.0         7.2574            352100.0   \n3           558.0       219.0         5.6431            341300.0   \n4           565.0       259.0         3.8462            342200.0   \n...           ...         ...            ...                 ...   \n20635       845.0       330.0         1.5603             78100.0   \n20636       356.0       114.0         2.5568             77100.0   \n20637      1007.0       433.0         1.7000             92300.0   \n20638       741.0       349.0         1.8672             84700.0   \n20639      1387.0       530.0         2.3886             89400.0   \n\n      ocean_proximity  \n0            NEAR BAY  \n1            NEAR BAY  \n2            NEAR BAY  \n3            NEAR BAY  \n4            NEAR BAY  \n...               ...  \n20635          INLAND  \n20636          INLAND  \n20637          INLAND  \n20638          INLAND  \n20639          INLAND  \n\n[20640 rows x 10 columns]",
      "text/html": "<div>\n<style scoped>\n    .dataframe tbody tr th:only-of-type {\n        vertical-align: middle;\n    }\n\n    .dataframe tbody tr th {\n        vertical-align: top;\n    }\n\n    .dataframe thead th {\n        text-align: right;\n    }\n</style>\n<table border=\"1\" class=\"dataframe\">\n  <thead>\n    <tr style=\"text-align: right;\">\n      <th></th>\n      <th>longitude</th>\n      <th>latitude</th>\n      <th>housing_median_age</th>\n      <th>total_rooms</th>\n      <th>total_bedrooms</th>\n      <th>population</th>\n      <th>households</th>\n      <th>median_income</th>\n      <th>median_house_value</th>\n      <th>ocean_proximity</th>\n    </tr>\n  </thead>\n  <tbody>\n    <tr>\n      <th>0</th>\n      <td>-122.23</td>\n      <td>37.88</td>\n      <td>41.0</td>\n      <td>880.0</td>\n      <td>129.0</td>\n      <td>322.0</td>\n      <td>126.0</td>\n      <td>8.3252</td>\n      <td>452600.0</td>\n      <td>NEAR BAY</td>\n    </tr>\n    <tr>\n      <th>1</th>\n      <td>-122.22</td>\n      <td>37.86</td>\n      <td>21.0</td>\n      <td>7099.0</td>\n      <td>1106.0</td>\n      <td>2401.0</td>\n      <td>1138.0</td>\n      <td>8.3014</td>\n      <td>358500.0</td>\n      <td>NEAR BAY</td>\n    </tr>\n    <tr>\n      <th>2</th>\n      <td>-122.24</td>\n      <td>37.85</td>\n      <td>52.0</td>\n      <td>1467.0</td>\n      <td>190.0</td>\n      <td>496.0</td>\n      <td>177.0</td>\n      <td>7.2574</td>\n      <td>352100.0</td>\n      <td>NEAR BAY</td>\n    </tr>\n    <tr>\n      <th>3</th>\n      <td>-122.25</td>\n      <td>37.85</td>\n      <td>52.0</td>\n      <td>1274.0</td>\n      <td>235.0</td>\n      <td>558.0</td>\n      <td>219.0</td>\n      <td>5.6431</td>\n      <td>341300.0</td>\n      <td>NEAR BAY</td>\n    </tr>\n    <tr>\n      <th>4</th>\n      <td>-122.25</td>\n      <td>37.85</td>\n      <td>52.0</td>\n      <td>1627.0</td>\n      <td>280.0</td>\n      <td>565.0</td>\n      <td>259.0</td>\n      <td>3.8462</td>\n      <td>342200.0</td>\n      <td>NEAR BAY</td>\n    </tr>\n    <tr>\n      <th>...</th>\n      <td>...</td>\n      <td>...</td>\n      <td>...</td>\n      <td>...</td>\n      <td>...</td>\n      <td>...</td>\n      <td>...</td>\n      <td>...</td>\n      <td>...</td>\n      <td>...</td>\n    </tr>\n    <tr>\n      <th>20635</th>\n      <td>-121.09</td>\n      <td>39.48</td>\n      <td>25.0</td>\n      <td>1665.0</td>\n      <td>374.0</td>\n      <td>845.0</td>\n      <td>330.0</td>\n      <td>1.5603</td>\n      <td>78100.0</td>\n      <td>INLAND</td>\n    </tr>\n    <tr>\n      <th>20636</th>\n      <td>-121.21</td>\n      <td>39.49</td>\n      <td>18.0</td>\n      <td>697.0</td>\n      <td>150.0</td>\n      <td>356.0</td>\n      <td>114.0</td>\n      <td>2.5568</td>\n      <td>77100.0</td>\n      <td>INLAND</td>\n    </tr>\n    <tr>\n      <th>20637</th>\n      <td>-121.22</td>\n      <td>39.43</td>\n      <td>17.0</td>\n      <td>2254.0</td>\n      <td>485.0</td>\n      <td>1007.0</td>\n      <td>433.0</td>\n      <td>1.7000</td>\n      <td>92300.0</td>\n      <td>INLAND</td>\n    </tr>\n    <tr>\n      <th>20638</th>\n      <td>-121.32</td>\n      <td>39.43</td>\n      <td>18.0</td>\n      <td>1860.0</td>\n      <td>409.0</td>\n      <td>741.0</td>\n      <td>349.0</td>\n      <td>1.8672</td>\n      <td>84700.0</td>\n      <td>INLAND</td>\n    </tr>\n    <tr>\n      <th>20639</th>\n      <td>-121.24</td>\n      <td>39.37</td>\n      <td>16.0</td>\n      <td>2785.0</td>\n      <td>616.0</td>\n      <td>1387.0</td>\n      <td>530.0</td>\n      <td>2.3886</td>\n      <td>89400.0</td>\n      <td>INLAND</td>\n    </tr>\n  </tbody>\n</table>\n<p>20640 rows × 10 columns</p>\n</div>"
     },
     "execution_count": 4,
     "metadata": {},
     "output_type": "execute_result"
    }
   ],
   "source": [
    "import numpy as np\n",
    "import pandas as pd\n",
    "\n",
    "import seaborn as sns\n",
    "from matplotlib import pyplot as plt\n",
    "\n",
    "\n",
    "\n",
    "df = pd.read_csv('housing.csv')\n",
    "df\n"
   ]
  },
  {
   "cell_type": "code",
   "execution_count": null,
   "outputs": [],
   "source": [],
   "metadata": {
    "collapsed": false,
    "pycharm": {
     "name": "#%%\n"
    }
   }
  },
  {
   "cell_type": "code",
   "execution_count": null,
   "outputs": [],
   "source": [],
   "metadata": {
    "collapsed": false,
    "pycharm": {
     "name": "#%%\n"
    }
   }
  },
  {
   "cell_type": "code",
   "execution_count": null,
   "outputs": [],
   "source": [],
   "metadata": {
    "collapsed": false,
    "pycharm": {
     "name": "#%%\n"
    }
   }
  },
  {
   "cell_type": "code",
   "execution_count": 5,
   "outputs": [],
   "source": [
    "df.columns = df.columns.str.lower().str.replace(' ', '_')\n",
    "\n",
    "string_columns = list(df.dtypes[df.dtypes == 'object'].index)\n",
    "\n",
    "for col in string_columns:\n",
    "    df[col] = df[col].str.lower().str.replace(' ', '_')"
   ],
   "metadata": {
    "collapsed": false,
    "pycharm": {
     "name": "#%%\n"
    }
   }
  },
  {
   "cell_type": "code",
   "execution_count": 6,
   "outputs": [
    {
     "data": {
      "text/plain": "       longitude  latitude  housing_median_age  total_rooms  total_bedrooms  \\\n0        -122.23     37.88                41.0        880.0           129.0   \n1        -122.22     37.86                21.0       7099.0          1106.0   \n2        -122.24     37.85                52.0       1467.0           190.0   \n3        -122.25     37.85                52.0       1274.0           235.0   \n4        -122.25     37.85                52.0       1627.0           280.0   \n...          ...       ...                 ...          ...             ...   \n20635    -121.09     39.48                25.0       1665.0           374.0   \n20636    -121.21     39.49                18.0        697.0           150.0   \n20637    -121.22     39.43                17.0       2254.0           485.0   \n20638    -121.32     39.43                18.0       1860.0           409.0   \n20639    -121.24     39.37                16.0       2785.0           616.0   \n\n       population  households  median_income  median_house_value  \\\n0           322.0       126.0         8.3252            452600.0   \n1          2401.0      1138.0         8.3014            358500.0   \n2           496.0       177.0         7.2574            352100.0   \n3           558.0       219.0         5.6431            341300.0   \n4           565.0       259.0         3.8462            342200.0   \n...           ...         ...            ...                 ...   \n20635       845.0       330.0         1.5603             78100.0   \n20636       356.0       114.0         2.5568             77100.0   \n20637      1007.0       433.0         1.7000             92300.0   \n20638       741.0       349.0         1.8672             84700.0   \n20639      1387.0       530.0         2.3886             89400.0   \n\n      ocean_proximity  \n0            near_bay  \n1            near_bay  \n2            near_bay  \n3            near_bay  \n4            near_bay  \n...               ...  \n20635          inland  \n20636          inland  \n20637          inland  \n20638          inland  \n20639          inland  \n\n[20640 rows x 10 columns]",
      "text/html": "<div>\n<style scoped>\n    .dataframe tbody tr th:only-of-type {\n        vertical-align: middle;\n    }\n\n    .dataframe tbody tr th {\n        vertical-align: top;\n    }\n\n    .dataframe thead th {\n        text-align: right;\n    }\n</style>\n<table border=\"1\" class=\"dataframe\">\n  <thead>\n    <tr style=\"text-align: right;\">\n      <th></th>\n      <th>longitude</th>\n      <th>latitude</th>\n      <th>housing_median_age</th>\n      <th>total_rooms</th>\n      <th>total_bedrooms</th>\n      <th>population</th>\n      <th>households</th>\n      <th>median_income</th>\n      <th>median_house_value</th>\n      <th>ocean_proximity</th>\n    </tr>\n  </thead>\n  <tbody>\n    <tr>\n      <th>0</th>\n      <td>-122.23</td>\n      <td>37.88</td>\n      <td>41.0</td>\n      <td>880.0</td>\n      <td>129.0</td>\n      <td>322.0</td>\n      <td>126.0</td>\n      <td>8.3252</td>\n      <td>452600.0</td>\n      <td>near_bay</td>\n    </tr>\n    <tr>\n      <th>1</th>\n      <td>-122.22</td>\n      <td>37.86</td>\n      <td>21.0</td>\n      <td>7099.0</td>\n      <td>1106.0</td>\n      <td>2401.0</td>\n      <td>1138.0</td>\n      <td>8.3014</td>\n      <td>358500.0</td>\n      <td>near_bay</td>\n    </tr>\n    <tr>\n      <th>2</th>\n      <td>-122.24</td>\n      <td>37.85</td>\n      <td>52.0</td>\n      <td>1467.0</td>\n      <td>190.0</td>\n      <td>496.0</td>\n      <td>177.0</td>\n      <td>7.2574</td>\n      <td>352100.0</td>\n      <td>near_bay</td>\n    </tr>\n    <tr>\n      <th>3</th>\n      <td>-122.25</td>\n      <td>37.85</td>\n      <td>52.0</td>\n      <td>1274.0</td>\n      <td>235.0</td>\n      <td>558.0</td>\n      <td>219.0</td>\n      <td>5.6431</td>\n      <td>341300.0</td>\n      <td>near_bay</td>\n    </tr>\n    <tr>\n      <th>4</th>\n      <td>-122.25</td>\n      <td>37.85</td>\n      <td>52.0</td>\n      <td>1627.0</td>\n      <td>280.0</td>\n      <td>565.0</td>\n      <td>259.0</td>\n      <td>3.8462</td>\n      <td>342200.0</td>\n      <td>near_bay</td>\n    </tr>\n    <tr>\n      <th>...</th>\n      <td>...</td>\n      <td>...</td>\n      <td>...</td>\n      <td>...</td>\n      <td>...</td>\n      <td>...</td>\n      <td>...</td>\n      <td>...</td>\n      <td>...</td>\n      <td>...</td>\n    </tr>\n    <tr>\n      <th>20635</th>\n      <td>-121.09</td>\n      <td>39.48</td>\n      <td>25.0</td>\n      <td>1665.0</td>\n      <td>374.0</td>\n      <td>845.0</td>\n      <td>330.0</td>\n      <td>1.5603</td>\n      <td>78100.0</td>\n      <td>inland</td>\n    </tr>\n    <tr>\n      <th>20636</th>\n      <td>-121.21</td>\n      <td>39.49</td>\n      <td>18.0</td>\n      <td>697.0</td>\n      <td>150.0</td>\n      <td>356.0</td>\n      <td>114.0</td>\n      <td>2.5568</td>\n      <td>77100.0</td>\n      <td>inland</td>\n    </tr>\n    <tr>\n      <th>20637</th>\n      <td>-121.22</td>\n      <td>39.43</td>\n      <td>17.0</td>\n      <td>2254.0</td>\n      <td>485.0</td>\n      <td>1007.0</td>\n      <td>433.0</td>\n      <td>1.7000</td>\n      <td>92300.0</td>\n      <td>inland</td>\n    </tr>\n    <tr>\n      <th>20638</th>\n      <td>-121.32</td>\n      <td>39.43</td>\n      <td>18.0</td>\n      <td>1860.0</td>\n      <td>409.0</td>\n      <td>741.0</td>\n      <td>349.0</td>\n      <td>1.8672</td>\n      <td>84700.0</td>\n      <td>inland</td>\n    </tr>\n    <tr>\n      <th>20639</th>\n      <td>-121.24</td>\n      <td>39.37</td>\n      <td>16.0</td>\n      <td>2785.0</td>\n      <td>616.0</td>\n      <td>1387.0</td>\n      <td>530.0</td>\n      <td>2.3886</td>\n      <td>89400.0</td>\n      <td>inland</td>\n    </tr>\n  </tbody>\n</table>\n<p>20640 rows × 10 columns</p>\n</div>"
     },
     "execution_count": 6,
     "metadata": {},
     "output_type": "execute_result"
    }
   ],
   "source": [
    "df"
   ],
   "metadata": {
    "collapsed": false,
    "pycharm": {
     "name": "#%%\n"
    }
   }
  },
  {
   "cell_type": "code",
   "execution_count": null,
   "outputs": [],
   "source": [],
   "metadata": {
    "collapsed": false,
    "pycharm": {
     "name": "#%%\n"
    }
   }
  },
  {
   "cell_type": "code",
   "execution_count": 7,
   "outputs": [
    {
     "data": {
      "text/plain": "longitude               0\nlatitude                0\nhousing_median_age      0\ntotal_rooms             0\ntotal_bedrooms        157\npopulation              0\nhouseholds              0\nmedian_income           0\nmedian_house_value      0\nocean_proximity         0\ndtype: int64"
     },
     "execution_count": 7,
     "metadata": {},
     "output_type": "execute_result"
    }
   ],
   "source": [
    "df_subset = df[(df.ocean_proximity == \"<1h_ocean\") | (df.ocean_proximity == \"inland\")]\n",
    "\n"
   ],
   "metadata": {
    "collapsed": false,
    "pycharm": {
     "name": "#%%\n"
    }
   }
  },
  {
   "cell_type": "code",
   "execution_count": 8,
   "outputs": [
    {
     "data": {
      "text/plain": "       longitude  latitude  housing_median_age  total_rooms  total_bedrooms  \\\n701      -121.97     37.64                32.0       1283.0           194.0   \n830      -121.99     37.61                 9.0       3666.0           711.0   \n859      -121.97     37.57                21.0       4342.0           783.0   \n860      -121.96     37.58                15.0       3575.0           597.0   \n861      -121.98     37.58                20.0       4126.0          1031.0   \n...          ...       ...                 ...          ...             ...   \n20635    -121.09     39.48                25.0       1665.0           374.0   \n20636    -121.21     39.49                18.0        697.0           150.0   \n20637    -121.22     39.43                17.0       2254.0           485.0   \n20638    -121.32     39.43                18.0       1860.0           409.0   \n20639    -121.24     39.37                16.0       2785.0           616.0   \n\n       population  households  median_income  median_house_value  \\\n701         485.0       171.0         6.0574            431000.0   \n830        2341.0       703.0         4.6458            217000.0   \n859        2172.0       789.0         4.6146            247600.0   \n860        1777.0       559.0         5.7192            283500.0   \n861        2079.0       975.0         3.6832            216900.0   \n...           ...         ...            ...                 ...   \n20635       845.0       330.0         1.5603             78100.0   \n20636       356.0       114.0         2.5568             77100.0   \n20637      1007.0       433.0         1.7000             92300.0   \n20638       741.0       349.0         1.8672             84700.0   \n20639      1387.0       530.0         2.3886             89400.0   \n\n      ocean_proximity  \n701         <1h_ocean  \n830         <1h_ocean  \n859         <1h_ocean  \n860         <1h_ocean  \n861         <1h_ocean  \n...               ...  \n20635          inland  \n20636          inland  \n20637          inland  \n20638          inland  \n20639          inland  \n\n[15687 rows x 10 columns]",
      "text/html": "<div>\n<style scoped>\n    .dataframe tbody tr th:only-of-type {\n        vertical-align: middle;\n    }\n\n    .dataframe tbody tr th {\n        vertical-align: top;\n    }\n\n    .dataframe thead th {\n        text-align: right;\n    }\n</style>\n<table border=\"1\" class=\"dataframe\">\n  <thead>\n    <tr style=\"text-align: right;\">\n      <th></th>\n      <th>longitude</th>\n      <th>latitude</th>\n      <th>housing_median_age</th>\n      <th>total_rooms</th>\n      <th>total_bedrooms</th>\n      <th>population</th>\n      <th>households</th>\n      <th>median_income</th>\n      <th>median_house_value</th>\n      <th>ocean_proximity</th>\n    </tr>\n  </thead>\n  <tbody>\n    <tr>\n      <th>701</th>\n      <td>-121.97</td>\n      <td>37.64</td>\n      <td>32.0</td>\n      <td>1283.0</td>\n      <td>194.0</td>\n      <td>485.0</td>\n      <td>171.0</td>\n      <td>6.0574</td>\n      <td>431000.0</td>\n      <td>&lt;1h_ocean</td>\n    </tr>\n    <tr>\n      <th>830</th>\n      <td>-121.99</td>\n      <td>37.61</td>\n      <td>9.0</td>\n      <td>3666.0</td>\n      <td>711.0</td>\n      <td>2341.0</td>\n      <td>703.0</td>\n      <td>4.6458</td>\n      <td>217000.0</td>\n      <td>&lt;1h_ocean</td>\n    </tr>\n    <tr>\n      <th>859</th>\n      <td>-121.97</td>\n      <td>37.57</td>\n      <td>21.0</td>\n      <td>4342.0</td>\n      <td>783.0</td>\n      <td>2172.0</td>\n      <td>789.0</td>\n      <td>4.6146</td>\n      <td>247600.0</td>\n      <td>&lt;1h_ocean</td>\n    </tr>\n    <tr>\n      <th>860</th>\n      <td>-121.96</td>\n      <td>37.58</td>\n      <td>15.0</td>\n      <td>3575.0</td>\n      <td>597.0</td>\n      <td>1777.0</td>\n      <td>559.0</td>\n      <td>5.7192</td>\n      <td>283500.0</td>\n      <td>&lt;1h_ocean</td>\n    </tr>\n    <tr>\n      <th>861</th>\n      <td>-121.98</td>\n      <td>37.58</td>\n      <td>20.0</td>\n      <td>4126.0</td>\n      <td>1031.0</td>\n      <td>2079.0</td>\n      <td>975.0</td>\n      <td>3.6832</td>\n      <td>216900.0</td>\n      <td>&lt;1h_ocean</td>\n    </tr>\n    <tr>\n      <th>...</th>\n      <td>...</td>\n      <td>...</td>\n      <td>...</td>\n      <td>...</td>\n      <td>...</td>\n      <td>...</td>\n      <td>...</td>\n      <td>...</td>\n      <td>...</td>\n      <td>...</td>\n    </tr>\n    <tr>\n      <th>20635</th>\n      <td>-121.09</td>\n      <td>39.48</td>\n      <td>25.0</td>\n      <td>1665.0</td>\n      <td>374.0</td>\n      <td>845.0</td>\n      <td>330.0</td>\n      <td>1.5603</td>\n      <td>78100.0</td>\n      <td>inland</td>\n    </tr>\n    <tr>\n      <th>20636</th>\n      <td>-121.21</td>\n      <td>39.49</td>\n      <td>18.0</td>\n      <td>697.0</td>\n      <td>150.0</td>\n      <td>356.0</td>\n      <td>114.0</td>\n      <td>2.5568</td>\n      <td>77100.0</td>\n      <td>inland</td>\n    </tr>\n    <tr>\n      <th>20637</th>\n      <td>-121.22</td>\n      <td>39.43</td>\n      <td>17.0</td>\n      <td>2254.0</td>\n      <td>485.0</td>\n      <td>1007.0</td>\n      <td>433.0</td>\n      <td>1.7000</td>\n      <td>92300.0</td>\n      <td>inland</td>\n    </tr>\n    <tr>\n      <th>20638</th>\n      <td>-121.32</td>\n      <td>39.43</td>\n      <td>18.0</td>\n      <td>1860.0</td>\n      <td>409.0</td>\n      <td>741.0</td>\n      <td>349.0</td>\n      <td>1.8672</td>\n      <td>84700.0</td>\n      <td>inland</td>\n    </tr>\n    <tr>\n      <th>20639</th>\n      <td>-121.24</td>\n      <td>39.37</td>\n      <td>16.0</td>\n      <td>2785.0</td>\n      <td>616.0</td>\n      <td>1387.0</td>\n      <td>530.0</td>\n      <td>2.3886</td>\n      <td>89400.0</td>\n      <td>inland</td>\n    </tr>\n  </tbody>\n</table>\n<p>15687 rows × 10 columns</p>\n</div>"
     },
     "execution_count": 8,
     "metadata": {},
     "output_type": "execute_result"
    }
   ],
   "source": [
    "df_subset"
   ],
   "metadata": {
    "collapsed": false,
    "pycharm": {
     "name": "#%%\n"
    }
   }
  },
  {
   "cell_type": "code",
   "execution_count": 11,
   "outputs": [],
   "source": [
    "df_subset=df_subset.fillna(0)"
   ],
   "metadata": {
    "collapsed": false,
    "pycharm": {
     "name": "#%%\n"
    }
   }
  },
  {
   "cell_type": "code",
   "execution_count": 12,
   "outputs": [
    {
     "data": {
      "text/plain": "longitude             0\nlatitude              0\nhousing_median_age    0\ntotal_rooms           0\ntotal_bedrooms        0\npopulation            0\nhouseholds            0\nmedian_income         0\nmedian_house_value    0\nocean_proximity       0\ndtype: int64"
     },
     "execution_count": 12,
     "metadata": {},
     "output_type": "execute_result"
    }
   ],
   "source": [
    "df_subset.isnull().sum()"
   ],
   "metadata": {
    "collapsed": false,
    "pycharm": {
     "name": "#%%\n"
    }
   }
  },
  {
   "cell_type": "code",
   "execution_count": 13,
   "outputs": [],
   "source": [
    "df_subset['median_house_value']=np.log1p(df_subset['median_house_value'])"
   ],
   "metadata": {
    "collapsed": false,
    "pycharm": {
     "name": "#%%\n"
    }
   }
  },
  {
   "cell_type": "code",
   "execution_count": 14,
   "outputs": [
    {
     "data": {
      "text/plain": "       longitude  latitude  housing_median_age  total_rooms  total_bedrooms  \\\n701      -121.97     37.64                32.0       1283.0           194.0   \n830      -121.99     37.61                 9.0       3666.0           711.0   \n859      -121.97     37.57                21.0       4342.0           783.0   \n860      -121.96     37.58                15.0       3575.0           597.0   \n861      -121.98     37.58                20.0       4126.0          1031.0   \n...          ...       ...                 ...          ...             ...   \n20635    -121.09     39.48                25.0       1665.0           374.0   \n20636    -121.21     39.49                18.0        697.0           150.0   \n20637    -121.22     39.43                17.0       2254.0           485.0   \n20638    -121.32     39.43                18.0       1860.0           409.0   \n20639    -121.24     39.37                16.0       2785.0           616.0   \n\n       population  households  median_income  median_house_value  \\\n701         485.0       171.0         6.0574           12.973866   \n830        2341.0       703.0         4.6458           12.287657   \n859        2172.0       789.0         4.6146           12.419574   \n860        1777.0       559.0         5.7192           12.554971   \n861        2079.0       975.0         3.6832           12.287196   \n...           ...         ...            ...                 ...   \n20635       845.0       330.0         1.5603           11.265758   \n20636       356.0       114.0         2.5568           11.252872   \n20637      1007.0       433.0         1.7000           11.432810   \n20638       741.0       349.0         1.8672           11.346883   \n20639      1387.0       530.0         2.3886           11.400887   \n\n      ocean_proximity  \n701         <1h_ocean  \n830         <1h_ocean  \n859         <1h_ocean  \n860         <1h_ocean  \n861         <1h_ocean  \n...               ...  \n20635          inland  \n20636          inland  \n20637          inland  \n20638          inland  \n20639          inland  \n\n[15687 rows x 10 columns]",
      "text/html": "<div>\n<style scoped>\n    .dataframe tbody tr th:only-of-type {\n        vertical-align: middle;\n    }\n\n    .dataframe tbody tr th {\n        vertical-align: top;\n    }\n\n    .dataframe thead th {\n        text-align: right;\n    }\n</style>\n<table border=\"1\" class=\"dataframe\">\n  <thead>\n    <tr style=\"text-align: right;\">\n      <th></th>\n      <th>longitude</th>\n      <th>latitude</th>\n      <th>housing_median_age</th>\n      <th>total_rooms</th>\n      <th>total_bedrooms</th>\n      <th>population</th>\n      <th>households</th>\n      <th>median_income</th>\n      <th>median_house_value</th>\n      <th>ocean_proximity</th>\n    </tr>\n  </thead>\n  <tbody>\n    <tr>\n      <th>701</th>\n      <td>-121.97</td>\n      <td>37.64</td>\n      <td>32.0</td>\n      <td>1283.0</td>\n      <td>194.0</td>\n      <td>485.0</td>\n      <td>171.0</td>\n      <td>6.0574</td>\n      <td>12.973866</td>\n      <td>&lt;1h_ocean</td>\n    </tr>\n    <tr>\n      <th>830</th>\n      <td>-121.99</td>\n      <td>37.61</td>\n      <td>9.0</td>\n      <td>3666.0</td>\n      <td>711.0</td>\n      <td>2341.0</td>\n      <td>703.0</td>\n      <td>4.6458</td>\n      <td>12.287657</td>\n      <td>&lt;1h_ocean</td>\n    </tr>\n    <tr>\n      <th>859</th>\n      <td>-121.97</td>\n      <td>37.57</td>\n      <td>21.0</td>\n      <td>4342.0</td>\n      <td>783.0</td>\n      <td>2172.0</td>\n      <td>789.0</td>\n      <td>4.6146</td>\n      <td>12.419574</td>\n      <td>&lt;1h_ocean</td>\n    </tr>\n    <tr>\n      <th>860</th>\n      <td>-121.96</td>\n      <td>37.58</td>\n      <td>15.0</td>\n      <td>3575.0</td>\n      <td>597.0</td>\n      <td>1777.0</td>\n      <td>559.0</td>\n      <td>5.7192</td>\n      <td>12.554971</td>\n      <td>&lt;1h_ocean</td>\n    </tr>\n    <tr>\n      <th>861</th>\n      <td>-121.98</td>\n      <td>37.58</td>\n      <td>20.0</td>\n      <td>4126.0</td>\n      <td>1031.0</td>\n      <td>2079.0</td>\n      <td>975.0</td>\n      <td>3.6832</td>\n      <td>12.287196</td>\n      <td>&lt;1h_ocean</td>\n    </tr>\n    <tr>\n      <th>...</th>\n      <td>...</td>\n      <td>...</td>\n      <td>...</td>\n      <td>...</td>\n      <td>...</td>\n      <td>...</td>\n      <td>...</td>\n      <td>...</td>\n      <td>...</td>\n      <td>...</td>\n    </tr>\n    <tr>\n      <th>20635</th>\n      <td>-121.09</td>\n      <td>39.48</td>\n      <td>25.0</td>\n      <td>1665.0</td>\n      <td>374.0</td>\n      <td>845.0</td>\n      <td>330.0</td>\n      <td>1.5603</td>\n      <td>11.265758</td>\n      <td>inland</td>\n    </tr>\n    <tr>\n      <th>20636</th>\n      <td>-121.21</td>\n      <td>39.49</td>\n      <td>18.0</td>\n      <td>697.0</td>\n      <td>150.0</td>\n      <td>356.0</td>\n      <td>114.0</td>\n      <td>2.5568</td>\n      <td>11.252872</td>\n      <td>inland</td>\n    </tr>\n    <tr>\n      <th>20637</th>\n      <td>-121.22</td>\n      <td>39.43</td>\n      <td>17.0</td>\n      <td>2254.0</td>\n      <td>485.0</td>\n      <td>1007.0</td>\n      <td>433.0</td>\n      <td>1.7000</td>\n      <td>11.432810</td>\n      <td>inland</td>\n    </tr>\n    <tr>\n      <th>20638</th>\n      <td>-121.32</td>\n      <td>39.43</td>\n      <td>18.0</td>\n      <td>1860.0</td>\n      <td>409.0</td>\n      <td>741.0</td>\n      <td>349.0</td>\n      <td>1.8672</td>\n      <td>11.346883</td>\n      <td>inland</td>\n    </tr>\n    <tr>\n      <th>20639</th>\n      <td>-121.24</td>\n      <td>39.37</td>\n      <td>16.0</td>\n      <td>2785.0</td>\n      <td>616.0</td>\n      <td>1387.0</td>\n      <td>530.0</td>\n      <td>2.3886</td>\n      <td>11.400887</td>\n      <td>inland</td>\n    </tr>\n  </tbody>\n</table>\n<p>15687 rows × 10 columns</p>\n</div>"
     },
     "execution_count": 14,
     "metadata": {},
     "output_type": "execute_result"
    }
   ],
   "source": [
    "df_subset"
   ],
   "metadata": {
    "collapsed": false,
    "pycharm": {
     "name": "#%%\n"
    }
   }
  },
  {
   "cell_type": "code",
   "execution_count": 15,
   "outputs": [],
   "source": [
    "from sklearn.model_selection import train_test_split\n",
    "from sklearn.feature_extraction import DictVectorizer"
   ],
   "metadata": {
    "collapsed": false,
    "pycharm": {
     "name": "#%%\n"
    }
   }
  },
  {
   "cell_type": "code",
   "execution_count": 19,
   "outputs": [],
   "source": [
    "df_train_full, df_test = train_test_split(df_subset, test_size=0.2, random_state=1)\n",
    "df_train, df_val = train_test_split(df_train_full, test_size=0.25, random_state=1)\n"
   ],
   "metadata": {
    "collapsed": false,
    "pycharm": {
     "name": "#%%\n"
    }
   }
  },
  {
   "cell_type": "code",
   "execution_count": 20,
   "outputs": [],
   "source": [
    "assert len(df_subset)==sum((len(df_train),len(df_val),len(df_test)))"
   ],
   "metadata": {
    "collapsed": false,
    "pycharm": {
     "name": "#%%\n"
    }
   }
  },
  {
   "cell_type": "code",
   "execution_count": 22,
   "outputs": [],
   "source": [
    "y_train = df_train.median_house_value.values\n",
    "y_val = df_val.median_house_value.values\n",
    "y_test = df_test.median_house_value.values"
   ],
   "metadata": {
    "collapsed": false,
    "pycharm": {
     "name": "#%%\n"
    }
   }
  },
  {
   "cell_type": "code",
   "execution_count": 21,
   "outputs": [],
   "source": [
    "df_train = df_train.reset_index(drop=True)\n",
    "df_val = df_val.reset_index(drop=True)\n",
    "df_test = df_test.reset_index(drop=True)"
   ],
   "metadata": {
    "collapsed": false,
    "pycharm": {
     "name": "#%%\n"
    }
   }
  },
  {
   "cell_type": "code",
   "execution_count": 23,
   "outputs": [
    {
     "data": {
      "text/plain": "      longitude  latitude  housing_median_age  total_rooms  total_bedrooms  \\\n0       -120.25     37.93                13.0        493.0            76.0   \n1       -118.40     34.00                10.0       1526.0           339.0   \n2       -121.67     38.85                46.0        645.0           131.0   \n3       -118.14     33.88                24.0       3305.0           982.0   \n4       -118.11     33.92                34.0       1414.0           263.0   \n...         ...       ...                 ...          ...             ...   \n9406    -118.00     34.12                37.0       1340.0           325.0   \n9407    -118.10     34.10                34.0       2578.0           645.0   \n9408    -117.45     34.01                26.0       3042.0           598.0   \n9409    -117.94     34.03                35.0       1375.0           249.0   \n9410    -120.02     36.80                25.0       1270.0           255.0   \n\n      population  households  median_income  median_house_value  \\\n0          196.0        68.0         3.3750           11.806349   \n1          705.0       268.0         5.8083           12.681689   \n2          410.0       122.0         1.7417           11.611874   \n3         2085.0       881.0         2.6641           12.032915   \n4          983.0       264.0         4.1767           11.961456   \n...          ...         ...            ...                 ...   \n9406       928.0       333.0         3.9219           12.072547   \n9407      1628.0       617.0         2.3400           12.259144   \n9408      1720.0       551.0         2.7600           11.463746   \n9409      1015.0       239.0         4.0521           11.930326   \n9410      1050.0       245.0         2.1618           10.920546   \n\n     ocean_proximity  \n0             inland  \n1          <1h_ocean  \n2             inland  \n3          <1h_ocean  \n4          <1h_ocean  \n...              ...  \n9406          inland  \n9407       <1h_ocean  \n9408          inland  \n9409       <1h_ocean  \n9410          inland  \n\n[9411 rows x 10 columns]",
      "text/html": "<div>\n<style scoped>\n    .dataframe tbody tr th:only-of-type {\n        vertical-align: middle;\n    }\n\n    .dataframe tbody tr th {\n        vertical-align: top;\n    }\n\n    .dataframe thead th {\n        text-align: right;\n    }\n</style>\n<table border=\"1\" class=\"dataframe\">\n  <thead>\n    <tr style=\"text-align: right;\">\n      <th></th>\n      <th>longitude</th>\n      <th>latitude</th>\n      <th>housing_median_age</th>\n      <th>total_rooms</th>\n      <th>total_bedrooms</th>\n      <th>population</th>\n      <th>households</th>\n      <th>median_income</th>\n      <th>median_house_value</th>\n      <th>ocean_proximity</th>\n    </tr>\n  </thead>\n  <tbody>\n    <tr>\n      <th>0</th>\n      <td>-120.25</td>\n      <td>37.93</td>\n      <td>13.0</td>\n      <td>493.0</td>\n      <td>76.0</td>\n      <td>196.0</td>\n      <td>68.0</td>\n      <td>3.3750</td>\n      <td>11.806349</td>\n      <td>inland</td>\n    </tr>\n    <tr>\n      <th>1</th>\n      <td>-118.40</td>\n      <td>34.00</td>\n      <td>10.0</td>\n      <td>1526.0</td>\n      <td>339.0</td>\n      <td>705.0</td>\n      <td>268.0</td>\n      <td>5.8083</td>\n      <td>12.681689</td>\n      <td>&lt;1h_ocean</td>\n    </tr>\n    <tr>\n      <th>2</th>\n      <td>-121.67</td>\n      <td>38.85</td>\n      <td>46.0</td>\n      <td>645.0</td>\n      <td>131.0</td>\n      <td>410.0</td>\n      <td>122.0</td>\n      <td>1.7417</td>\n      <td>11.611874</td>\n      <td>inland</td>\n    </tr>\n    <tr>\n      <th>3</th>\n      <td>-118.14</td>\n      <td>33.88</td>\n      <td>24.0</td>\n      <td>3305.0</td>\n      <td>982.0</td>\n      <td>2085.0</td>\n      <td>881.0</td>\n      <td>2.6641</td>\n      <td>12.032915</td>\n      <td>&lt;1h_ocean</td>\n    </tr>\n    <tr>\n      <th>4</th>\n      <td>-118.11</td>\n      <td>33.92</td>\n      <td>34.0</td>\n      <td>1414.0</td>\n      <td>263.0</td>\n      <td>983.0</td>\n      <td>264.0</td>\n      <td>4.1767</td>\n      <td>11.961456</td>\n      <td>&lt;1h_ocean</td>\n    </tr>\n    <tr>\n      <th>...</th>\n      <td>...</td>\n      <td>...</td>\n      <td>...</td>\n      <td>...</td>\n      <td>...</td>\n      <td>...</td>\n      <td>...</td>\n      <td>...</td>\n      <td>...</td>\n      <td>...</td>\n    </tr>\n    <tr>\n      <th>9406</th>\n      <td>-118.00</td>\n      <td>34.12</td>\n      <td>37.0</td>\n      <td>1340.0</td>\n      <td>325.0</td>\n      <td>928.0</td>\n      <td>333.0</td>\n      <td>3.9219</td>\n      <td>12.072547</td>\n      <td>inland</td>\n    </tr>\n    <tr>\n      <th>9407</th>\n      <td>-118.10</td>\n      <td>34.10</td>\n      <td>34.0</td>\n      <td>2578.0</td>\n      <td>645.0</td>\n      <td>1628.0</td>\n      <td>617.0</td>\n      <td>2.3400</td>\n      <td>12.259144</td>\n      <td>&lt;1h_ocean</td>\n    </tr>\n    <tr>\n      <th>9408</th>\n      <td>-117.45</td>\n      <td>34.01</td>\n      <td>26.0</td>\n      <td>3042.0</td>\n      <td>598.0</td>\n      <td>1720.0</td>\n      <td>551.0</td>\n      <td>2.7600</td>\n      <td>11.463746</td>\n      <td>inland</td>\n    </tr>\n    <tr>\n      <th>9409</th>\n      <td>-117.94</td>\n      <td>34.03</td>\n      <td>35.0</td>\n      <td>1375.0</td>\n      <td>249.0</td>\n      <td>1015.0</td>\n      <td>239.0</td>\n      <td>4.0521</td>\n      <td>11.930326</td>\n      <td>&lt;1h_ocean</td>\n    </tr>\n    <tr>\n      <th>9410</th>\n      <td>-120.02</td>\n      <td>36.80</td>\n      <td>25.0</td>\n      <td>1270.0</td>\n      <td>255.0</td>\n      <td>1050.0</td>\n      <td>245.0</td>\n      <td>2.1618</td>\n      <td>10.920546</td>\n      <td>inland</td>\n    </tr>\n  </tbody>\n</table>\n<p>9411 rows × 10 columns</p>\n</div>"
     },
     "execution_count": 23,
     "metadata": {},
     "output_type": "execute_result"
    }
   ],
   "source": [
    "df_train"
   ],
   "metadata": {
    "collapsed": false,
    "pycharm": {
     "name": "#%%\n"
    }
   }
  },
  {
   "cell_type": "code",
   "execution_count": 24,
   "outputs": [
    {
     "data": {
      "text/plain": "Index(['longitude', 'latitude', 'housing_median_age', 'total_rooms',\n       'total_bedrooms', 'population', 'households', 'median_income',\n       'median_house_value', 'ocean_proximity'],\n      dtype='object')"
     },
     "execution_count": 24,
     "metadata": {},
     "output_type": "execute_result"
    }
   ],
   "source": [
    "df_train.columns"
   ],
   "metadata": {
    "collapsed": false,
    "pycharm": {
     "name": "#%%\n"
    }
   }
  },
  {
   "cell_type": "code",
   "execution_count": 27,
   "outputs": [],
   "source": [
    "categorical=['ocean_proximity']\n",
    "numerical = ['longitude', 'latitude', 'housing_median_age', 'total_rooms',\n",
    "       'total_bedrooms', 'population', 'households', 'median_income']"
   ],
   "metadata": {
    "collapsed": false,
    "pycharm": {
     "name": "#%%\n"
    }
   }
  },
  {
   "cell_type": "code",
   "execution_count": 29,
   "outputs": [],
   "source": [
    "del df_train['median_house_value']\n",
    "del df_test['median_house_value']\n",
    "del df_val['median_house_value']"
   ],
   "metadata": {
    "collapsed": false,
    "pycharm": {
     "name": "#%%\n"
    }
   }
  },
  {
   "cell_type": "code",
   "execution_count": 30,
   "outputs": [],
   "source": [
    "\n",
    "\n",
    "dv=DictVectorizer(sparse=True)\n",
    "\n",
    "dict_train=df_train.to_dict(orient='records')\n",
    "dict_val=df_val.to_dict(orient='records')\n",
    "dict_test=df_test.to_dict(orient='records')\n",
    "\n",
    "X_train=dv.fit_transform(dict_train)\n",
    "\n",
    "X_val=dv.transform(dict_val)\n",
    "X_test=dv.transform(dict_test)"
   ],
   "metadata": {
    "collapsed": false,
    "pycharm": {
     "name": "#%%\n"
    }
   }
  },
  {
   "cell_type": "code",
   "execution_count": null,
   "outputs": [],
   "source": [],
   "metadata": {
    "collapsed": false,
    "pycharm": {
     "name": "#%%\n"
    }
   }
  },
  {
   "cell_type": "code",
   "execution_count": 34,
   "outputs": [],
   "source": [
    "from sklearn.tree import DecisionTreeRegressor\n",
    "from sklearn.metrics import roc_auc_score"
   ],
   "metadata": {
    "collapsed": false,
    "pycharm": {
     "name": "#%%\n"
    }
   }
  },
  {
   "cell_type": "code",
   "execution_count": 35,
   "outputs": [
    {
     "data": {
      "text/plain": "DecisionTreeRegressor(max_depth=1)",
      "text/html": "<style>#sk-container-id-1 {color: black;}#sk-container-id-1 pre{padding: 0;}#sk-container-id-1 div.sk-toggleable {background-color: white;}#sk-container-id-1 label.sk-toggleable__label {cursor: pointer;display: block;width: 100%;margin-bottom: 0;padding: 0.3em;box-sizing: border-box;text-align: center;}#sk-container-id-1 label.sk-toggleable__label-arrow:before {content: \"▸\";float: left;margin-right: 0.25em;color: #696969;}#sk-container-id-1 label.sk-toggleable__label-arrow:hover:before {color: black;}#sk-container-id-1 div.sk-estimator:hover label.sk-toggleable__label-arrow:before {color: black;}#sk-container-id-1 div.sk-toggleable__content {max-height: 0;max-width: 0;overflow: hidden;text-align: left;background-color: #f0f8ff;}#sk-container-id-1 div.sk-toggleable__content pre {margin: 0.2em;color: black;border-radius: 0.25em;background-color: #f0f8ff;}#sk-container-id-1 input.sk-toggleable__control:checked~div.sk-toggleable__content {max-height: 200px;max-width: 100%;overflow: auto;}#sk-container-id-1 input.sk-toggleable__control:checked~label.sk-toggleable__label-arrow:before {content: \"▾\";}#sk-container-id-1 div.sk-estimator input.sk-toggleable__control:checked~label.sk-toggleable__label {background-color: #d4ebff;}#sk-container-id-1 div.sk-label input.sk-toggleable__control:checked~label.sk-toggleable__label {background-color: #d4ebff;}#sk-container-id-1 input.sk-hidden--visually {border: 0;clip: rect(1px 1px 1px 1px);clip: rect(1px, 1px, 1px, 1px);height: 1px;margin: -1px;overflow: hidden;padding: 0;position: absolute;width: 1px;}#sk-container-id-1 div.sk-estimator {font-family: monospace;background-color: #f0f8ff;border: 1px dotted black;border-radius: 0.25em;box-sizing: border-box;margin-bottom: 0.5em;}#sk-container-id-1 div.sk-estimator:hover {background-color: #d4ebff;}#sk-container-id-1 div.sk-parallel-item::after {content: \"\";width: 100%;border-bottom: 1px solid gray;flex-grow: 1;}#sk-container-id-1 div.sk-label:hover label.sk-toggleable__label {background-color: #d4ebff;}#sk-container-id-1 div.sk-serial::before {content: \"\";position: absolute;border-left: 1px solid gray;box-sizing: border-box;top: 0;bottom: 0;left: 50%;z-index: 0;}#sk-container-id-1 div.sk-serial {display: flex;flex-direction: column;align-items: center;background-color: white;padding-right: 0.2em;padding-left: 0.2em;position: relative;}#sk-container-id-1 div.sk-item {position: relative;z-index: 1;}#sk-container-id-1 div.sk-parallel {display: flex;align-items: stretch;justify-content: center;background-color: white;position: relative;}#sk-container-id-1 div.sk-item::before, #sk-container-id-1 div.sk-parallel-item::before {content: \"\";position: absolute;border-left: 1px solid gray;box-sizing: border-box;top: 0;bottom: 0;left: 50%;z-index: -1;}#sk-container-id-1 div.sk-parallel-item {display: flex;flex-direction: column;z-index: 1;position: relative;background-color: white;}#sk-container-id-1 div.sk-parallel-item:first-child::after {align-self: flex-end;width: 50%;}#sk-container-id-1 div.sk-parallel-item:last-child::after {align-self: flex-start;width: 50%;}#sk-container-id-1 div.sk-parallel-item:only-child::after {width: 0;}#sk-container-id-1 div.sk-dashed-wrapped {border: 1px dashed gray;margin: 0 0.4em 0.5em 0.4em;box-sizing: border-box;padding-bottom: 0.4em;background-color: white;}#sk-container-id-1 div.sk-label label {font-family: monospace;font-weight: bold;display: inline-block;line-height: 1.2em;}#sk-container-id-1 div.sk-label-container {text-align: center;}#sk-container-id-1 div.sk-container {/* jupyter's `normalize.less` sets `[hidden] { display: none; }` but bootstrap.min.css set `[hidden] { display: none !important; }` so we also need the `!important` here to be able to override the default hidden behavior on the sphinx rendered scikit-learn.org. See: https://github.com/scikit-learn/scikit-learn/issues/21755 */display: inline-block !important;position: relative;}#sk-container-id-1 div.sk-text-repr-fallback {display: none;}</style><div id=\"sk-container-id-1\" class=\"sk-top-container\"><div class=\"sk-text-repr-fallback\"><pre>DecisionTreeRegressor(max_depth=1)</pre><b>In a Jupyter environment, please rerun this cell to show the HTML representation or trust the notebook. <br />On GitHub, the HTML representation is unable to render, please try loading this page with nbviewer.org.</b></div><div class=\"sk-container\" hidden><div class=\"sk-item\"><div class=\"sk-estimator sk-toggleable\"><input class=\"sk-toggleable__control sk-hidden--visually\" id=\"sk-estimator-id-1\" type=\"checkbox\" checked><label for=\"sk-estimator-id-1\" class=\"sk-toggleable__label sk-toggleable__label-arrow\">DecisionTreeRegressor</label><div class=\"sk-toggleable__content\"><pre>DecisionTreeRegressor(max_depth=1)</pre></div></div></div></div></div>"
     },
     "execution_count": 35,
     "metadata": {},
     "output_type": "execute_result"
    }
   ],
   "source": [
    "dt = DecisionTreeRegressor(max_depth=1)\n",
    "dt.fit(X_train,y_train)"
   ],
   "metadata": {
    "collapsed": false,
    "pycharm": {
     "name": "#%%\n"
    }
   }
  },
  {
   "cell_type": "code",
   "execution_count": 36,
   "outputs": [
    {
     "name": "stdout",
     "output_type": "stream",
     "text": [
      "|--- ocean_proximity=<1h_ocean <= 0.50\n",
      "|   |--- value: [11.61]\n",
      "|--- ocean_proximity=<1h_ocean >  0.50\n",
      "|   |--- value: [12.30]\n",
      "\n"
     ]
    }
   ],
   "source": [
    "from sklearn.tree import export_text\n",
    "\n",
    "print(export_text(dt, feature_names=dv.get_feature_names_out()))"
   ],
   "metadata": {
    "collapsed": false,
    "pycharm": {
     "name": "#%%\n"
    }
   }
  },
  {
   "cell_type": "code",
   "execution_count": 37,
   "outputs": [],
   "source": [
    "y_pred=dt.predict(X_val)"
   ],
   "metadata": {
    "collapsed": false,
    "pycharm": {
     "name": "#%%\n"
    }
   }
  },
  {
   "cell_type": "code",
   "execution_count": 38,
   "outputs": [
    {
     "data": {
      "text/plain": "array([12.30066927, 12.30066927, 11.60680734, ..., 11.60680734,\n       11.60680734, 11.60680734])"
     },
     "execution_count": 38,
     "metadata": {},
     "output_type": "execute_result"
    }
   ],
   "source": [
    "y_pred"
   ],
   "metadata": {
    "collapsed": false,
    "pycharm": {
     "name": "#%%\n"
    }
   }
  },
  {
   "cell_type": "code",
   "execution_count": 40,
   "outputs": [],
   "source": [
    "from sklearn.ensemble import RandomForestRegressor"
   ],
   "metadata": {
    "collapsed": false,
    "pycharm": {
     "name": "#%%\n"
    }
   }
  },
  {
   "cell_type": "code",
   "execution_count": 41,
   "outputs": [],
   "source": [
    "rf=RandomForestRegressor(n_estimators=10, random_state=1, n_jobs=-1)"
   ],
   "metadata": {
    "collapsed": false,
    "pycharm": {
     "name": "#%%\n"
    }
   }
  },
  {
   "cell_type": "code",
   "execution_count": 42,
   "outputs": [
    {
     "data": {
      "text/plain": "RandomForestRegressor(n_estimators=10, n_jobs=-1, random_state=1)",
      "text/html": "<style>#sk-container-id-2 {color: black;}#sk-container-id-2 pre{padding: 0;}#sk-container-id-2 div.sk-toggleable {background-color: white;}#sk-container-id-2 label.sk-toggleable__label {cursor: pointer;display: block;width: 100%;margin-bottom: 0;padding: 0.3em;box-sizing: border-box;text-align: center;}#sk-container-id-2 label.sk-toggleable__label-arrow:before {content: \"▸\";float: left;margin-right: 0.25em;color: #696969;}#sk-container-id-2 label.sk-toggleable__label-arrow:hover:before {color: black;}#sk-container-id-2 div.sk-estimator:hover label.sk-toggleable__label-arrow:before {color: black;}#sk-container-id-2 div.sk-toggleable__content {max-height: 0;max-width: 0;overflow: hidden;text-align: left;background-color: #f0f8ff;}#sk-container-id-2 div.sk-toggleable__content pre {margin: 0.2em;color: black;border-radius: 0.25em;background-color: #f0f8ff;}#sk-container-id-2 input.sk-toggleable__control:checked~div.sk-toggleable__content {max-height: 200px;max-width: 100%;overflow: auto;}#sk-container-id-2 input.sk-toggleable__control:checked~label.sk-toggleable__label-arrow:before {content: \"▾\";}#sk-container-id-2 div.sk-estimator input.sk-toggleable__control:checked~label.sk-toggleable__label {background-color: #d4ebff;}#sk-container-id-2 div.sk-label input.sk-toggleable__control:checked~label.sk-toggleable__label {background-color: #d4ebff;}#sk-container-id-2 input.sk-hidden--visually {border: 0;clip: rect(1px 1px 1px 1px);clip: rect(1px, 1px, 1px, 1px);height: 1px;margin: -1px;overflow: hidden;padding: 0;position: absolute;width: 1px;}#sk-container-id-2 div.sk-estimator {font-family: monospace;background-color: #f0f8ff;border: 1px dotted black;border-radius: 0.25em;box-sizing: border-box;margin-bottom: 0.5em;}#sk-container-id-2 div.sk-estimator:hover {background-color: #d4ebff;}#sk-container-id-2 div.sk-parallel-item::after {content: \"\";width: 100%;border-bottom: 1px solid gray;flex-grow: 1;}#sk-container-id-2 div.sk-label:hover label.sk-toggleable__label {background-color: #d4ebff;}#sk-container-id-2 div.sk-serial::before {content: \"\";position: absolute;border-left: 1px solid gray;box-sizing: border-box;top: 0;bottom: 0;left: 50%;z-index: 0;}#sk-container-id-2 div.sk-serial {display: flex;flex-direction: column;align-items: center;background-color: white;padding-right: 0.2em;padding-left: 0.2em;position: relative;}#sk-container-id-2 div.sk-item {position: relative;z-index: 1;}#sk-container-id-2 div.sk-parallel {display: flex;align-items: stretch;justify-content: center;background-color: white;position: relative;}#sk-container-id-2 div.sk-item::before, #sk-container-id-2 div.sk-parallel-item::before {content: \"\";position: absolute;border-left: 1px solid gray;box-sizing: border-box;top: 0;bottom: 0;left: 50%;z-index: -1;}#sk-container-id-2 div.sk-parallel-item {display: flex;flex-direction: column;z-index: 1;position: relative;background-color: white;}#sk-container-id-2 div.sk-parallel-item:first-child::after {align-self: flex-end;width: 50%;}#sk-container-id-2 div.sk-parallel-item:last-child::after {align-self: flex-start;width: 50%;}#sk-container-id-2 div.sk-parallel-item:only-child::after {width: 0;}#sk-container-id-2 div.sk-dashed-wrapped {border: 1px dashed gray;margin: 0 0.4em 0.5em 0.4em;box-sizing: border-box;padding-bottom: 0.4em;background-color: white;}#sk-container-id-2 div.sk-label label {font-family: monospace;font-weight: bold;display: inline-block;line-height: 1.2em;}#sk-container-id-2 div.sk-label-container {text-align: center;}#sk-container-id-2 div.sk-container {/* jupyter's `normalize.less` sets `[hidden] { display: none; }` but bootstrap.min.css set `[hidden] { display: none !important; }` so we also need the `!important` here to be able to override the default hidden behavior on the sphinx rendered scikit-learn.org. See: https://github.com/scikit-learn/scikit-learn/issues/21755 */display: inline-block !important;position: relative;}#sk-container-id-2 div.sk-text-repr-fallback {display: none;}</style><div id=\"sk-container-id-2\" class=\"sk-top-container\"><div class=\"sk-text-repr-fallback\"><pre>RandomForestRegressor(n_estimators=10, n_jobs=-1, random_state=1)</pre><b>In a Jupyter environment, please rerun this cell to show the HTML representation or trust the notebook. <br />On GitHub, the HTML representation is unable to render, please try loading this page with nbviewer.org.</b></div><div class=\"sk-container\" hidden><div class=\"sk-item\"><div class=\"sk-estimator sk-toggleable\"><input class=\"sk-toggleable__control sk-hidden--visually\" id=\"sk-estimator-id-2\" type=\"checkbox\" checked><label for=\"sk-estimator-id-2\" class=\"sk-toggleable__label sk-toggleable__label-arrow\">RandomForestRegressor</label><div class=\"sk-toggleable__content\"><pre>RandomForestRegressor(n_estimators=10, n_jobs=-1, random_state=1)</pre></div></div></div></div></div>"
     },
     "execution_count": 42,
     "metadata": {},
     "output_type": "execute_result"
    }
   ],
   "source": [
    "rf.fit(X_train, y_train)"
   ],
   "metadata": {
    "collapsed": false,
    "pycharm": {
     "name": "#%%\n"
    }
   }
  },
  {
   "cell_type": "code",
   "execution_count": 43,
   "outputs": [],
   "source": [
    "y_pred=rf.predict(X_val)"
   ],
   "metadata": {
    "collapsed": false,
    "pycharm": {
     "name": "#%%\n"
    }
   }
  },
  {
   "cell_type": "code",
   "execution_count": 44,
   "outputs": [
    {
     "data": {
      "text/plain": "array([12.2004964 , 12.08936832, 11.57222122, ..., 11.75352635,\n       11.25269032, 11.65289907])"
     },
     "execution_count": 44,
     "metadata": {},
     "output_type": "execute_result"
    }
   ],
   "source": [
    "y_pred"
   ],
   "metadata": {
    "collapsed": false,
    "pycharm": {
     "name": "#%%\n"
    }
   }
  },
  {
   "cell_type": "code",
   "execution_count": 51,
   "outputs": [],
   "source": [
    "from sklearn.metrics import mean_squared_error"
   ],
   "metadata": {
    "collapsed": false,
    "pycharm": {
     "name": "#%%\n"
    }
   }
  },
  {
   "cell_type": "code",
   "execution_count": 66,
   "outputs": [],
   "source": [
    "def rmse(y, y_pred):\n",
    "    error = y_pred - y\n",
    "    mse = (error ** 2).mean()\n",
    "    return np.sqrt(mse)\n",
    "\n",
    "def rmse2(y, y_pred):\n",
    "    return np.sqrt(mean_squared_error(y, y_pred))"
   ],
   "metadata": {
    "collapsed": false,
    "pycharm": {
     "name": "#%%\n"
    }
   }
  },
  {
   "cell_type": "code",
   "execution_count": 47,
   "outputs": [
    {
     "data": {
      "text/plain": "0.24527740463893766"
     },
     "execution_count": 47,
     "metadata": {},
     "output_type": "execute_result"
    }
   ],
   "source": [
    "rmse(y_val,y_pred)"
   ],
   "metadata": {
    "collapsed": false,
    "pycharm": {
     "name": "#%%\n"
    }
   }
  },
  {
   "cell_type": "code",
   "execution_count": null,
   "outputs": [],
   "source": [],
   "metadata": {
    "collapsed": false,
    "pycharm": {
     "name": "#%%\n",
     "is_executing": true
    }
   }
  },
  {
   "cell_type": "code",
   "execution_count": 53,
   "outputs": [
    {
     "data": {
      "text/plain": "0.24527740463893766"
     },
     "execution_count": 53,
     "metadata": {},
     "output_type": "execute_result"
    }
   ],
   "source": [
    "rmse2(y_val,y_pred)"
   ],
   "metadata": {
    "collapsed": false,
    "pycharm": {
     "name": "#%%\n"
    }
   }
  },
  {
   "cell_type": "code",
   "execution_count": 54,
   "outputs": [],
   "source": [
    "estim_iter=range(10,201,10)"
   ],
   "metadata": {
    "collapsed": false,
    "pycharm": {
     "name": "#%%\n"
    }
   }
  },
  {
   "cell_type": "code",
   "execution_count": 55,
   "outputs": [],
   "source": [
    "score=[]\n",
    "for estim in estim_iter:\n",
    "    rf = RandomForestRegressor(n_estimators=estim, random_state=1, n_jobs=-1)\n",
    "    rf.fit(X_train, y_train)\n",
    "    y_pred = rf.predict(X_val)\n",
    "    score.append((estim,rmse(y_val,y_pred)))\n"
   ],
   "metadata": {
    "collapsed": false,
    "pycharm": {
     "name": "#%%\n"
    }
   }
  },
  {
   "cell_type": "code",
   "execution_count": 57,
   "outputs": [
    {
     "data": {
      "text/plain": "[(10, 0.24527740463893766),\n (20, 0.239040616865172),\n (30, 0.2369950267894765),\n (40, 0.2355088433070916),\n (50, 0.23502147329312895),\n (60, 0.23458432707188803),\n (70, 0.23446619209731492),\n (80, 0.23472118653889681),\n (90, 0.2345122268683854),\n (100, 0.23430800089392886),\n (110, 0.23430472773104952),\n (120, 0.23413312513122297),\n (130, 0.2339207419785168),\n (140, 0.23367907192934012),\n (150, 0.23360554701472291),\n (160, 0.2334522392319948),\n (170, 0.23340125154040178),\n (180, 0.23357420998973868),\n (190, 0.23381388047131577),\n (200, 0.23372174449450628)]"
     },
     "execution_count": 57,
     "metadata": {},
     "output_type": "execute_result"
    }
   ],
   "source": [
    "columns=['estimator','rmse']\n",
    "score_df=pd.DataFrame(score,columns=columns)\n",
    "score"
   ],
   "metadata": {
    "collapsed": false,
    "pycharm": {
     "name": "#%%\n"
    }
   }
  },
  {
   "cell_type": "code",
   "execution_count": 58,
   "outputs": [],
   "source": [
    "score_df['rmse']= score_df['rmse'].round(3)"
   ],
   "metadata": {
    "collapsed": false,
    "pycharm": {
     "name": "#%%\n"
    }
   }
  },
  {
   "cell_type": "code",
   "execution_count": 59,
   "outputs": [
    {
     "data": {
      "text/plain": "    estimator   rmse\n0          10  0.245\n1          20  0.239\n2          30  0.237\n3          40  0.236\n4          50  0.235\n5          60  0.235\n6          70  0.234\n7          80  0.235\n8          90  0.235\n9         100  0.234\n10        110  0.234\n11        120  0.234\n12        130  0.234\n13        140  0.234\n14        150  0.234\n15        160  0.233\n16        170  0.233\n17        180  0.234\n18        190  0.234\n19        200  0.234",
      "text/html": "<div>\n<style scoped>\n    .dataframe tbody tr th:only-of-type {\n        vertical-align: middle;\n    }\n\n    .dataframe tbody tr th {\n        vertical-align: top;\n    }\n\n    .dataframe thead th {\n        text-align: right;\n    }\n</style>\n<table border=\"1\" class=\"dataframe\">\n  <thead>\n    <tr style=\"text-align: right;\">\n      <th></th>\n      <th>estimator</th>\n      <th>rmse</th>\n    </tr>\n  </thead>\n  <tbody>\n    <tr>\n      <th>0</th>\n      <td>10</td>\n      <td>0.245</td>\n    </tr>\n    <tr>\n      <th>1</th>\n      <td>20</td>\n      <td>0.239</td>\n    </tr>\n    <tr>\n      <th>2</th>\n      <td>30</td>\n      <td>0.237</td>\n    </tr>\n    <tr>\n      <th>3</th>\n      <td>40</td>\n      <td>0.236</td>\n    </tr>\n    <tr>\n      <th>4</th>\n      <td>50</td>\n      <td>0.235</td>\n    </tr>\n    <tr>\n      <th>5</th>\n      <td>60</td>\n      <td>0.235</td>\n    </tr>\n    <tr>\n      <th>6</th>\n      <td>70</td>\n      <td>0.234</td>\n    </tr>\n    <tr>\n      <th>7</th>\n      <td>80</td>\n      <td>0.235</td>\n    </tr>\n    <tr>\n      <th>8</th>\n      <td>90</td>\n      <td>0.235</td>\n    </tr>\n    <tr>\n      <th>9</th>\n      <td>100</td>\n      <td>0.234</td>\n    </tr>\n    <tr>\n      <th>10</th>\n      <td>110</td>\n      <td>0.234</td>\n    </tr>\n    <tr>\n      <th>11</th>\n      <td>120</td>\n      <td>0.234</td>\n    </tr>\n    <tr>\n      <th>12</th>\n      <td>130</td>\n      <td>0.234</td>\n    </tr>\n    <tr>\n      <th>13</th>\n      <td>140</td>\n      <td>0.234</td>\n    </tr>\n    <tr>\n      <th>14</th>\n      <td>150</td>\n      <td>0.234</td>\n    </tr>\n    <tr>\n      <th>15</th>\n      <td>160</td>\n      <td>0.233</td>\n    </tr>\n    <tr>\n      <th>16</th>\n      <td>170</td>\n      <td>0.233</td>\n    </tr>\n    <tr>\n      <th>17</th>\n      <td>180</td>\n      <td>0.234</td>\n    </tr>\n    <tr>\n      <th>18</th>\n      <td>190</td>\n      <td>0.234</td>\n    </tr>\n    <tr>\n      <th>19</th>\n      <td>200</td>\n      <td>0.234</td>\n    </tr>\n  </tbody>\n</table>\n</div>"
     },
     "execution_count": 59,
     "metadata": {},
     "output_type": "execute_result"
    }
   ],
   "source": [
    "score_df"
   ],
   "metadata": {
    "collapsed": false,
    "pycharm": {
     "name": "#%%\n"
    }
   }
  },
  {
   "cell_type": "code",
   "execution_count": 62,
   "outputs": [
    {
     "data": {
      "text/plain": "[<matplotlib.lines.Line2D at 0x2221b9b5450>]"
     },
     "execution_count": 62,
     "metadata": {},
     "output_type": "execute_result"
    },
    {
     "data": {
      "text/plain": "<Figure size 640x480 with 1 Axes>",
      "image/png": "[encoded data removed]"
     },
     "metadata": {},
     "output_type": "display_data"
    }
   ],
   "source": [
    "plt.plot(score_df.estimator,score_df.rmse)"
   ],
   "metadata": {
    "collapsed": false,
    "pycharm": {
     "name": "#%%\n"
    }
   }
  },
  {
   "cell_type": "code",
   "execution_count": 64,
   "outputs": [
    {
     "data": {
      "text/plain": "17.5"
     },
     "execution_count": 64,
     "metadata": {},
     "output_type": "execute_result"
    }
   ],
   "source": [
    "np.mean([10, 15, 20, 25])"
   ],
   "metadata": {
    "collapsed": false,
    "pycharm": {
     "name": "#%%\n"
    }
   }
  },
  {
   "cell_type": "code",
   "execution_count": 68,
   "outputs": [
    {
     "name": "stdout",
     "output_type": "stream",
     "text": [
      "max_depth=10, estim=10, rmse=0.25067714286966963\n",
      "max_depth=10, estim=20, rmse=0.24767192873004387\n",
      "max_depth=10, estim=30, rmse=0.2464341141180371\n",
      "max_depth=10, estim=40, rmse=0.24516780373109984\n",
      "max_depth=10, estim=50, rmse=0.24555736366386033\n",
      "max_depth=10, estim=60, rmse=0.2453516525956486\n",
      "max_depth=10, estim=70, rmse=0.24540770334945547\n",
      "max_depth=10, estim=80, rmse=0.24564007678627325\n",
      "max_depth=10, estim=90, rmse=0.24553597121885162\n",
      "max_depth=10, estim=100, rmse=0.2454464200002906\n",
      "max_depth=10, estim=110, rmse=0.24534370553758386\n",
      "max_depth=10, estim=120, rmse=0.2451251370473534\n",
      "max_depth=10, estim=130, rmse=0.2448565412069584\n",
      "max_depth=10, estim=140, rmse=0.24463462871781017\n",
      "max_depth=10, estim=150, rmse=0.24459315934955644\n",
      "max_depth=10, estim=160, rmse=0.2445013608898557\n",
      "max_depth=10, estim=170, rmse=0.24446036538559981\n",
      "max_depth=10, estim=180, rmse=0.2445688226649631\n",
      "max_depth=10, estim=190, rmse=0.2447714384912533\n",
      "max_depth=10, estim=200, rmse=0.2447730212109249\n",
      "-----\n",
      "max_depth=10, MEAN ESTIM=0.24552591787825445\n",
      "-----\n",
      "max_depth=15, estim=10, rmse=0.24577217152575975\n",
      "max_depth=15, estim=20, rmse=0.23958260550158159\n",
      "max_depth=15, estim=30, rmse=0.2377294205231008\n",
      "max_depth=15, estim=40, rmse=0.23594829581796592\n",
      "max_depth=15, estim=50, rmse=0.23604632017701266\n",
      "max_depth=15, estim=60, rmse=0.23573059928218365\n",
      "max_depth=15, estim=70, rmse=0.23552212716061446\n",
      "max_depth=15, estim=80, rmse=0.23572824807464085\n",
      "max_depth=15, estim=90, rmse=0.235437017959416\n",
      "max_depth=15, estim=100, rmse=0.23535585187215577\n",
      "max_depth=15, estim=110, rmse=0.2351552258898496\n",
      "max_depth=15, estim=120, rmse=0.23495307645928806\n",
      "max_depth=15, estim=130, rmse=0.23481957036069107\n",
      "max_depth=15, estim=140, rmse=0.23460949259472658\n",
      "max_depth=15, estim=150, rmse=0.2345166705182696\n",
      "max_depth=15, estim=160, rmse=0.23431615903636943\n",
      "max_depth=15, estim=170, rmse=0.23430771188276828\n",
      "max_depth=15, estim=180, rmse=0.2345249318898574\n",
      "max_depth=15, estim=190, rmse=0.23474105271367776\n",
      "max_depth=15, estim=200, rmse=0.23459581635271426\n",
      "-----\n",
      "max_depth=15, MEAN ESTIM=0.23596961827963212\n",
      "-----\n",
      "max_depth=20, estim=10, rmse=0.244709616079738\n",
      "max_depth=20, estim=20, rmse=0.23856959142356546\n",
      "max_depth=20, estim=30, rmse=0.23671070458639878\n",
      "max_depth=20, estim=40, rmse=0.2352680568195607\n",
      "max_depth=20, estim=50, rmse=0.23504555074073602\n",
      "max_depth=20, estim=60, rmse=0.23470468136408304\n",
      "max_depth=20, estim=70, rmse=0.23462268957350213\n",
      "max_depth=20, estim=80, rmse=0.2348946738474483\n",
      "max_depth=20, estim=90, rmse=0.23476534905739807\n",
      "max_depth=20, estim=100, rmse=0.23457314103862556\n",
      "max_depth=20, estim=110, rmse=0.23438424467492966\n",
      "max_depth=20, estim=120, rmse=0.23422879675375635\n",
      "max_depth=20, estim=130, rmse=0.23402622412706867\n",
      "max_depth=20, estim=140, rmse=0.23379399288862515\n",
      "max_depth=20, estim=150, rmse=0.2337776914936614\n",
      "max_depth=20, estim=160, rmse=0.23368566750934133\n",
      "max_depth=20, estim=170, rmse=0.23367533580264993\n",
      "max_depth=20, estim=180, rmse=0.23387628400701632\n",
      "max_depth=20, estim=190, rmse=0.23412414549670474\n",
      "max_depth=20, estim=200, rmse=0.2339249086453834\n",
      "-----\n",
      "max_depth=20, MEAN ESTIM=0.2351680672965097\n",
      "-----\n",
      "max_depth=25, estim=10, rmse=0.2442641104195026\n",
      "max_depth=25, estim=20, rmse=0.23823286292345966\n",
      "max_depth=25, estim=30, rmse=0.23620138069170318\n",
      "max_depth=25, estim=40, rmse=0.23487762286508682\n",
      "max_depth=25, estim=50, rmse=0.2344436602303853\n",
      "max_depth=25, estim=60, rmse=0.23401954033729486\n",
      "max_depth=25, estim=70, rmse=0.23395078634762462\n",
      "max_depth=25, estim=80, rmse=0.2342002395517575\n",
      "max_depth=25, estim=90, rmse=0.23422351463845095\n",
      "max_depth=25, estim=100, rmse=0.23425221575886582\n",
      "max_depth=25, estim=110, rmse=0.23415219802219786\n",
      "max_depth=25, estim=120, rmse=0.23398831018393557\n",
      "max_depth=25, estim=130, rmse=0.23389330286324894\n",
      "max_depth=25, estim=140, rmse=0.2336175742030864\n",
      "max_depth=25, estim=150, rmse=0.23351537825036547\n",
      "max_depth=25, estim=160, rmse=0.23341744859192498\n",
      "max_depth=25, estim=170, rmse=0.23343250599877666\n",
      "max_depth=25, estim=180, rmse=0.2336063089595745\n",
      "max_depth=25, estim=190, rmse=0.2338463584933197\n",
      "max_depth=25, estim=200, rmse=0.2337400576049304\n",
      "-----\n",
      "max_depth=25, MEAN ESTIM=0.23479376884677464\n",
      "-----\n"
     ]
    }
   ],
   "source": [
    "score2 = []\n",
    "estim_iter=range(10,201,10)\n",
    "max_depth_vals=[10, 15, 20, 25]\n",
    "md_scores=[]\n",
    "for max_depth in max_depth_vals:\n",
    "    estims=[]\n",
    "    for estim in estim_iter:\n",
    "        rf = RandomForestRegressor(n_estimators=estim, max_depth=max_depth, random_state=1, n_jobs=-1)\n",
    "        rf.fit(X_train, y_train)\n",
    "        y_pred = rf.predict(X_val)\n",
    "        rmse_val=rmse(y_val, y_pred)\n",
    "        score2.append((max_depth, estim, rmse_val))\n",
    "        print(f'max_depth={max_depth}, estim={estim}, rmse={rmse_val}')\n",
    "        estims.append(rmse_val)\n",
    "    md_scores.append((max_depth,np.mean(estims)))\n",
    "    print('-----')\n",
    "    print(f'max_depth={max_depth}, MEAN ESTIM={np.mean(estims)}')\n",
    "    print('-----')\n",
    "\n",
    "\n"
   ],
   "metadata": {
    "collapsed": false,
    "pycharm": {
     "name": "#%%\n"
    }
   }
  },
  {
   "cell_type": "code",
   "execution_count": 69,
   "outputs": [
    {
     "data": {
      "text/plain": "   max_depth  rmse mean\n0         10   0.245526\n1         15   0.235970\n2         20   0.235168\n3         25   0.234794",
      "text/html": "<div>\n<style scoped>\n    .dataframe tbody tr th:only-of-type {\n        vertical-align: middle;\n    }\n\n    .dataframe tbody tr th {\n        vertical-align: top;\n    }\n\n    .dataframe thead th {\n        text-align: right;\n    }\n</style>\n<table border=\"1\" class=\"dataframe\">\n  <thead>\n    <tr style=\"text-align: right;\">\n      <th></th>\n      <th>max_depth</th>\n      <th>rmse mean</th>\n    </tr>\n  </thead>\n  <tbody>\n    <tr>\n      <th>0</th>\n      <td>10</td>\n      <td>0.245526</td>\n    </tr>\n    <tr>\n      <th>1</th>\n      <td>15</td>\n      <td>0.235970</td>\n    </tr>\n    <tr>\n      <th>2</th>\n      <td>20</td>\n      <td>0.235168</td>\n    </tr>\n    <tr>\n      <th>3</th>\n      <td>25</td>\n      <td>0.234794</td>\n    </tr>\n  </tbody>\n</table>\n</div>"
     },
     "execution_count": 69,
     "metadata": {},
     "output_type": "execute_result"
    }
   ],
   "source": [
    "\n",
    "columns = ['max_depth', 'rmse mean']\n",
    "score_df2 = pd.DataFrame(md_scores, columns=columns)\n",
    "score_df2"
   ],
   "metadata": {
    "collapsed": false,
    "pycharm": {
     "name": "#%%\n"
    }
   }
  },
  {
   "cell_type": "code",
   "execution_count": 70,
   "outputs": [],
   "source": [
    "rf=RandomForestRegressor(n_estimators=10,\n",
    "max_depth=20,\n",
    "random_state=1,\n",
    "n_jobs=-1)"
   ],
   "metadata": {
    "collapsed": false,
    "pycharm": {
     "name": "#%%\n"
    }
   }
  },
  {
   "cell_type": "code",
   "execution_count": 71,
   "outputs": [
    {
     "data": {
      "text/plain": "RandomForestRegressor(max_depth=20, n_estimators=10, n_jobs=-1, random_state=1)",
      "text/html": "<style>#sk-container-id-3 {color: black;}#sk-container-id-3 pre{padding: 0;}#sk-container-id-3 div.sk-toggleable {background-color: white;}#sk-container-id-3 label.sk-toggleable__label {cursor: pointer;display: block;width: 100%;margin-bottom: 0;padding: 0.3em;box-sizing: border-box;text-align: center;}#sk-container-id-3 label.sk-toggleable__label-arrow:before {content: \"▸\";float: left;margin-right: 0.25em;color: #696969;}#sk-container-id-3 label.sk-toggleable__label-arrow:hover:before {color: black;}#sk-container-id-3 div.sk-estimator:hover label.sk-toggleable__label-arrow:before {color: black;}#sk-container-id-3 div.sk-toggleable__content {max-height: 0;max-width: 0;overflow: hidden;text-align: left;background-color: #f0f8ff;}#sk-container-id-3 div.sk-toggleable__content pre {margin: 0.2em;color: black;border-radius: 0.25em;background-color: #f0f8ff;}#sk-container-id-3 input.sk-toggleable__control:checked~div.sk-toggleable__content {max-height: 200px;max-width: 100%;overflow: auto;}#sk-container-id-3 input.sk-toggleable__control:checked~label.sk-toggleable__label-arrow:before {content: \"▾\";}#sk-container-id-3 div.sk-estimator input.sk-toggleable__control:checked~label.sk-toggleable__label {background-color: #d4ebff;}#sk-container-id-3 div.sk-label input.sk-toggleable__control:checked~label.sk-toggleable__label {background-color: #d4ebff;}#sk-container-id-3 input.sk-hidden--visually {border: 0;clip: rect(1px 1px 1px 1px);clip: rect(1px, 1px, 1px, 1px);height: 1px;margin: -1px;overflow: hidden;padding: 0;position: absolute;width: 1px;}#sk-container-id-3 div.sk-estimator {font-family: monospace;background-color: #f0f8ff;border: 1px dotted black;border-radius: 0.25em;box-sizing: border-box;margin-bottom: 0.5em;}#sk-container-id-3 div.sk-estimator:hover {background-color: #d4ebff;}#sk-container-id-3 div.sk-parallel-item::after {content: \"\";width: 100%;border-bottom: 1px solid gray;flex-grow: 1;}#sk-container-id-3 div.sk-label:hover label.sk-toggleable__label {background-color: #d4ebff;}#sk-container-id-3 div.sk-serial::before {content: \"\";position: absolute;border-left: 1px solid gray;box-sizing: border-box;top: 0;bottom: 0;left: 50%;z-index: 0;}#sk-container-id-3 div.sk-serial {display: flex;flex-direction: column;align-items: center;background-color: white;padding-right: 0.2em;padding-left: 0.2em;position: relative;}#sk-container-id-3 div.sk-item {position: relative;z-index: 1;}#sk-container-id-3 div.sk-parallel {display: flex;align-items: stretch;justify-content: center;background-color: white;position: relative;}#sk-container-id-3 div.sk-item::before, #sk-container-id-3 div.sk-parallel-item::before {content: \"\";position: absolute;border-left: 1px solid gray;box-sizing: border-box;top: 0;bottom: 0;left: 50%;z-index: -1;}#sk-container-id-3 div.sk-parallel-item {display: flex;flex-direction: column;z-index: 1;position: relative;background-color: white;}#sk-container-id-3 div.sk-parallel-item:first-child::after {align-self: flex-end;width: 50%;}#sk-container-id-3 div.sk-parallel-item:last-child::after {align-self: flex-start;width: 50%;}#sk-container-id-3 div.sk-parallel-item:only-child::after {width: 0;}#sk-container-id-3 div.sk-dashed-wrapped {border: 1px dashed gray;margin: 0 0.4em 0.5em 0.4em;box-sizing: border-box;padding-bottom: 0.4em;background-color: white;}#sk-container-id-3 div.sk-label label {font-family: monospace;font-weight: bold;display: inline-block;line-height: 1.2em;}#sk-container-id-3 div.sk-label-container {text-align: center;}#sk-container-id-3 div.sk-container {/* jupyter's `normalize.less` sets `[hidden] { display: none; }` but bootstrap.min.css set `[hidden] { display: none !important; }` so we also need the `!important` here to be able to override the default hidden behavior on the sphinx rendered scikit-learn.org. See: https://github.com/scikit-learn/scikit-learn/issues/21755 */display: inline-block !important;position: relative;}#sk-container-id-3 div.sk-text-repr-fallback {display: none;}</style><div id=\"sk-container-id-3\" class=\"sk-top-container\"><div class=\"sk-text-repr-fallback\"><pre>RandomForestRegressor(max_depth=20, n_estimators=10, n_jobs=-1, random_state=1)</pre><b>In a Jupyter environment, please rerun this cell to show the HTML representation or trust the notebook. <br />On GitHub, the HTML representation is unable to render, please try loading this page with nbviewer.org.</b></div><div class=\"sk-container\" hidden><div class=\"sk-item\"><div class=\"sk-estimator sk-toggleable\"><input class=\"sk-toggleable__control sk-hidden--visually\" id=\"sk-estimator-id-3\" type=\"checkbox\" checked><label for=\"sk-estimator-id-3\" class=\"sk-toggleable__label sk-toggleable__label-arrow\">RandomForestRegressor</label><div class=\"sk-toggleable__content\"><pre>RandomForestRegressor(max_depth=20, n_estimators=10, n_jobs=-1, random_state=1)</pre></div></div></div></div></div>"
     },
     "execution_count": 71,
     "metadata": {},
     "output_type": "execute_result"
    }
   ],
   "source": [
    "rf.fit(X_train,y_train)"
   ],
   "metadata": {
    "collapsed": false,
    "pycharm": {
     "name": "#%%\n"
    }
   }
  },
  {
   "cell_type": "code",
   "execution_count": 72,
   "outputs": [
    {
     "data": {
      "text/plain": "array([0.0151361 , 0.03031726, 0.10200703, 0.08624381, 0.33561113,\n       0.29247297, 0.07380644, 0.02713606, 0.01585222, 0.02141699])"
     },
     "execution_count": 72,
     "metadata": {},
     "output_type": "execute_result"
    }
   ],
   "source": [
    "rf.feature_importances_"
   ],
   "metadata": {
    "collapsed": false,
    "pycharm": {
     "name": "#%%\n"
    }
   }
  },
  {
   "cell_type": "code",
   "execution_count": 73,
   "outputs": [],
   "source": [
    "feature_names=dv.get_feature_names_out()"
   ],
   "metadata": {
    "collapsed": false,
    "pycharm": {
     "name": "#%%\n"
    }
   }
  },
  {
   "cell_type": "code",
   "execution_count": 74,
   "outputs": [
    {
     "data": {
      "text/plain": "array(['households', 'housing_median_age', 'latitude', 'longitude',\n       'median_income', 'ocean_proximity=<1h_ocean',\n       'ocean_proximity=inland', 'population', 'total_bedrooms',\n       'total_rooms'], dtype=object)"
     },
     "execution_count": 74,
     "metadata": {},
     "output_type": "execute_result"
    }
   ],
   "source": [
    "feature_names"
   ],
   "metadata": {
    "collapsed": false,
    "pycharm": {
     "name": "#%%\n"
    }
   }
  },
  {
   "cell_type": "code",
   "execution_count": 75,
   "outputs": [],
   "source": [
    "df_feature_imp=pd.DataFrame({'feature':feature_names, 'importance':rf.feature_importances_})\n"
   ],
   "metadata": {
    "collapsed": false,
    "pycharm": {
     "name": "#%%\n"
    }
   }
  },
  {
   "cell_type": "code",
   "execution_count": 76,
   "outputs": [
    {
     "data": {
      "text/plain": "                     feature  importance\n0                 households    0.015136\n1         housing_median_age    0.030317\n2                   latitude    0.102007\n3                  longitude    0.086244\n4              median_income    0.335611\n5  ocean_proximity=<1h_ocean    0.292473\n6     ocean_proximity=inland    0.073806\n7                 population    0.027136\n8             total_bedrooms    0.015852\n9                total_rooms    0.021417",
      "text/html": "<div>\n<style scoped>\n    .dataframe tbody tr th:only-of-type {\n        vertical-align: middle;\n    }\n\n    .dataframe tbody tr th {\n        vertical-align: top;\n    }\n\n    .dataframe thead th {\n        text-align: right;\n    }\n</style>\n<table border=\"1\" class=\"dataframe\">\n  <thead>\n    <tr style=\"text-align: right;\">\n      <th></th>\n      <th>feature</th>\n      <th>importance</th>\n    </tr>\n  </thead>\n  <tbody>\n    <tr>\n      <th>0</th>\n      <td>households</td>\n      <td>0.015136</td>\n    </tr>\n    <tr>\n      <th>1</th>\n      <td>housing_median_age</td>\n      <td>0.030317</td>\n    </tr>\n    <tr>\n      <th>2</th>\n      <td>latitude</td>\n      <td>0.102007</td>\n    </tr>\n    <tr>\n      <th>3</th>\n      <td>longitude</td>\n      <td>0.086244</td>\n    </tr>\n    <tr>\n      <th>4</th>\n      <td>median_income</td>\n      <td>0.335611</td>\n    </tr>\n    <tr>\n      <th>5</th>\n      <td>ocean_proximity=&lt;1h_ocean</td>\n      <td>0.292473</td>\n    </tr>\n    <tr>\n      <th>6</th>\n      <td>ocean_proximity=inland</td>\n      <td>0.073806</td>\n    </tr>\n    <tr>\n      <th>7</th>\n      <td>population</td>\n      <td>0.027136</td>\n    </tr>\n    <tr>\n      <th>8</th>\n      <td>total_bedrooms</td>\n      <td>0.015852</td>\n    </tr>\n    <tr>\n      <th>9</th>\n      <td>total_rooms</td>\n      <td>0.021417</td>\n    </tr>\n  </tbody>\n</table>\n</div>"
     },
     "execution_count": 76,
     "metadata": {},
     "output_type": "execute_result"
    }
   ],
   "source": [
    "df_feature_imp"
   ],
   "metadata": {
    "collapsed": false,
    "pycharm": {
     "name": "#%%\n"
    }
   }
  },
  {
   "cell_type": "code",
   "execution_count": 78,
   "outputs": [
    {
     "data": {
      "text/plain": "                     feature  importance\n4              median_income    0.335611\n5  ocean_proximity=<1h_ocean    0.292473\n2                   latitude    0.102007\n3                  longitude    0.086244\n6     ocean_proximity=inland    0.073806\n1         housing_median_age    0.030317\n7                 population    0.027136\n9                total_rooms    0.021417\n8             total_bedrooms    0.015852\n0                 households    0.015136",
      "text/html": "<div>\n<style scoped>\n    .dataframe tbody tr th:only-of-type {\n        vertical-align: middle;\n    }\n\n    .dataframe tbody tr th {\n        vertical-align: top;\n    }\n\n    .dataframe thead th {\n        text-align: right;\n    }\n</style>\n<table border=\"1\" class=\"dataframe\">\n  <thead>\n    <tr style=\"text-align: right;\">\n      <th></th>\n      <th>feature</th>\n      <th>importance</th>\n    </tr>\n  </thead>\n  <tbody>\n    <tr>\n      <th>4</th>\n      <td>median_income</td>\n      <td>0.335611</td>\n    </tr>\n    <tr>\n      <th>5</th>\n      <td>ocean_proximity=&lt;1h_ocean</td>\n      <td>0.292473</td>\n    </tr>\n    <tr>\n      <th>2</th>\n      <td>latitude</td>\n      <td>0.102007</td>\n    </tr>\n    <tr>\n      <th>3</th>\n      <td>longitude</td>\n      <td>0.086244</td>\n    </tr>\n    <tr>\n      <th>6</th>\n      <td>ocean_proximity=inland</td>\n      <td>0.073806</td>\n    </tr>\n    <tr>\n      <th>1</th>\n      <td>housing_median_age</td>\n      <td>0.030317</td>\n    </tr>\n    <tr>\n      <th>7</th>\n      <td>population</td>\n      <td>0.027136</td>\n    </tr>\n    <tr>\n      <th>9</th>\n      <td>total_rooms</td>\n      <td>0.021417</td>\n    </tr>\n    <tr>\n      <th>8</th>\n      <td>total_bedrooms</td>\n      <td>0.015852</td>\n    </tr>\n    <tr>\n      <th>0</th>\n      <td>households</td>\n      <td>0.015136</td>\n    </tr>\n  </tbody>\n</table>\n</div>"
     },
     "execution_count": 78,
     "metadata": {},
     "output_type": "execute_result"
    }
   ],
   "source": [
    "df_feature_imp.sort_values('importance',ascending=False)"
   ],
   "metadata": {
    "collapsed": false,
    "pycharm": {
     "name": "#%%\n"
    }
   }
  },
  {
   "cell_type": "code",
   "execution_count": 79,
   "outputs": [],
   "source": [
    "import xgboost as xgb"
   ],
   "metadata": {
    "collapsed": false,
    "pycharm": {
     "name": "#%%\n"
    }
   }
  },
  {
   "cell_type": "code",
   "execution_count": 80,
   "outputs": [
    {
     "ename": "ValueError",
     "evalue": "feature_names must be string, and may not contain [, ] or <",
     "output_type": "error",
     "traceback": [
      "\u001B[1;31m---------------------------------------------------------------------------\u001B[0m",
      "\u001B[1;31mValueError\u001B[0m                                Traceback (most recent call last)",
      "Cell \u001B[1;32mIn[80], line 1\u001B[0m\n\u001B[1;32m----> 1\u001B[0m dtrain \u001B[38;5;241m=\u001B[39m \u001B[43mxgb\u001B[49m\u001B[38;5;241;43m.\u001B[39;49m\u001B[43mDMatrix\u001B[49m\u001B[43m(\u001B[49m\u001B[43mX_train\u001B[49m\u001B[43m,\u001B[49m\u001B[43m \u001B[49m\u001B[43mlabel\u001B[49m\u001B[38;5;241;43m=\u001B[39;49m\u001B[43my_train\u001B[49m\u001B[43m,\u001B[49m\u001B[43m \u001B[49m\u001B[43mfeature_names\u001B[49m\u001B[38;5;241;43m=\u001B[39;49m\u001B[43mdv\u001B[49m\u001B[38;5;241;43m.\u001B[39;49m\u001B[43mfeature_names_\u001B[49m\u001B[43m)\u001B[49m\n\u001B[0;32m      2\u001B[0m dval \u001B[38;5;241m=\u001B[39m xgb\u001B[38;5;241m.\u001B[39mDMatrix(X_val, label\u001B[38;5;241m=\u001B[39my_val, feature_names\u001B[38;5;241m=\u001B[39mdv\u001B[38;5;241m.\u001B[39mfeature_names_)\n",
      "File \u001B[1;32mD:\\code-learnbox\\zoomcamp\\venv\\lib\\site-packages\\xgboost\\core.py:729\u001B[0m, in \u001B[0;36mrequire_keyword_args.<locals>.throw_if.<locals>.inner_f\u001B[1;34m(*args, **kwargs)\u001B[0m\n\u001B[0;32m    727\u001B[0m \u001B[38;5;28;01mfor\u001B[39;00m k, arg \u001B[38;5;129;01min\u001B[39;00m \u001B[38;5;28mzip\u001B[39m(sig\u001B[38;5;241m.\u001B[39mparameters, args):\n\u001B[0;32m    728\u001B[0m     kwargs[k] \u001B[38;5;241m=\u001B[39m arg\n\u001B[1;32m--> 729\u001B[0m \u001B[38;5;28;01mreturn\u001B[39;00m func(\u001B[38;5;241m*\u001B[39m\u001B[38;5;241m*\u001B[39mkwargs)\n",
      "File \u001B[1;32mD:\\code-learnbox\\zoomcamp\\venv\\lib\\site-packages\\xgboost\\core.py:880\u001B[0m, in \u001B[0;36mDMatrix.__init__\u001B[1;34m(self, data, label, weight, base_margin, missing, silent, feature_names, feature_types, nthread, group, qid, label_lower_bound, label_upper_bound, feature_weights, enable_categorical, data_split_mode)\u001B[0m\n\u001B[0;32m    868\u001B[0m \u001B[38;5;28mself\u001B[39m\u001B[38;5;241m.\u001B[39mset_info(\n\u001B[0;32m    869\u001B[0m     label\u001B[38;5;241m=\u001B[39mlabel,\n\u001B[0;32m    870\u001B[0m     weight\u001B[38;5;241m=\u001B[39mweight,\n\u001B[1;32m   (...)\u001B[0m\n\u001B[0;32m    876\u001B[0m     feature_weights\u001B[38;5;241m=\u001B[39mfeature_weights,\n\u001B[0;32m    877\u001B[0m )\n\u001B[0;32m    879\u001B[0m \u001B[38;5;28;01mif\u001B[39;00m feature_names \u001B[38;5;129;01mis\u001B[39;00m \u001B[38;5;129;01mnot\u001B[39;00m \u001B[38;5;28;01mNone\u001B[39;00m:\n\u001B[1;32m--> 880\u001B[0m     \u001B[38;5;28;43mself\u001B[39;49m\u001B[38;5;241;43m.\u001B[39;49m\u001B[43mfeature_names\u001B[49m \u001B[38;5;241m=\u001B[39m feature_names\n\u001B[0;32m    881\u001B[0m \u001B[38;5;28;01mif\u001B[39;00m feature_types \u001B[38;5;129;01mis\u001B[39;00m \u001B[38;5;129;01mnot\u001B[39;00m \u001B[38;5;28;01mNone\u001B[39;00m:\n\u001B[0;32m    882\u001B[0m     \u001B[38;5;28mself\u001B[39m\u001B[38;5;241m.\u001B[39mfeature_types \u001B[38;5;241m=\u001B[39m feature_types\n",
      "File \u001B[1;32mD:\\code-learnbox\\zoomcamp\\venv\\lib\\site-packages\\xgboost\\core.py:1321\u001B[0m, in \u001B[0;36mDMatrix.feature_names\u001B[1;34m(self, feature_names)\u001B[0m\n\u001B[0;32m   1316\u001B[0m \u001B[38;5;66;03m# prohibit the use symbols that may affect parsing. e.g. []<\u001B[39;00m\n\u001B[0;32m   1317\u001B[0m \u001B[38;5;28;01mif\u001B[39;00m \u001B[38;5;129;01mnot\u001B[39;00m \u001B[38;5;28mall\u001B[39m(\n\u001B[0;32m   1318\u001B[0m     \u001B[38;5;28misinstance\u001B[39m(f, \u001B[38;5;28mstr\u001B[39m) \u001B[38;5;129;01mand\u001B[39;00m \u001B[38;5;129;01mnot\u001B[39;00m \u001B[38;5;28many\u001B[39m(x \u001B[38;5;129;01min\u001B[39;00m f \u001B[38;5;28;01mfor\u001B[39;00m x \u001B[38;5;129;01min\u001B[39;00m [\u001B[38;5;124m\"\u001B[39m\u001B[38;5;124m[\u001B[39m\u001B[38;5;124m\"\u001B[39m, \u001B[38;5;124m\"\u001B[39m\u001B[38;5;124m]\u001B[39m\u001B[38;5;124m\"\u001B[39m, \u001B[38;5;124m\"\u001B[39m\u001B[38;5;124m<\u001B[39m\u001B[38;5;124m\"\u001B[39m])\n\u001B[0;32m   1319\u001B[0m     \u001B[38;5;28;01mfor\u001B[39;00m f \u001B[38;5;129;01min\u001B[39;00m feature_names\n\u001B[0;32m   1320\u001B[0m ):\n\u001B[1;32m-> 1321\u001B[0m     \u001B[38;5;28;01mraise\u001B[39;00m \u001B[38;5;167;01mValueError\u001B[39;00m(\n\u001B[0;32m   1322\u001B[0m         \u001B[38;5;124m\"\u001B[39m\u001B[38;5;124mfeature_names must be string, and may not contain [, ] or <\u001B[39m\u001B[38;5;124m\"\u001B[39m\n\u001B[0;32m   1323\u001B[0m     )\n\u001B[0;32m   1325\u001B[0m feature_names_bytes \u001B[38;5;241m=\u001B[39m [\u001B[38;5;28mbytes\u001B[39m(f, encoding\u001B[38;5;241m=\u001B[39m\u001B[38;5;124m\"\u001B[39m\u001B[38;5;124mutf-8\u001B[39m\u001B[38;5;124m\"\u001B[39m) \u001B[38;5;28;01mfor\u001B[39;00m f \u001B[38;5;129;01min\u001B[39;00m feature_names]\n\u001B[0;32m   1326\u001B[0m c_feature_names \u001B[38;5;241m=\u001B[39m (ctypes\u001B[38;5;241m.\u001B[39mc_char_p \u001B[38;5;241m*\u001B[39m \u001B[38;5;28mlen\u001B[39m(feature_names_bytes))(\n\u001B[0;32m   1327\u001B[0m     \u001B[38;5;241m*\u001B[39mfeature_names_bytes\n\u001B[0;32m   1328\u001B[0m )\n",
      "\u001B[1;31mValueError\u001B[0m: feature_names must be string, and may not contain [, ] or <"
     ]
    }
   ],
   "source": [],
   "metadata": {
    "collapsed": false,
    "pycharm": {
     "name": "#%%\n"
    }
   }
  },
  {
   "cell_type": "code",
   "execution_count": 81,
   "outputs": [
    {
     "data": {
      "text/plain": "<9411x10 sparse matrix of type '<class 'numpy.float64'>'\n\twith 84699 stored elements in Compressed Sparse Row format>"
     },
     "execution_count": 81,
     "metadata": {},
     "output_type": "execute_result"
    }
   ],
   "source": [
    "X_train"
   ],
   "metadata": {
    "collapsed": false,
    "pycharm": {
     "name": "#%%\n"
    }
   }
  },
  {
   "cell_type": "code",
   "execution_count": 82,
   "outputs": [
    {
     "data": {
      "text/plain": "      longitude  latitude  housing_median_age  total_rooms  total_bedrooms  \\\n0       -120.25     37.93                13.0        493.0            76.0   \n1       -118.40     34.00                10.0       1526.0           339.0   \n2       -121.67     38.85                46.0        645.0           131.0   \n3       -118.14     33.88                24.0       3305.0           982.0   \n4       -118.11     33.92                34.0       1414.0           263.0   \n...         ...       ...                 ...          ...             ...   \n9406    -118.00     34.12                37.0       1340.0           325.0   \n9407    -118.10     34.10                34.0       2578.0           645.0   \n9408    -117.45     34.01                26.0       3042.0           598.0   \n9409    -117.94     34.03                35.0       1375.0           249.0   \n9410    -120.02     36.80                25.0       1270.0           255.0   \n\n      population  households  median_income ocean_proximity  \n0          196.0        68.0         3.3750          inland  \n1          705.0       268.0         5.8083       <1h_ocean  \n2          410.0       122.0         1.7417          inland  \n3         2085.0       881.0         2.6641       <1h_ocean  \n4          983.0       264.0         4.1767       <1h_ocean  \n...          ...         ...            ...             ...  \n9406       928.0       333.0         3.9219          inland  \n9407      1628.0       617.0         2.3400       <1h_ocean  \n9408      1720.0       551.0         2.7600          inland  \n9409      1015.0       239.0         4.0521       <1h_ocean  \n9410      1050.0       245.0         2.1618          inland  \n\n[9411 rows x 9 columns]",
      "text/html": "<div>\n<style scoped>\n    .dataframe tbody tr th:only-of-type {\n        vertical-align: middle;\n    }\n\n    .dataframe tbody tr th {\n        vertical-align: top;\n    }\n\n    .dataframe thead th {\n        text-align: right;\n    }\n</style>\n<table border=\"1\" class=\"dataframe\">\n  <thead>\n    <tr style=\"text-align: right;\">\n      <th></th>\n      <th>longitude</th>\n      <th>latitude</th>\n      <th>housing_median_age</th>\n      <th>total_rooms</th>\n      <th>total_bedrooms</th>\n      <th>population</th>\n      <th>households</th>\n      <th>median_income</th>\n      <th>ocean_proximity</th>\n    </tr>\n  </thead>\n  <tbody>\n    <tr>\n      <th>0</th>\n      <td>-120.25</td>\n      <td>37.93</td>\n      <td>13.0</td>\n      <td>493.0</td>\n      <td>76.0</td>\n      <td>196.0</td>\n      <td>68.0</td>\n      <td>3.3750</td>\n      <td>inland</td>\n    </tr>\n    <tr>\n      <th>1</th>\n      <td>-118.40</td>\n      <td>34.00</td>\n      <td>10.0</td>\n      <td>1526.0</td>\n      <td>339.0</td>\n      <td>705.0</td>\n      <td>268.0</td>\n      <td>5.8083</td>\n      <td>&lt;1h_ocean</td>\n    </tr>\n    <tr>\n      <th>2</th>\n      <td>-121.67</td>\n      <td>38.85</td>\n      <td>46.0</td>\n      <td>645.0</td>\n      <td>131.0</td>\n      <td>410.0</td>\n      <td>122.0</td>\n      <td>1.7417</td>\n      <td>inland</td>\n    </tr>\n    <tr>\n      <th>3</th>\n      <td>-118.14</td>\n      <td>33.88</td>\n      <td>24.0</td>\n      <td>3305.0</td>\n      <td>982.0</td>\n      <td>2085.0</td>\n      <td>881.0</td>\n      <td>2.6641</td>\n      <td>&lt;1h_ocean</td>\n    </tr>\n    <tr>\n      <th>4</th>\n      <td>-118.11</td>\n      <td>33.92</td>\n      <td>34.0</td>\n      <td>1414.0</td>\n      <td>263.0</td>\n      <td>983.0</td>\n      <td>264.0</td>\n      <td>4.1767</td>\n      <td>&lt;1h_ocean</td>\n    </tr>\n    <tr>\n      <th>...</th>\n      <td>...</td>\n      <td>...</td>\n      <td>...</td>\n      <td>...</td>\n      <td>...</td>\n      <td>...</td>\n      <td>...</td>\n      <td>...</td>\n      <td>...</td>\n    </tr>\n    <tr>\n      <th>9406</th>\n      <td>-118.00</td>\n      <td>34.12</td>\n      <td>37.0</td>\n      <td>1340.0</td>\n      <td>325.0</td>\n      <td>928.0</td>\n      <td>333.0</td>\n      <td>3.9219</td>\n      <td>inland</td>\n    </tr>\n    <tr>\n      <th>9407</th>\n      <td>-118.10</td>\n      <td>34.10</td>\n      <td>34.0</td>\n      <td>2578.0</td>\n      <td>645.0</td>\n      <td>1628.0</td>\n      <td>617.0</td>\n      <td>2.3400</td>\n      <td>&lt;1h_ocean</td>\n    </tr>\n    <tr>\n      <th>9408</th>\n      <td>-117.45</td>\n      <td>34.01</td>\n      <td>26.0</td>\n      <td>3042.0</td>\n      <td>598.0</td>\n      <td>1720.0</td>\n      <td>551.0</td>\n      <td>2.7600</td>\n      <td>inland</td>\n    </tr>\n    <tr>\n      <th>9409</th>\n      <td>-117.94</td>\n      <td>34.03</td>\n      <td>35.0</td>\n      <td>1375.0</td>\n      <td>249.0</td>\n      <td>1015.0</td>\n      <td>239.0</td>\n      <td>4.0521</td>\n      <td>&lt;1h_ocean</td>\n    </tr>\n    <tr>\n      <th>9410</th>\n      <td>-120.02</td>\n      <td>36.80</td>\n      <td>25.0</td>\n      <td>1270.0</td>\n      <td>255.0</td>\n      <td>1050.0</td>\n      <td>245.0</td>\n      <td>2.1618</td>\n      <td>inland</td>\n    </tr>\n  </tbody>\n</table>\n<p>9411 rows × 9 columns</p>\n</div>"
     },
     "execution_count": 82,
     "metadata": {},
     "output_type": "execute_result"
    }
   ],
   "source": [
    "df_train"
   ],
   "metadata": {
    "collapsed": false,
    "pycharm": {
     "name": "#%%\n"
    }
   }
  },
  {
   "cell_type": "code",
   "execution_count": 83,
   "outputs": [],
   "source": [
    "df_train['ocean_proximity']=df_train['ocean_proximity'].replace(to_replace='<1h_ocean', value='in_ocean')"
   ],
   "metadata": {
    "collapsed": false,
    "pycharm": {
     "name": "#%%\n"
    }
   }
  },
  {
   "cell_type": "code",
   "execution_count": 84,
   "outputs": [
    {
     "data": {
      "text/plain": "      longitude  latitude  housing_median_age  total_rooms  total_bedrooms  \\\n0       -120.25     37.93                13.0        493.0            76.0   \n1       -118.40     34.00                10.0       1526.0           339.0   \n2       -121.67     38.85                46.0        645.0           131.0   \n3       -118.14     33.88                24.0       3305.0           982.0   \n4       -118.11     33.92                34.0       1414.0           263.0   \n...         ...       ...                 ...          ...             ...   \n9406    -118.00     34.12                37.0       1340.0           325.0   \n9407    -118.10     34.10                34.0       2578.0           645.0   \n9408    -117.45     34.01                26.0       3042.0           598.0   \n9409    -117.94     34.03                35.0       1375.0           249.0   \n9410    -120.02     36.80                25.0       1270.0           255.0   \n\n      population  households  median_income ocean_proximity  \n0          196.0        68.0         3.3750          inland  \n1          705.0       268.0         5.8083        in_ocean  \n2          410.0       122.0         1.7417          inland  \n3         2085.0       881.0         2.6641        in_ocean  \n4          983.0       264.0         4.1767        in_ocean  \n...          ...         ...            ...             ...  \n9406       928.0       333.0         3.9219          inland  \n9407      1628.0       617.0         2.3400        in_ocean  \n9408      1720.0       551.0         2.7600          inland  \n9409      1015.0       239.0         4.0521        in_ocean  \n9410      1050.0       245.0         2.1618          inland  \n\n[9411 rows x 9 columns]",
      "text/html": "<div>\n<style scoped>\n    .dataframe tbody tr th:only-of-type {\n        vertical-align: middle;\n    }\n\n    .dataframe tbody tr th {\n        vertical-align: top;\n    }\n\n    .dataframe thead th {\n        text-align: right;\n    }\n</style>\n<table border=\"1\" class=\"dataframe\">\n  <thead>\n    <tr style=\"text-align: right;\">\n      <th></th>\n      <th>longitude</th>\n      <th>latitude</th>\n      <th>housing_median_age</th>\n      <th>total_rooms</th>\n      <th>total_bedrooms</th>\n      <th>population</th>\n      <th>households</th>\n      <th>median_income</th>\n      <th>ocean_proximity</th>\n    </tr>\n  </thead>\n  <tbody>\n    <tr>\n      <th>0</th>\n      <td>-120.25</td>\n      <td>37.93</td>\n      <td>13.0</td>\n      <td>493.0</td>\n      <td>76.0</td>\n      <td>196.0</td>\n      <td>68.0</td>\n      <td>3.3750</td>\n      <td>inland</td>\n    </tr>\n    <tr>\n      <th>1</th>\n      <td>-118.40</td>\n      <td>34.00</td>\n      <td>10.0</td>\n      <td>1526.0</td>\n      <td>339.0</td>\n      <td>705.0</td>\n      <td>268.0</td>\n      <td>5.8083</td>\n      <td>in_ocean</td>\n    </tr>\n    <tr>\n      <th>2</th>\n      <td>-121.67</td>\n      <td>38.85</td>\n      <td>46.0</td>\n      <td>645.0</td>\n      <td>131.0</td>\n      <td>410.0</td>\n      <td>122.0</td>\n      <td>1.7417</td>\n      <td>inland</td>\n    </tr>\n    <tr>\n      <th>3</th>\n      <td>-118.14</td>\n      <td>33.88</td>\n      <td>24.0</td>\n      <td>3305.0</td>\n      <td>982.0</td>\n      <td>2085.0</td>\n      <td>881.0</td>\n      <td>2.6641</td>\n      <td>in_ocean</td>\n    </tr>\n    <tr>\n      <th>4</th>\n      <td>-118.11</td>\n      <td>33.92</td>\n      <td>34.0</td>\n      <td>1414.0</td>\n      <td>263.0</td>\n      <td>983.0</td>\n      <td>264.0</td>\n      <td>4.1767</td>\n      <td>in_ocean</td>\n    </tr>\n    <tr>\n      <th>...</th>\n      <td>...</td>\n      <td>...</td>\n      <td>...</td>\n      <td>...</td>\n      <td>...</td>\n      <td>...</td>\n      <td>...</td>\n      <td>...</td>\n      <td>...</td>\n    </tr>\n    <tr>\n      <th>9406</th>\n      <td>-118.00</td>\n      <td>34.12</td>\n      <td>37.0</td>\n      <td>1340.0</td>\n      <td>325.0</td>\n      <td>928.0</td>\n      <td>333.0</td>\n      <td>3.9219</td>\n      <td>inland</td>\n    </tr>\n    <tr>\n      <th>9407</th>\n      <td>-118.10</td>\n      <td>34.10</td>\n      <td>34.0</td>\n      <td>2578.0</td>\n      <td>645.0</td>\n      <td>1628.0</td>\n      <td>617.0</td>\n      <td>2.3400</td>\n      <td>in_ocean</td>\n    </tr>\n    <tr>\n      <th>9408</th>\n      <td>-117.45</td>\n      <td>34.01</td>\n      <td>26.0</td>\n      <td>3042.0</td>\n      <td>598.0</td>\n      <td>1720.0</td>\n      <td>551.0</td>\n      <td>2.7600</td>\n      <td>inland</td>\n    </tr>\n    <tr>\n      <th>9409</th>\n      <td>-117.94</td>\n      <td>34.03</td>\n      <td>35.0</td>\n      <td>1375.0</td>\n      <td>249.0</td>\n      <td>1015.0</td>\n      <td>239.0</td>\n      <td>4.0521</td>\n      <td>in_ocean</td>\n    </tr>\n    <tr>\n      <th>9410</th>\n      <td>-120.02</td>\n      <td>36.80</td>\n      <td>25.0</td>\n      <td>1270.0</td>\n      <td>255.0</td>\n      <td>1050.0</td>\n      <td>245.0</td>\n      <td>2.1618</td>\n      <td>inland</td>\n    </tr>\n  </tbody>\n</table>\n<p>9411 rows × 9 columns</p>\n</div>"
     },
     "execution_count": 84,
     "metadata": {},
     "output_type": "execute_result"
    }
   ],
   "source": [
    "df_train"
   ],
   "metadata": {
    "collapsed": false,
    "pycharm": {
     "name": "#%%\n"
    }
   }
  },
  {
   "cell_type": "code",
   "execution_count": 85,
   "outputs": [],
   "source": [
    "df_val['ocean_proximity']=df_val['ocean_proximity'].replace(to_replace='<1h_ocean', value='in_ocean')\n",
    "df_test['ocean_proximity']=df_test['ocean_proximity'].replace(to_replace='<1h_ocean', value='in_ocean')\n"
   ],
   "metadata": {
    "collapsed": false,
    "pycharm": {
     "name": "#%%\n"
    }
   }
  },
  {
   "cell_type": "code",
   "execution_count": 86,
   "outputs": [],
   "source": [
    "dv=DictVectorizer(sparse=True)\n",
    "\n",
    "dict_train=df_train.to_dict(orient='records')\n",
    "dict_val=df_val.to_dict(orient='records')\n",
    "dict_test=df_test.to_dict(orient='records')\n",
    "\n",
    "X_train=dv.fit_transform(dict_train)\n",
    "\n",
    "X_val=dv.transform(dict_val)\n",
    "X_test=dv.transform(dict_test)"
   ],
   "metadata": {
    "collapsed": false,
    "pycharm": {
     "name": "#%%\n"
    }
   }
  },
  {
   "cell_type": "code",
   "execution_count": 87,
   "outputs": [],
   "source": [
    "import xgboost as xgb\n",
    "\n",
    "dtrain = xgb.DMatrix(X_train, label=y_train, feature_names=dv.feature_names_)\n",
    "dval = xgb.DMatrix(X_val, label=y_val, feature_names=dv.feature_names_)"
   ],
   "metadata": {
    "collapsed": false,
    "pycharm": {
     "name": "#%%\n"
    }
   }
  },
  {
   "cell_type": "code",
   "execution_count": 97,
   "outputs": [],
   "source": [
    "xgb_params = {\n",
    "    'eta': 0.3,\n",
    "    'max_depth': 6,\n",
    "    'min_child_weight': 1,\n",
    "\n",
    "    'objective': 'reg:squarederror',\n",
    "    'nthread': 8,\n",
    "\n",
    "    'seed': 1,\n",
    "    'verbosity': 1,\n",
    "}\n",
    "\n",
    "watchlist = [(dtrain, 'train'), (dval, 'val')]\n"
   ],
   "metadata": {
    "collapsed": false,
    "pycharm": {
     "name": "#%%\n"
    }
   }
  },
  {
   "cell_type": "code",
   "execution_count": 98,
   "outputs": [
    {
     "name": "stdout",
     "output_type": "stream",
     "text": [
      "[0]\ttrain-rmse:0.44350\tval-rmse:0.44250\n",
      "[10]\ttrain-rmse:0.21444\tval-rmse:0.25179\n",
      "[20]\ttrain-rmse:0.18524\tval-rmse:0.23978\n",
      "[30]\ttrain-rmse:0.16888\tval-rmse:0.23570\n",
      "[40]\ttrain-rmse:0.15542\tval-rmse:0.23318\n",
      "[50]\ttrain-rmse:0.14536\tval-rmse:0.23225\n",
      "[60]\ttrain-rmse:0.13719\tval-rmse:0.23139\n",
      "[70]\ttrain-rmse:0.12943\tval-rmse:0.23068\n",
      "[80]\ttrain-rmse:0.12192\tval-rmse:0.22886\n",
      "[90]\ttrain-rmse:0.11496\tval-rmse:0.22861\n",
      "[99]\ttrain-rmse:0.10989\tval-rmse:0.22862\n"
     ]
    }
   ],
   "source": [
    "model = xgb.train(xgb_params, dtrain,\n",
    "                  num_boost_round=100, verbose_eval=10,\n",
    "                  evals=watchlist)"
   ],
   "metadata": {
    "collapsed": false,
    "pycharm": {
     "name": "#%%\n"
    }
   }
  },
  {
   "cell_type": "code",
   "execution_count": 99,
   "outputs": [
    {
     "data": {
      "text/plain": "0.228623199980106"
     },
     "execution_count": 99,
     "metadata": {},
     "output_type": "execute_result"
    }
   ],
   "source": [
    "y_pred = model.predict(dval)\n",
    "rmse(y_val, y_pred)"
   ],
   "metadata": {
    "collapsed": false,
    "pycharm": {
     "name": "#%%\n"
    }
   }
  },
  {
   "cell_type": "code",
   "execution_count": 99,
   "outputs": [],
   "source": [],
   "metadata": {
    "collapsed": false,
    "pycharm": {
     "name": "#%%\n"
    }
   }
  },
  {
   "cell_type": "code",
   "execution_count": 100,
   "outputs": [
    {
     "name": "stdout",
     "output_type": "stream",
     "text": [
      "[0]\ttrain-rmse:0.52449\tval-rmse:0.52045\n",
      "[10]\ttrain-rmse:0.30326\tval-rmse:0.31427\n",
      "[20]\ttrain-rmse:0.24512\tval-rmse:0.26882\n",
      "[30]\ttrain-rmse:0.21887\tval-rmse:0.25266\n",
      "[40]\ttrain-rmse:0.20392\tval-rmse:0.24539\n",
      "[50]\ttrain-rmse:0.19215\tval-rmse:0.24020\n",
      "[60]\ttrain-rmse:0.18457\tval-rmse:0.23791\n",
      "[70]\ttrain-rmse:0.17741\tval-rmse:0.23622\n",
      "[80]\ttrain-rmse:0.17242\tval-rmse:0.23453\n",
      "[90]\ttrain-rmse:0.16797\tval-rmse:0.23332\n",
      "[99]\ttrain-rmse:0.16323\tval-rmse:0.23209\n"
     ]
    }
   ],
   "source": [
    "xgb_params = {\n",
    "    'eta': 0.1,\n",
    "    'max_depth': 6,\n",
    "    'min_child_weight': 1,\n",
    "\n",
    "    'objective': 'reg:squarederror',\n",
    "    'nthread': 8,\n",
    "\n",
    "    'seed': 1,\n",
    "    'verbosity': 1,\n",
    "}\n",
    "\n",
    "watchlist = [(dtrain, 'train'), (dval, 'val')]\n",
    "\n",
    "model = xgb.train(xgb_params, dtrain,\n",
    "                  num_boost_round=100, verbose_eval=10,\n",
    "                  evals=watchlist)"
   ],
   "metadata": {
    "collapsed": false,
    "pycharm": {
     "name": "#%%\n"
    }
   }
  },
  {
   "cell_type": "code",
   "execution_count": 101,
   "outputs": [
    {
     "data": {
      "text/plain": "0.23208927121609343"
     },
     "execution_count": 101,
     "metadata": {},
     "output_type": "execute_result"
    }
   ],
   "source": [
    "y_pred = model.predict(dval)\n",
    "rmse(y_val, y_pred)\n"
   ],
   "metadata": {
    "collapsed": false,
    "pycharm": {
     "name": "#%%\n"
    }
   }
  },
  {
   "cell_type": "code",
   "execution_count": null,
   "outputs": [],
   "source": [],
   "metadata": {
    "collapsed": false,
    "pycharm": {
     "name": "#%%\n"
    }
   }
  }
 ],
 "metadata": {
  "kernelspec": {
   "display_name": "Python 3",
   "language": "python",
   "name": "python3"
  },
  "language_info": {
   "codemirror_mode": {
    "name": "ipython",
    "version": 2
   },
   "file_extension": ".py",
   "mimetype": "text/x-python",
   "name": "python",
   "nbconvert_exporter": "python",
   "pygments_lexer": "ipython2",
   "version": "2.7.6"
  }
 },
 "nbformat": 4,
 "nbformat_minor": 0
}